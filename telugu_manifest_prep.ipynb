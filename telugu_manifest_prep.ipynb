{
 "cells": [
  {
   "cell_type": "code",
   "execution_count": null,
   "metadata": {},
   "outputs": [],
   "source": [
    "# importing smaller telugu dataset to test the model's config"
   ]
  },
  {
   "cell_type": "code",
   "execution_count": 1,
   "metadata": {},
   "outputs": [
    {
     "name": "stdout",
     "output_type": "stream",
     "text": [
      "'=3.3.2'    configs\t     lightning_logs.zip   startup_script.sh\t temp\n",
      " NeMo\t    documents\t     notebooks\t\t  te_manifest.json\n",
      " asr_venv   lightning_logs   resources\t\t  te_manifest_val.json\n"
     ]
    }
   ],
   "source": [
    "!ls"
   ]
  },
  {
   "cell_type": "code",
   "execution_count": 20,
   "metadata": {},
   "outputs": [],
   "source": [
    "import pandas as pd"
   ]
  },
  {
   "cell_type": "code",
   "execution_count": 21,
   "metadata": {},
   "outputs": [],
   "source": [
    "# creating the complete manifest\n",
    "\n",
    "te_white_noise = pd.read_csv(\"resources/te_white_noise/te_white_noise_manifest.csv\")\n",
    "te_background_noise = pd.read_csv(\"resources/te_background_noise/te_background_noise_manifest.csv\")\n",
    "te_fleurs = pd.read_csv('resources/te_fleurs/train.csv')\n",
    "te_fleurs_pitch_shifted = pd.read_csv('resources/te_fleurs/pitch_shifted/te_fleurs_pitch_shifted_manifest.csv')\n",
    "te_pitch_shifted = pd.read_csv('resources/te_pitch_shifted/te_pitch_shifted_manifest.csv')\n"
   ]
  },
  {
   "cell_type": "code",
   "execution_count": 22,
   "metadata": {},
   "outputs": [
    {
     "data": {
      "text/html": [
       "<div>\n",
       "<style scoped>\n",
       "    .dataframe tbody tr th:only-of-type {\n",
       "        vertical-align: middle;\n",
       "    }\n",
       "\n",
       "    .dataframe tbody tr th {\n",
       "        vertical-align: top;\n",
       "    }\n",
       "\n",
       "    .dataframe thead th {\n",
       "        text-align: right;\n",
       "    }\n",
       "</style>\n",
       "<table border=\"1\" class=\"dataframe\">\n",
       "  <thead>\n",
       "    <tr style=\"text-align: right;\">\n",
       "      <th></th>\n",
       "      <th>audio_filepath</th>\n",
       "      <th>duration</th>\n",
       "      <th>text</th>\n",
       "      <th>new_audio_filepath</th>\n",
       "    </tr>\n",
       "  </thead>\n",
       "  <tbody>\n",
       "    <tr>\n",
       "      <th>0</th>\n",
       "      <td>resources/newsonair_v5/telugu/NSD-Telugu-Telug...</td>\n",
       "      <td>6.74</td>\n",
       "      <td>పద్దెనిమిది నుంచి నలభై ఐదు ఏళ్ల మధ్య వారు యాప...</td>\n",
       "      <td>resources/te_white_noise/NSD-Telugu-Telugu-070...</td>\n",
       "    </tr>\n",
       "    <tr>\n",
       "      <th>1</th>\n",
       "      <td>resources/newsonair_v5/telugu/NSD-Telugu-Telug...</td>\n",
       "      <td>8.58</td>\n",
       "      <td>రక్షణ శాఖ కార్యదర్శి స్వాగతోపన్యాసంతో ప్రారంభమ...</td>\n",
       "      <td>resources/te_white_noise/NSD-Telugu-Telugu-123...</td>\n",
       "    </tr>\n",
       "    <tr>\n",
       "      <th>2</th>\n",
       "      <td>resources/newsonair_v5/telugu/Regional-Vijayaw...</td>\n",
       "      <td>4.08</td>\n",
       "      <td>పార్లమెంటు రెండో విడత బడ్జెట్ సమావేశాలు ఈరోజు ...</td>\n",
       "      <td>resources/te_white_noise/Regional-Vijayawada-T...</td>\n",
       "    </tr>\n",
       "    <tr>\n",
       "      <th>3</th>\n",
       "      <td>resources/newsonair_v5/telugu/Regional-Hyderab...</td>\n",
       "      <td>9.24</td>\n",
       "      <td>పాఠశాల విద్యా నాణ్యత ప్రమాణాలను పెంచేందుకు అంక...</td>\n",
       "      <td>resources/te_white_noise/Regional-Hyderabad-Te...</td>\n",
       "    </tr>\n",
       "    <tr>\n",
       "      <th>4</th>\n",
       "      <td>resources/newsonair_v5/telugu/Regional-Hyderab...</td>\n",
       "      <td>9.20</td>\n",
       "      <td>ఈరోజు ప్రపంచ వన్యప్రాణి పరిరక్షణ దినోత్సవం సంద...</td>\n",
       "      <td>resources/te_white_noise/Regional-Hyderabad-Te...</td>\n",
       "    </tr>\n",
       "  </tbody>\n",
       "</table>\n",
       "</div>"
      ],
      "text/plain": [
       "                                      audio_filepath  duration  \\\n",
       "0  resources/newsonair_v5/telugu/NSD-Telugu-Telug...      6.74   \n",
       "1  resources/newsonair_v5/telugu/NSD-Telugu-Telug...      8.58   \n",
       "2  resources/newsonair_v5/telugu/Regional-Vijayaw...      4.08   \n",
       "3  resources/newsonair_v5/telugu/Regional-Hyderab...      9.24   \n",
       "4  resources/newsonair_v5/telugu/Regional-Hyderab...      9.20   \n",
       "\n",
       "                                                text  \\\n",
       "0  పద్దెనిమిది నుంచి నలభై ఐదు ఏళ్ల మధ్య వారు యాప...   \n",
       "1  రక్షణ శాఖ కార్యదర్శి స్వాగతోపన్యాసంతో ప్రారంభమ...   \n",
       "2  పార్లమెంటు రెండో విడత బడ్జెట్ సమావేశాలు ఈరోజు ...   \n",
       "3  పాఠశాల విద్యా నాణ్యత ప్రమాణాలను పెంచేందుకు అంక...   \n",
       "4  ఈరోజు ప్రపంచ వన్యప్రాణి పరిరక్షణ దినోత్సవం సంద...   \n",
       "\n",
       "                                  new_audio_filepath  \n",
       "0  resources/te_white_noise/NSD-Telugu-Telugu-070...  \n",
       "1  resources/te_white_noise/NSD-Telugu-Telugu-123...  \n",
       "2  resources/te_white_noise/Regional-Vijayawada-T...  \n",
       "3  resources/te_white_noise/Regional-Hyderabad-Te...  \n",
       "4  resources/te_white_noise/Regional-Hyderabad-Te...  "
      ]
     },
     "execution_count": 22,
     "metadata": {},
     "output_type": "execute_result"
    }
   ],
   "source": [
    "te_white_noise.head()"
   ]
  },
  {
   "cell_type": "code",
   "execution_count": 65,
   "metadata": {},
   "outputs": [
    {
     "data": {
      "text/html": [
       "<div>\n",
       "<style scoped>\n",
       "    .dataframe tbody tr th:only-of-type {\n",
       "        vertical-align: middle;\n",
       "    }\n",
       "\n",
       "    .dataframe tbody tr th {\n",
       "        vertical-align: top;\n",
       "    }\n",
       "\n",
       "    .dataframe thead th {\n",
       "        text-align: right;\n",
       "    }\n",
       "</style>\n",
       "<table border=\"1\" class=\"dataframe\">\n",
       "  <thead>\n",
       "    <tr style=\"text-align: right;\">\n",
       "      <th></th>\n",
       "      <th>duration</th>\n",
       "      <th>text</th>\n",
       "      <th>audio_filepath</th>\n",
       "    </tr>\n",
       "  </thead>\n",
       "  <tbody>\n",
       "    <tr>\n",
       "      <th>0</th>\n",
       "      <td>6.74</td>\n",
       "      <td>పద్దెనిమిది నుంచి నలభై ఐదు ఏళ్ల మధ్య వారు యాప...</td>\n",
       "      <td>resources/te_white_noise/NSD-Telugu-Telugu-070...</td>\n",
       "    </tr>\n",
       "    <tr>\n",
       "      <th>1</th>\n",
       "      <td>8.58</td>\n",
       "      <td>రక్షణ శాఖ కార్యదర్శి స్వాగతోపన్యాసంతో ప్రారంభమ...</td>\n",
       "      <td>resources/te_white_noise/NSD-Telugu-Telugu-123...</td>\n",
       "    </tr>\n",
       "    <tr>\n",
       "      <th>2</th>\n",
       "      <td>4.08</td>\n",
       "      <td>పార్లమెంటు రెండో విడత బడ్జెట్ సమావేశాలు ఈరోజు ...</td>\n",
       "      <td>resources/te_white_noise/Regional-Vijayawada-T...</td>\n",
       "    </tr>\n",
       "    <tr>\n",
       "      <th>3</th>\n",
       "      <td>9.24</td>\n",
       "      <td>పాఠశాల విద్యా నాణ్యత ప్రమాణాలను పెంచేందుకు అంక...</td>\n",
       "      <td>resources/te_white_noise/Regional-Hyderabad-Te...</td>\n",
       "    </tr>\n",
       "    <tr>\n",
       "      <th>4</th>\n",
       "      <td>9.20</td>\n",
       "      <td>ఈరోజు ప్రపంచ వన్యప్రాణి పరిరక్షణ దినోత్సవం సంద...</td>\n",
       "      <td>resources/te_white_noise/Regional-Hyderabad-Te...</td>\n",
       "    </tr>\n",
       "  </tbody>\n",
       "</table>\n",
       "</div>"
      ],
      "text/plain": [
       "   duration                                               text  \\\n",
       "0      6.74  పద్దెనిమిది నుంచి నలభై ఐదు ఏళ్ల మధ్య వారు యాప...   \n",
       "1      8.58  రక్షణ శాఖ కార్యదర్శి స్వాగతోపన్యాసంతో ప్రారంభమ...   \n",
       "2      4.08  పార్లమెంటు రెండో విడత బడ్జెట్ సమావేశాలు ఈరోజు ...   \n",
       "3      9.24  పాఠశాల విద్యా నాణ్యత ప్రమాణాలను పెంచేందుకు అంక...   \n",
       "4      9.20  ఈరోజు ప్రపంచ వన్యప్రాణి పరిరక్షణ దినోత్సవం సంద...   \n",
       "\n",
       "                                      audio_filepath  \n",
       "0  resources/te_white_noise/NSD-Telugu-Telugu-070...  \n",
       "1  resources/te_white_noise/NSD-Telugu-Telugu-123...  \n",
       "2  resources/te_white_noise/Regional-Vijayawada-T...  \n",
       "3  resources/te_white_noise/Regional-Hyderabad-Te...  \n",
       "4  resources/te_white_noise/Regional-Hyderabad-Te...  "
      ]
     },
     "execution_count": 65,
     "metadata": {},
     "output_type": "execute_result"
    }
   ],
   "source": [
    "# drop audio_filepath and rename new_audio_filepath to audio_filepath\n",
    "\n",
    "te_white_noise.drop(columns=['audio_filepath'], inplace=True)\n",
    "te_white_noise.rename(columns={'new_audio_filepath': 'audio_filepath'}, inplace=True)\n",
    "te_white_noise.head()"
   ]
  },
  {
   "cell_type": "code",
   "execution_count": 18,
   "metadata": {},
   "outputs": [
    {
     "ename": "NameError",
     "evalue": "name 'te_background_noise' is not defined",
     "output_type": "error",
     "traceback": [
      "\u001b[0;31m---------------------------------------------------------------------------\u001b[0m",
      "\u001b[0;31mNameError\u001b[0m                                 Traceback (most recent call last)",
      "\u001b[0;32m/tmp/ipykernel_2174/1120111584.py\u001b[0m in \u001b[0;36m<module>\u001b[0;34m\u001b[0m\n\u001b[0;32m----> 1\u001b[0;31m \u001b[0mte_background_noise\u001b[0m\u001b[0;34m.\u001b[0m\u001b[0mdrop\u001b[0m\u001b[0;34m(\u001b[0m\u001b[0mcolumns\u001b[0m\u001b[0;34m=\u001b[0m\u001b[0;34m[\u001b[0m\u001b[0;34m'audio_filepath'\u001b[0m\u001b[0;34m]\u001b[0m\u001b[0;34m,\u001b[0m \u001b[0minplace\u001b[0m\u001b[0;34m=\u001b[0m\u001b[0;32mTrue\u001b[0m\u001b[0;34m)\u001b[0m\u001b[0;34m\u001b[0m\u001b[0;34m\u001b[0m\u001b[0m\n\u001b[0m\u001b[1;32m      2\u001b[0m \u001b[0mte_background_noise\u001b[0m\u001b[0;34m.\u001b[0m\u001b[0mrename\u001b[0m\u001b[0;34m(\u001b[0m\u001b[0mcolumns\u001b[0m\u001b[0;34m=\u001b[0m\u001b[0;34m{\u001b[0m\u001b[0;34m'new_audio_filepath'\u001b[0m\u001b[0;34m:\u001b[0m \u001b[0;34m'audio_filepath'\u001b[0m\u001b[0;34m}\u001b[0m\u001b[0;34m,\u001b[0m \u001b[0minplace\u001b[0m\u001b[0;34m=\u001b[0m\u001b[0;32mTrue\u001b[0m\u001b[0;34m)\u001b[0m\u001b[0;34m\u001b[0m\u001b[0;34m\u001b[0m\u001b[0m\n\u001b[1;32m      3\u001b[0m \u001b[0mte_background_noise\u001b[0m\u001b[0;34m.\u001b[0m\u001b[0mhead\u001b[0m\u001b[0;34m(\u001b[0m\u001b[0;34m)\u001b[0m\u001b[0;34m\u001b[0m\u001b[0;34m\u001b[0m\u001b[0m\n",
      "\u001b[0;31mNameError\u001b[0m: name 'te_background_noise' is not defined"
     ]
    }
   ],
   "source": [
    "te_background_noise.drop(columns=['audio_filepath'], inplace=True)\n",
    "te_background_noise.rename(columns={'new_audio_filepath': 'audio_filepath'}, inplace=True)\n",
    "te_background_noise.head()"
   ]
  },
  {
   "cell_type": "code",
   "execution_count": 67,
   "metadata": {},
   "outputs": [],
   "source": [
    "te_fleurs.rename(columns={'transcriptions': 'text'}, inplace=True)"
   ]
  },
  {
   "cell_type": "code",
   "execution_count": 68,
   "metadata": {},
   "outputs": [
    {
     "data": {
      "text/html": [
       "<div>\n",
       "<style scoped>\n",
       "    .dataframe tbody tr th:only-of-type {\n",
       "        vertical-align: middle;\n",
       "    }\n",
       "\n",
       "    .dataframe tbody tr th {\n",
       "        vertical-align: top;\n",
       "    }\n",
       "\n",
       "    .dataframe thead th {\n",
       "        text-align: right;\n",
       "    }\n",
       "</style>\n",
       "<table border=\"1\" class=\"dataframe\">\n",
       "  <thead>\n",
       "    <tr style=\"text-align: right;\">\n",
       "      <th></th>\n",
       "      <th>audio_filepath</th>\n",
       "      <th>text</th>\n",
       "      <th>sample_rate</th>\n",
       "      <th>duration</th>\n",
       "    </tr>\n",
       "  </thead>\n",
       "  <tbody>\n",
       "    <tr>\n",
       "      <th>0</th>\n",
       "      <td>resources/te_fleurs/train/16751597673116166984...</td>\n",
       "      <td>చల్లని వాతావరణాల్లో శ్వాస సంబంధిత సమస్యలు వలె,...</td>\n",
       "      <td>253440</td>\n",
       "      <td>15.84</td>\n",
       "    </tr>\n",
       "    <tr>\n",
       "      <th>1</th>\n",
       "      <td>resources/te_fleurs/train/13086014754082864911...</td>\n",
       "      <td>వాటికన్ సిటీ పౌరులు అందరూ రోమన్ కాథలిక్‌లు.</td>\n",
       "      <td>101760</td>\n",
       "      <td>6.36</td>\n",
       "    </tr>\n",
       "    <tr>\n",
       "      <th>2</th>\n",
       "      <td>resources/te_fleurs/train/14464725489867066022...</td>\n",
       "      <td>ఇంతకు ముందు ఎన్నడూ చూడని విధంగా  మెదడు నిర్మాణ...</td>\n",
       "      <td>190080</td>\n",
       "      <td>11.88</td>\n",
       "    </tr>\n",
       "    <tr>\n",
       "      <th>3</th>\n",
       "      <td>resources/te_fleurs/train/1057018260503788192.wav</td>\n",
       "      <td>ఒక విషయం ఏమిటంటే, ఉత్తర న్యూ మెక్సికోలో తాగి డ...</td>\n",
       "      <td>255360</td>\n",
       "      <td>15.96</td>\n",
       "    </tr>\n",
       "    <tr>\n",
       "      <th>4</th>\n",
       "      <td>resources/te_fleurs/train/15519568632941226638...</td>\n",
       "      <td>అలోన్సో ముందున్న కార్లు సేఫ్టీ కారు కింద ఇంధనం...</td>\n",
       "      <td>214080</td>\n",
       "      <td>13.38</td>\n",
       "    </tr>\n",
       "  </tbody>\n",
       "</table>\n",
       "</div>"
      ],
      "text/plain": [
       "                                      audio_filepath  \\\n",
       "0  resources/te_fleurs/train/16751597673116166984...   \n",
       "1  resources/te_fleurs/train/13086014754082864911...   \n",
       "2  resources/te_fleurs/train/14464725489867066022...   \n",
       "3  resources/te_fleurs/train/1057018260503788192.wav   \n",
       "4  resources/te_fleurs/train/15519568632941226638...   \n",
       "\n",
       "                                                text sample_rate  duration  \n",
       "0  చల్లని వాతావరణాల్లో శ్వాస సంబంధిత సమస్యలు వలె,...      253440     15.84  \n",
       "1        వాటికన్ సిటీ పౌరులు అందరూ రోమన్ కాథలిక్‌లు.      101760      6.36  \n",
       "2  ఇంతకు ముందు ఎన్నడూ చూడని విధంగా  మెదడు నిర్మాణ...      190080     11.88  \n",
       "3  ఒక విషయం ఏమిటంటే, ఉత్తర న్యూ మెక్సికోలో తాగి డ...      255360     15.96  \n",
       "4  అలోన్సో ముందున్న కార్లు సేఫ్టీ కారు కింద ఇంధనం...      214080     13.38  "
      ]
     },
     "execution_count": 68,
     "metadata": {},
     "output_type": "execute_result"
    }
   ],
   "source": [
    "te_fleurs.head()"
   ]
  },
  {
   "cell_type": "code",
   "execution_count": 69,
   "metadata": {},
   "outputs": [
    {
     "data": {
      "text/html": [
       "<div>\n",
       "<style scoped>\n",
       "    .dataframe tbody tr th:only-of-type {\n",
       "        vertical-align: middle;\n",
       "    }\n",
       "\n",
       "    .dataframe tbody tr th {\n",
       "        vertical-align: top;\n",
       "    }\n",
       "\n",
       "    .dataframe thead th {\n",
       "        text-align: right;\n",
       "    }\n",
       "</style>\n",
       "<table border=\"1\" class=\"dataframe\">\n",
       "  <thead>\n",
       "    <tr style=\"text-align: right;\">\n",
       "      <th></th>\n",
       "      <th>audio_filepath</th>\n",
       "      <th>transcriptions</th>\n",
       "      <th>sample_rate</th>\n",
       "      <th>duration</th>\n",
       "      <th>new_audio_filepath</th>\n",
       "    </tr>\n",
       "  </thead>\n",
       "  <tbody>\n",
       "    <tr>\n",
       "      <th>0</th>\n",
       "      <td>resources/te_fleurs/train/17868828176923608423...</td>\n",
       "      <td>అవి గదులలాగా ఉన్నాయి. అతను చనిపోయిన కణాలను గుర...</td>\n",
       "      <td>120960</td>\n",
       "      <td>7.56</td>\n",
       "      <td>resources/te_fleurs/pitch_shifted/178688281769...</td>\n",
       "    </tr>\n",
       "    <tr>\n",
       "      <th>1</th>\n",
       "      <td>resources/te_fleurs/train/14245662570721842048...</td>\n",
       "      <td>ఆస్ట్రేలియా మాజీ సంప్రదాయవాద ప్రభుత్వం క్యోటోన...</td>\n",
       "      <td>295680</td>\n",
       "      <td>18.48</td>\n",
       "      <td>resources/te_fleurs/pitch_shifted/142456625707...</td>\n",
       "    </tr>\n",
       "    <tr>\n",
       "      <th>2</th>\n",
       "      <td>resources/te_fleurs/train/13354602618233886868...</td>\n",
       "      <td>పెద్ద గాయాలు ఏవీ నమోదు కాలేదు, కానీ పేలుడు సమయ...</td>\n",
       "      <td>167040</td>\n",
       "      <td>10.44</td>\n",
       "      <td>resources/te_fleurs/pitch_shifted/133546026182...</td>\n",
       "    </tr>\n",
       "    <tr>\n",
       "      <th>3</th>\n",
       "      <td>resources/te_fleurs/train/9471343398098868152.wav</td>\n",
       "      <td>World War I మరియు World War IIలో సబ్‌మెరైన్‌లన...</td>\n",
       "      <td>318720</td>\n",
       "      <td>19.92</td>\n",
       "      <td>resources/te_fleurs/pitch_shifted/947134339809...</td>\n",
       "    </tr>\n",
       "    <tr>\n",
       "      <th>4</th>\n",
       "      <td>resources/te_fleurs/train/2002088035136879191.wav</td>\n",
       "      <td>మధ్య దూర పరుగు అనేది సాపేక్షంగా చవకైన క్రీడ; అ...</td>\n",
       "      <td>202560</td>\n",
       "      <td>12.66</td>\n",
       "      <td>resources/te_fleurs/pitch_shifted/200208803513...</td>\n",
       "    </tr>\n",
       "  </tbody>\n",
       "</table>\n",
       "</div>"
      ],
      "text/plain": [
       "                                      audio_filepath  \\\n",
       "0  resources/te_fleurs/train/17868828176923608423...   \n",
       "1  resources/te_fleurs/train/14245662570721842048...   \n",
       "2  resources/te_fleurs/train/13354602618233886868...   \n",
       "3  resources/te_fleurs/train/9471343398098868152.wav   \n",
       "4  resources/te_fleurs/train/2002088035136879191.wav   \n",
       "\n",
       "                                      transcriptions sample_rate  duration  \\\n",
       "0  అవి గదులలాగా ఉన్నాయి. అతను చనిపోయిన కణాలను గుర...      120960      7.56   \n",
       "1  ఆస్ట్రేలియా మాజీ సంప్రదాయవాద ప్రభుత్వం క్యోటోన...      295680     18.48   \n",
       "2  పెద్ద గాయాలు ఏవీ నమోదు కాలేదు, కానీ పేలుడు సమయ...      167040     10.44   \n",
       "3  World War I మరియు World War IIలో సబ్‌మెరైన్‌లన...      318720     19.92   \n",
       "4  మధ్య దూర పరుగు అనేది సాపేక్షంగా చవకైన క్రీడ; అ...      202560     12.66   \n",
       "\n",
       "                                  new_audio_filepath  \n",
       "0  resources/te_fleurs/pitch_shifted/178688281769...  \n",
       "1  resources/te_fleurs/pitch_shifted/142456625707...  \n",
       "2  resources/te_fleurs/pitch_shifted/133546026182...  \n",
       "3  resources/te_fleurs/pitch_shifted/947134339809...  \n",
       "4  resources/te_fleurs/pitch_shifted/200208803513...  "
      ]
     },
     "execution_count": 69,
     "metadata": {},
     "output_type": "execute_result"
    }
   ],
   "source": [
    "te_fleurs_pitch_shifted.head()"
   ]
  },
  {
   "cell_type": "code",
   "execution_count": 70,
   "metadata": {},
   "outputs": [
    {
     "data": {
      "text/html": [
       "<div>\n",
       "<style scoped>\n",
       "    .dataframe tbody tr th:only-of-type {\n",
       "        vertical-align: middle;\n",
       "    }\n",
       "\n",
       "    .dataframe tbody tr th {\n",
       "        vertical-align: top;\n",
       "    }\n",
       "\n",
       "    .dataframe thead th {\n",
       "        text-align: right;\n",
       "    }\n",
       "</style>\n",
       "<table border=\"1\" class=\"dataframe\">\n",
       "  <thead>\n",
       "    <tr style=\"text-align: right;\">\n",
       "      <th></th>\n",
       "      <th>text</th>\n",
       "      <th>sample_rate</th>\n",
       "      <th>duration</th>\n",
       "      <th>audio_filepath</th>\n",
       "    </tr>\n",
       "  </thead>\n",
       "  <tbody>\n",
       "    <tr>\n",
       "      <th>0</th>\n",
       "      <td>అవి గదులలాగా ఉన్నాయి. అతను చనిపోయిన కణాలను గుర...</td>\n",
       "      <td>120960</td>\n",
       "      <td>7.56</td>\n",
       "      <td>resources/te_fleurs/pitch_shifted/178688281769...</td>\n",
       "    </tr>\n",
       "    <tr>\n",
       "      <th>1</th>\n",
       "      <td>ఆస్ట్రేలియా మాజీ సంప్రదాయవాద ప్రభుత్వం క్యోటోన...</td>\n",
       "      <td>295680</td>\n",
       "      <td>18.48</td>\n",
       "      <td>resources/te_fleurs/pitch_shifted/142456625707...</td>\n",
       "    </tr>\n",
       "    <tr>\n",
       "      <th>2</th>\n",
       "      <td>పెద్ద గాయాలు ఏవీ నమోదు కాలేదు, కానీ పేలుడు సమయ...</td>\n",
       "      <td>167040</td>\n",
       "      <td>10.44</td>\n",
       "      <td>resources/te_fleurs/pitch_shifted/133546026182...</td>\n",
       "    </tr>\n",
       "    <tr>\n",
       "      <th>3</th>\n",
       "      <td>World War I మరియు World War IIలో సబ్‌మెరైన్‌లన...</td>\n",
       "      <td>318720</td>\n",
       "      <td>19.92</td>\n",
       "      <td>resources/te_fleurs/pitch_shifted/947134339809...</td>\n",
       "    </tr>\n",
       "    <tr>\n",
       "      <th>4</th>\n",
       "      <td>మధ్య దూర పరుగు అనేది సాపేక్షంగా చవకైన క్రీడ; అ...</td>\n",
       "      <td>202560</td>\n",
       "      <td>12.66</td>\n",
       "      <td>resources/te_fleurs/pitch_shifted/200208803513...</td>\n",
       "    </tr>\n",
       "  </tbody>\n",
       "</table>\n",
       "</div>"
      ],
      "text/plain": [
       "                                                text sample_rate  duration  \\\n",
       "0  అవి గదులలాగా ఉన్నాయి. అతను చనిపోయిన కణాలను గుర...      120960      7.56   \n",
       "1  ఆస్ట్రేలియా మాజీ సంప్రదాయవాద ప్రభుత్వం క్యోటోన...      295680     18.48   \n",
       "2  పెద్ద గాయాలు ఏవీ నమోదు కాలేదు, కానీ పేలుడు సమయ...      167040     10.44   \n",
       "3  World War I మరియు World War IIలో సబ్‌మెరైన్‌లన...      318720     19.92   \n",
       "4  మధ్య దూర పరుగు అనేది సాపేక్షంగా చవకైన క్రీడ; అ...      202560     12.66   \n",
       "\n",
       "                                      audio_filepath  \n",
       "0  resources/te_fleurs/pitch_shifted/178688281769...  \n",
       "1  resources/te_fleurs/pitch_shifted/142456625707...  \n",
       "2  resources/te_fleurs/pitch_shifted/133546026182...  \n",
       "3  resources/te_fleurs/pitch_shifted/947134339809...  \n",
       "4  resources/te_fleurs/pitch_shifted/200208803513...  "
      ]
     },
     "execution_count": 70,
     "metadata": {},
     "output_type": "execute_result"
    }
   ],
   "source": [
    "te_fleurs_pitch_shifted.drop(columns=['audio_filepath'], inplace=True)\n",
    "te_fleurs_pitch_shifted.rename(columns={'new_audio_filepath': 'audio_filepath'}, inplace=True)\n",
    "te_fleurs_pitch_shifted.rename(columns={'transcriptions': 'text'}, inplace=True)\n",
    "te_fleurs_pitch_shifted.head()"
   ]
  },
  {
   "cell_type": "code",
   "execution_count": 71,
   "metadata": {},
   "outputs": [
    {
     "data": {
      "text/html": [
       "<div>\n",
       "<style scoped>\n",
       "    .dataframe tbody tr th:only-of-type {\n",
       "        vertical-align: middle;\n",
       "    }\n",
       "\n",
       "    .dataframe tbody tr th {\n",
       "        vertical-align: top;\n",
       "    }\n",
       "\n",
       "    .dataframe thead th {\n",
       "        text-align: right;\n",
       "    }\n",
       "</style>\n",
       "<table border=\"1\" class=\"dataframe\">\n",
       "  <thead>\n",
       "    <tr style=\"text-align: right;\">\n",
       "      <th></th>\n",
       "      <th>duration</th>\n",
       "      <th>text</th>\n",
       "      <th>audio_filepath</th>\n",
       "    </tr>\n",
       "  </thead>\n",
       "  <tbody>\n",
       "    <tr>\n",
       "      <th>0</th>\n",
       "      <td>5.10</td>\n",
       "      <td>ప్రతి మూడు నుంచి అయిదు నిమిషాల వ్యవధిలో ఒక రైల...</td>\n",
       "      <td>resources/te_pitch_shifted/Regional-Hyderabad-...</td>\n",
       "    </tr>\n",
       "    <tr>\n",
       "      <th>1</th>\n",
       "      <td>7.98</td>\n",
       "      <td>కరోనా కష్ట సమయాల్లో బాల్ పురస్కార్ అవార్డులు ప...</td>\n",
       "      <td>resources/te_pitch_shifted/NSD-Telugu-Telugu-1...</td>\n",
       "    </tr>\n",
       "    <tr>\n",
       "      <th>2</th>\n",
       "      <td>14.32</td>\n",
       "      <td>ఒప్పంద వివరాలను ప్రధానంగా ప్రస్తావిస్తూ ఉభయ పక...</td>\n",
       "      <td>resources/te_pitch_shifted/NSD-Telugu-Telugu-1...</td>\n",
       "    </tr>\n",
       "    <tr>\n",
       "      <th>3</th>\n",
       "      <td>4.68</td>\n",
       "      <td>గ్రేట్ ఇండియన్ పెనిన్సులర్ రైల్వేలో దాదాపు నాల...</td>\n",
       "      <td>resources/te_pitch_shifted/Regional-Vijayawada...</td>\n",
       "    </tr>\n",
       "    <tr>\n",
       "      <th>4</th>\n",
       "      <td>1.72</td>\n",
       "      <td>వినయ్ చంద్ అధికారులను ఆదేశించారు</td>\n",
       "      <td>resources/te_pitch_shifted/Regional-Vijayawada...</td>\n",
       "    </tr>\n",
       "  </tbody>\n",
       "</table>\n",
       "</div>"
      ],
      "text/plain": [
       "   duration                                               text  \\\n",
       "0      5.10  ప్రతి మూడు నుంచి అయిదు నిమిషాల వ్యవధిలో ఒక రైల...   \n",
       "1      7.98  కరోనా కష్ట సమయాల్లో బాల్ పురస్కార్ అవార్డులు ప...   \n",
       "2     14.32  ఒప్పంద వివరాలను ప్రధానంగా ప్రస్తావిస్తూ ఉభయ పక...   \n",
       "3      4.68  గ్రేట్ ఇండియన్ పెనిన్సులర్ రైల్వేలో దాదాపు నాల...   \n",
       "4      1.72                   వినయ్ చంద్ అధికారులను ఆదేశించారు   \n",
       "\n",
       "                                      audio_filepath  \n",
       "0  resources/te_pitch_shifted/Regional-Hyderabad-...  \n",
       "1  resources/te_pitch_shifted/NSD-Telugu-Telugu-1...  \n",
       "2  resources/te_pitch_shifted/NSD-Telugu-Telugu-1...  \n",
       "3  resources/te_pitch_shifted/Regional-Vijayawada...  \n",
       "4  resources/te_pitch_shifted/Regional-Vijayawada...  "
      ]
     },
     "execution_count": 71,
     "metadata": {},
     "output_type": "execute_result"
    }
   ],
   "source": [
    "te_pitch_shifted.drop(columns=['audio_filepath'], inplace=True)\n",
    "te_pitch_shifted.rename(columns={'new_audio_filepath': 'audio_filepath'}, inplace=True)\n",
    "te_pitch_shifted.head()"
   ]
  },
  {
   "cell_type": "code",
   "execution_count": 72,
   "metadata": {},
   "outputs": [
    {
     "data": {
      "text/html": [
       "<div>\n",
       "<style scoped>\n",
       "    .dataframe tbody tr th:only-of-type {\n",
       "        vertical-align: middle;\n",
       "    }\n",
       "\n",
       "    .dataframe tbody tr th {\n",
       "        vertical-align: top;\n",
       "    }\n",
       "\n",
       "    .dataframe thead th {\n",
       "        text-align: right;\n",
       "    }\n",
       "</style>\n",
       "<table border=\"1\" class=\"dataframe\">\n",
       "  <thead>\n",
       "    <tr style=\"text-align: right;\">\n",
       "      <th></th>\n",
       "      <th>file_name</th>\n",
       "      <th>transcriptions</th>\n",
       "      <th>duration</th>\n",
       "    </tr>\n",
       "  </thead>\n",
       "  <tbody>\n",
       "    <tr>\n",
       "      <th>0</th>\n",
       "      <td>resources/tel_openslr/tef_01033_00351357063.wav</td>\n",
       "      <td>ఈ వివాదం సెప్టెంబర్ రెండు వేల తొమ్మిదిన పరిష్క...</td>\n",
       "      <td>4.693333</td>\n",
       "    </tr>\n",
       "    <tr>\n",
       "      <th>1</th>\n",
       "      <td>resources/tel_openslr/tef_02828_01625402654.wav</td>\n",
       "      <td>ఒక బ్యాంకు ఒక ప్రాథమిక పాఠశాల ఉన్నాయి</td>\n",
       "      <td>4.181333</td>\n",
       "    </tr>\n",
       "    <tr>\n",
       "      <th>2</th>\n",
       "      <td>resources/tel_openslr/tef_08318_01333265498.wav</td>\n",
       "      <td>చాలా గొంగళి పురుగులు షాకాహారులే</td>\n",
       "      <td>3.072000</td>\n",
       "    </tr>\n",
       "    <tr>\n",
       "      <th>3</th>\n",
       "      <td>resources/tel_openslr/tef_04830_00246502215.wav</td>\n",
       "      <td>ప్రిన్సిపాల్ ఒక మొమెంటోతో ప్రవేశించారు</td>\n",
       "      <td>3.328000</td>\n",
       "    </tr>\n",
       "    <tr>\n",
       "      <th>4</th>\n",
       "      <td>resources/tel_openslr/tef_09281_02034334714.wav</td>\n",
       "      <td>ట్రూమాన్ లైబ్రరీ అండ్ మ్యూజియం</td>\n",
       "      <td>3.669333</td>\n",
       "    </tr>\n",
       "  </tbody>\n",
       "</table>\n",
       "</div>"
      ],
      "text/plain": [
       "                                         file_name  \\\n",
       "0  resources/tel_openslr/tef_01033_00351357063.wav   \n",
       "1  resources/tel_openslr/tef_02828_01625402654.wav   \n",
       "2  resources/tel_openslr/tef_08318_01333265498.wav   \n",
       "3  resources/tel_openslr/tef_04830_00246502215.wav   \n",
       "4  resources/tel_openslr/tef_09281_02034334714.wav   \n",
       "\n",
       "                                      transcriptions  duration  \n",
       "0  ఈ వివాదం సెప్టెంబర్ రెండు వేల తొమ్మిదిన పరిష్క...  4.693333  \n",
       "1              ఒక బ్యాంకు ఒక ప్రాథమిక పాఠశాల ఉన్నాయి  4.181333  \n",
       "2                    చాలా గొంగళి పురుగులు షాకాహారులే  3.072000  \n",
       "3             ప్రిన్సిపాల్ ఒక మొమెంటోతో ప్రవేశించారు  3.328000  \n",
       "4                     ట్రూమాన్ లైబ్రరీ అండ్ మ్యూజియం  3.669333  "
      ]
     },
     "execution_count": 72,
     "metadata": {},
     "output_type": "execute_result"
    }
   ],
   "source": [
    "te_openslr = pd.read_csv('resources/tel_openslr/openslr_manifest.csv')\n",
    "\n",
    "te_openslr.head()"
   ]
  },
  {
   "cell_type": "code",
   "execution_count": 74,
   "metadata": {},
   "outputs": [
    {
     "data": {
      "text/html": [
       "<div>\n",
       "<style scoped>\n",
       "    .dataframe tbody tr th:only-of-type {\n",
       "        vertical-align: middle;\n",
       "    }\n",
       "\n",
       "    .dataframe tbody tr th {\n",
       "        vertical-align: top;\n",
       "    }\n",
       "\n",
       "    .dataframe thead th {\n",
       "        text-align: right;\n",
       "    }\n",
       "</style>\n",
       "<table border=\"1\" class=\"dataframe\">\n",
       "  <thead>\n",
       "    <tr style=\"text-align: right;\">\n",
       "      <th></th>\n",
       "      <th>file_name</th>\n",
       "      <th>text</th>\n",
       "      <th>duration</th>\n",
       "    </tr>\n",
       "  </thead>\n",
       "  <tbody>\n",
       "    <tr>\n",
       "      <th>0</th>\n",
       "      <td>resources/tel_openslr/tef_01033_00351357063.wav</td>\n",
       "      <td>ఈ వివాదం సెప్టెంబర్ రెండు వేల తొమ్మిదిన పరిష్క...</td>\n",
       "      <td>4.693333</td>\n",
       "    </tr>\n",
       "    <tr>\n",
       "      <th>1</th>\n",
       "      <td>resources/tel_openslr/tef_02828_01625402654.wav</td>\n",
       "      <td>ఒక బ్యాంకు ఒక ప్రాథమిక పాఠశాల ఉన్నాయి</td>\n",
       "      <td>4.181333</td>\n",
       "    </tr>\n",
       "    <tr>\n",
       "      <th>2</th>\n",
       "      <td>resources/tel_openslr/tef_08318_01333265498.wav</td>\n",
       "      <td>చాలా గొంగళి పురుగులు షాకాహారులే</td>\n",
       "      <td>3.072000</td>\n",
       "    </tr>\n",
       "    <tr>\n",
       "      <th>3</th>\n",
       "      <td>resources/tel_openslr/tef_04830_00246502215.wav</td>\n",
       "      <td>ప్రిన్సిపాల్ ఒక మొమెంటోతో ప్రవేశించారు</td>\n",
       "      <td>3.328000</td>\n",
       "    </tr>\n",
       "    <tr>\n",
       "      <th>4</th>\n",
       "      <td>resources/tel_openslr/tef_09281_02034334714.wav</td>\n",
       "      <td>ట్రూమాన్ లైబ్రరీ అండ్ మ్యూజియం</td>\n",
       "      <td>3.669333</td>\n",
       "    </tr>\n",
       "  </tbody>\n",
       "</table>\n",
       "</div>"
      ],
      "text/plain": [
       "                                         file_name  \\\n",
       "0  resources/tel_openslr/tef_01033_00351357063.wav   \n",
       "1  resources/tel_openslr/tef_02828_01625402654.wav   \n",
       "2  resources/tel_openslr/tef_08318_01333265498.wav   \n",
       "3  resources/tel_openslr/tef_04830_00246502215.wav   \n",
       "4  resources/tel_openslr/tef_09281_02034334714.wav   \n",
       "\n",
       "                                                text  duration  \n",
       "0  ఈ వివాదం సెప్టెంబర్ రెండు వేల తొమ్మిదిన పరిష్క...  4.693333  \n",
       "1              ఒక బ్యాంకు ఒక ప్రాథమిక పాఠశాల ఉన్నాయి  4.181333  \n",
       "2                    చాలా గొంగళి పురుగులు షాకాహారులే  3.072000  \n",
       "3             ప్రిన్సిపాల్ ఒక మొమెంటోతో ప్రవేశించారు  3.328000  \n",
       "4                     ట్రూమాన్ లైబ్రరీ అండ్ మ్యూజియం  3.669333  "
      ]
     },
     "execution_count": 74,
     "metadata": {},
     "output_type": "execute_result"
    }
   ],
   "source": [
    "te_openslr.rename(columns={'transcriptions': 'text'}, inplace=True)\n",
    "te_openslr.head()"
   ]
  },
  {
   "cell_type": "code",
   "execution_count": 75,
   "metadata": {},
   "outputs": [
    {
     "data": {
      "text/html": [
       "<div>\n",
       "<style scoped>\n",
       "    .dataframe tbody tr th:only-of-type {\n",
       "        vertical-align: middle;\n",
       "    }\n",
       "\n",
       "    .dataframe tbody tr th {\n",
       "        vertical-align: top;\n",
       "    }\n",
       "\n",
       "    .dataframe thead th {\n",
       "        text-align: right;\n",
       "    }\n",
       "</style>\n",
       "<table border=\"1\" class=\"dataframe\">\n",
       "  <thead>\n",
       "    <tr style=\"text-align: right;\">\n",
       "      <th></th>\n",
       "      <th>audio_filepath</th>\n",
       "      <th>text</th>\n",
       "      <th>duration</th>\n",
       "    </tr>\n",
       "  </thead>\n",
       "  <tbody>\n",
       "    <tr>\n",
       "      <th>0</th>\n",
       "      <td>resources/tel_openslr/tef_01033_00351357063.wav</td>\n",
       "      <td>ఈ వివాదం సెప్టెంబర్ రెండు వేల తొమ్మిదిన పరిష్క...</td>\n",
       "      <td>4.693333</td>\n",
       "    </tr>\n",
       "    <tr>\n",
       "      <th>1</th>\n",
       "      <td>resources/tel_openslr/tef_02828_01625402654.wav</td>\n",
       "      <td>ఒక బ్యాంకు ఒక ప్రాథమిక పాఠశాల ఉన్నాయి</td>\n",
       "      <td>4.181333</td>\n",
       "    </tr>\n",
       "    <tr>\n",
       "      <th>2</th>\n",
       "      <td>resources/tel_openslr/tef_08318_01333265498.wav</td>\n",
       "      <td>చాలా గొంగళి పురుగులు షాకాహారులే</td>\n",
       "      <td>3.072000</td>\n",
       "    </tr>\n",
       "    <tr>\n",
       "      <th>3</th>\n",
       "      <td>resources/tel_openslr/tef_04830_00246502215.wav</td>\n",
       "      <td>ప్రిన్సిపాల్ ఒక మొమెంటోతో ప్రవేశించారు</td>\n",
       "      <td>3.328000</td>\n",
       "    </tr>\n",
       "    <tr>\n",
       "      <th>4</th>\n",
       "      <td>resources/tel_openslr/tef_09281_02034334714.wav</td>\n",
       "      <td>ట్రూమాన్ లైబ్రరీ అండ్ మ్యూజియం</td>\n",
       "      <td>3.669333</td>\n",
       "    </tr>\n",
       "  </tbody>\n",
       "</table>\n",
       "</div>"
      ],
      "text/plain": [
       "                                    audio_filepath  \\\n",
       "0  resources/tel_openslr/tef_01033_00351357063.wav   \n",
       "1  resources/tel_openslr/tef_02828_01625402654.wav   \n",
       "2  resources/tel_openslr/tef_08318_01333265498.wav   \n",
       "3  resources/tel_openslr/tef_04830_00246502215.wav   \n",
       "4  resources/tel_openslr/tef_09281_02034334714.wav   \n",
       "\n",
       "                                                text  duration  \n",
       "0  ఈ వివాదం సెప్టెంబర్ రెండు వేల తొమ్మిదిన పరిష్క...  4.693333  \n",
       "1              ఒక బ్యాంకు ఒక ప్రాథమిక పాఠశాల ఉన్నాయి  4.181333  \n",
       "2                    చాలా గొంగళి పురుగులు షాకాహారులే  3.072000  \n",
       "3             ప్రిన్సిపాల్ ఒక మొమెంటోతో ప్రవేశించారు  3.328000  \n",
       "4                     ట్రూమాన్ లైబ్రరీ అండ్ మ్యూజియం  3.669333  "
      ]
     },
     "execution_count": 75,
     "metadata": {},
     "output_type": "execute_result"
    }
   ],
   "source": [
    "te_openslr.rename(columns={'file_name': 'audio_filepath'}, inplace=True)\n",
    "te_openslr.head()"
   ]
  },
  {
   "cell_type": "code",
   "execution_count": 23,
   "metadata": {},
   "outputs": [
    {
     "data": {
      "text/html": [
       "<div>\n",
       "<style scoped>\n",
       "    .dataframe tbody tr th:only-of-type {\n",
       "        vertical-align: middle;\n",
       "    }\n",
       "\n",
       "    .dataframe tbody tr th {\n",
       "        vertical-align: top;\n",
       "    }\n",
       "\n",
       "    .dataframe thead th {\n",
       "        text-align: right;\n",
       "    }\n",
       "</style>\n",
       "<table border=\"1\" class=\"dataframe\">\n",
       "  <thead>\n",
       "    <tr style=\"text-align: right;\">\n",
       "      <th></th>\n",
       "      <th>file_name</th>\n",
       "      <th>sample_rate</th>\n",
       "      <th>transcriptions</th>\n",
       "      <th>duration</th>\n",
       "    </tr>\n",
       "  </thead>\n",
       "  <tbody>\n",
       "    <tr>\n",
       "      <th>0</th>\n",
       "      <td>resources/newsonair_v5/telugu/Regional-Vijayaw...</td>\n",
       "      <td>6400</td>\n",
       "      <td>కాగా</td>\n",
       "      <td>0.40</td>\n",
       "    </tr>\n",
       "    <tr>\n",
       "      <th>1</th>\n",
       "      <td>resources/newsonair_v5/telugu/Regional-Vijayaw...</td>\n",
       "      <td>21440</td>\n",
       "      <td>ఆంధ్రప్రదేశ్ లో ప్రైవేటు</td>\n",
       "      <td>1.34</td>\n",
       "    </tr>\n",
       "    <tr>\n",
       "      <th>2</th>\n",
       "      <td>resources/newsonair_v5/telugu/Regional-Vijayaw...</td>\n",
       "      <td>145280</td>\n",
       "      <td>ప్రధాన మంత్రి నరేంద్ర మోదీ తన మనసులోని భావాలను...</td>\n",
       "      <td>9.08</td>\n",
       "    </tr>\n",
       "    <tr>\n",
       "      <th>3</th>\n",
       "      <td>resources/newsonair_v5/telugu/Regional-Vijayaw...</td>\n",
       "      <td>24960</td>\n",
       "      <td>గండి పడిన చెరువులను పరిశీలించి</td>\n",
       "      <td>1.56</td>\n",
       "    </tr>\n",
       "    <tr>\n",
       "      <th>4</th>\n",
       "      <td>resources/newsonair_v5/telugu/Regional-Vijayaw...</td>\n",
       "      <td>6720</td>\n",
       "      <td>కాగా</td>\n",
       "      <td>0.42</td>\n",
       "    </tr>\n",
       "  </tbody>\n",
       "</table>\n",
       "</div>"
      ],
      "text/plain": [
       "                                           file_name  sample_rate  \\\n",
       "0  resources/newsonair_v5/telugu/Regional-Vijayaw...         6400   \n",
       "1  resources/newsonair_v5/telugu/Regional-Vijayaw...        21440   \n",
       "2  resources/newsonair_v5/telugu/Regional-Vijayaw...       145280   \n",
       "3  resources/newsonair_v5/telugu/Regional-Vijayaw...        24960   \n",
       "4  resources/newsonair_v5/telugu/Regional-Vijayaw...         6720   \n",
       "\n",
       "                                      transcriptions  duration  \n",
       "0                                               కాగా      0.40  \n",
       "1                           ఆంధ్రప్రదేశ్ లో ప్రైవేటు      1.34  \n",
       "2  ప్రధాన మంత్రి నరేంద్ర మోదీ తన మనసులోని భావాలను...      9.08  \n",
       "3                     గండి పడిన చెరువులను పరిశీలించి      1.56  \n",
       "4                                               కాగా      0.42  "
      ]
     },
     "execution_count": 23,
     "metadata": {},
     "output_type": "execute_result"
    }
   ],
   "source": [
    "te_ai4bharat = pd.read_csv('resources/newsonair_v5/telugu/train.csv')\n",
    "te_ai4bharat.head()"
   ]
  },
  {
   "cell_type": "code",
   "execution_count": 77,
   "metadata": {},
   "outputs": [
    {
     "data": {
      "text/html": [
       "<div>\n",
       "<style scoped>\n",
       "    .dataframe tbody tr th:only-of-type {\n",
       "        vertical-align: middle;\n",
       "    }\n",
       "\n",
       "    .dataframe tbody tr th {\n",
       "        vertical-align: top;\n",
       "    }\n",
       "\n",
       "    .dataframe thead th {\n",
       "        text-align: right;\n",
       "    }\n",
       "</style>\n",
       "<table border=\"1\" class=\"dataframe\">\n",
       "  <thead>\n",
       "    <tr style=\"text-align: right;\">\n",
       "      <th></th>\n",
       "      <th>audio_filepath</th>\n",
       "      <th>sample_rate</th>\n",
       "      <th>text</th>\n",
       "      <th>duration</th>\n",
       "    </tr>\n",
       "  </thead>\n",
       "  <tbody>\n",
       "    <tr>\n",
       "      <th>0</th>\n",
       "      <td>resources/newsonair_v5/telugu/Regional-Vijayaw...</td>\n",
       "      <td>6400</td>\n",
       "      <td>కాగా</td>\n",
       "      <td>0.40</td>\n",
       "    </tr>\n",
       "    <tr>\n",
       "      <th>1</th>\n",
       "      <td>resources/newsonair_v5/telugu/Regional-Vijayaw...</td>\n",
       "      <td>21440</td>\n",
       "      <td>ఆంధ్రప్రదేశ్ లో ప్రైవేటు</td>\n",
       "      <td>1.34</td>\n",
       "    </tr>\n",
       "    <tr>\n",
       "      <th>2</th>\n",
       "      <td>resources/newsonair_v5/telugu/Regional-Vijayaw...</td>\n",
       "      <td>145280</td>\n",
       "      <td>ప్రధాన మంత్రి నరేంద్ర మోదీ తన మనసులోని భావాలను...</td>\n",
       "      <td>9.08</td>\n",
       "    </tr>\n",
       "    <tr>\n",
       "      <th>3</th>\n",
       "      <td>resources/newsonair_v5/telugu/Regional-Vijayaw...</td>\n",
       "      <td>24960</td>\n",
       "      <td>గండి పడిన చెరువులను పరిశీలించి</td>\n",
       "      <td>1.56</td>\n",
       "    </tr>\n",
       "    <tr>\n",
       "      <th>4</th>\n",
       "      <td>resources/newsonair_v5/telugu/Regional-Vijayaw...</td>\n",
       "      <td>6720</td>\n",
       "      <td>కాగా</td>\n",
       "      <td>0.42</td>\n",
       "    </tr>\n",
       "  </tbody>\n",
       "</table>\n",
       "</div>"
      ],
      "text/plain": [
       "                                      audio_filepath  sample_rate  \\\n",
       "0  resources/newsonair_v5/telugu/Regional-Vijayaw...         6400   \n",
       "1  resources/newsonair_v5/telugu/Regional-Vijayaw...        21440   \n",
       "2  resources/newsonair_v5/telugu/Regional-Vijayaw...       145280   \n",
       "3  resources/newsonair_v5/telugu/Regional-Vijayaw...        24960   \n",
       "4  resources/newsonair_v5/telugu/Regional-Vijayaw...         6720   \n",
       "\n",
       "                                                text  duration  \n",
       "0                                               కాగా      0.40  \n",
       "1                           ఆంధ్రప్రదేశ్ లో ప్రైవేటు      1.34  \n",
       "2  ప్రధాన మంత్రి నరేంద్ర మోదీ తన మనసులోని భావాలను...      9.08  \n",
       "3                     గండి పడిన చెరువులను పరిశీలించి      1.56  \n",
       "4                                               కాగా      0.42  "
      ]
     },
     "execution_count": 77,
     "metadata": {},
     "output_type": "execute_result"
    }
   ],
   "source": [
    "te_ai4bharat.rename(columns={'file_name': 'audio_filepath'}, inplace=True)\n",
    "te_ai4bharat.rename(columns={'transcriptions': 'text'}, inplace=True)\n",
    "te_ai4bharat.head()"
   ]
  },
  {
   "cell_type": "code",
   "execution_count": 17,
   "metadata": {},
   "outputs": [],
   "source": [
    "!rm -rf resources/final_te_manifests/manifest.json"
   ]
  },
  {
   "cell_type": "code",
   "execution_count": 52,
   "metadata": {},
   "outputs": [],
   "source": [
    "import pandas as pd"
   ]
  },
  {
   "cell_type": "code",
   "execution_count": 60,
   "metadata": {},
   "outputs": [
    {
     "data": {
      "text/html": [
       "<div>\n",
       "<style scoped>\n",
       "    .dataframe tbody tr th:only-of-type {\n",
       "        vertical-align: middle;\n",
       "    }\n",
       "\n",
       "    .dataframe tbody tr th {\n",
       "        vertical-align: top;\n",
       "    }\n",
       "\n",
       "    .dataframe thead th {\n",
       "        text-align: right;\n",
       "    }\n",
       "</style>\n",
       "<table border=\"1\" class=\"dataframe\">\n",
       "  <thead>\n",
       "    <tr style=\"text-align: right;\">\n",
       "      <th></th>\n",
       "      <th>audio_filepath</th>\n",
       "      <th>text</th>\n",
       "      <th>duration</th>\n",
       "    </tr>\n",
       "  </thead>\n",
       "  <tbody>\n",
       "    <tr>\n",
       "      <th>0</th>\n",
       "      <td>resources/IndicTTS_telugu/mono/wav_16kHz/train...</td>\n",
       "      <td>నరకవాసి.</td>\n",
       "      <td>2.162000</td>\n",
       "    </tr>\n",
       "    <tr>\n",
       "      <th>1</th>\n",
       "      <td>resources/IndicTTS_telugu/mono/wav_16kHz/train...</td>\n",
       "      <td>బ్రహ్మదత్తుడు కాశీరాజ్యాన్ని పరిపాలించే కాలంలో...</td>\n",
       "      <td>37.200938</td>\n",
       "    </tr>\n",
       "    <tr>\n",
       "      <th>2</th>\n",
       "      <td>resources/IndicTTS_telugu/mono/wav_16kHz/train...</td>\n",
       "      <td>ఇంతలో కార్తీక పౌర్ణమి వచ్చింది మిత్రవిందకుడితో...</td>\n",
       "      <td>24.998875</td>\n",
       "    </tr>\n",
       "    <tr>\n",
       "      <th>3</th>\n",
       "      <td>resources/IndicTTS_telugu/mono/wav_16kHz/train...</td>\n",
       "      <td>డబ్బుకోసమని మిత్రవిందకుడు సరేనన్నాడు అతను ఉపదే...</td>\n",
       "      <td>34.751250</td>\n",
       "    </tr>\n",
       "    <tr>\n",
       "      <th>4</th>\n",
       "      <td>resources/IndicTTS_telugu/mono/wav_16kHz/train...</td>\n",
       "      <td>ఆయనను ఇక్కడికి తీసుకురావటం దేనికమ్మా నా కాయనతో...</td>\n",
       "      <td>8.268875</td>\n",
       "    </tr>\n",
       "  </tbody>\n",
       "</table>\n",
       "</div>"
      ],
      "text/plain": [
       "                                      audio_filepath  \\\n",
       "0  resources/IndicTTS_telugu/mono/wav_16kHz/train...   \n",
       "1  resources/IndicTTS_telugu/mono/wav_16kHz/train...   \n",
       "2  resources/IndicTTS_telugu/mono/wav_16kHz/train...   \n",
       "3  resources/IndicTTS_telugu/mono/wav_16kHz/train...   \n",
       "4  resources/IndicTTS_telugu/mono/wav_16kHz/train...   \n",
       "\n",
       "                                                text   duration  \n",
       "0                                           నరకవాసి.   2.162000  \n",
       "1  బ్రహ్మదత్తుడు కాశీరాజ్యాన్ని పరిపాలించే కాలంలో...  37.200938  \n",
       "2  ఇంతలో కార్తీక పౌర్ణమి వచ్చింది మిత్రవిందకుడితో...  24.998875  \n",
       "3  డబ్బుకోసమని మిత్రవిందకుడు సరేనన్నాడు అతను ఉపదే...  34.751250  \n",
       "4  ఆయనను ఇక్కడికి తీసుకురావటం దేనికమ్మా నా కాయనతో...   8.268875  "
      ]
     },
     "execution_count": 60,
     "metadata": {},
     "output_type": "execute_result"
    }
   ],
   "source": [
    "te_indic_tts_female = pd.read_csv('resources/IndicTTS_telugu/indic_tts_manifest.csv')\n",
    "te_indic_tts_female.head()"
   ]
  },
  {
   "cell_type": "code",
   "execution_count": 54,
   "metadata": {},
   "outputs": [
    {
     "data": {
      "text/html": [
       "<div>\n",
       "<style scoped>\n",
       "    .dataframe tbody tr th:only-of-type {\n",
       "        vertical-align: middle;\n",
       "    }\n",
       "\n",
       "    .dataframe tbody tr th {\n",
       "        vertical-align: top;\n",
       "    }\n",
       "\n",
       "    .dataframe thead th {\n",
       "        text-align: right;\n",
       "    }\n",
       "</style>\n",
       "<table border=\"1\" class=\"dataframe\">\n",
       "  <thead>\n",
       "    <tr style=\"text-align: right;\">\n",
       "      <th></th>\n",
       "      <th>audio_filepath</th>\n",
       "      <th>text</th>\n",
       "      <th>duration</th>\n",
       "      <th>new_audio_filepath</th>\n",
       "    </tr>\n",
       "  </thead>\n",
       "  <tbody>\n",
       "    <tr>\n",
       "      <th>0</th>\n",
       "      <td>resources/IndicTTS_telugu/mono/wav_16kHz/train...</td>\n",
       "      <td>నరకవాసి.</td>\n",
       "      <td>2.162000</td>\n",
       "      <td>resources/te_indic_tts_pitch_shifted/train_tel...</td>\n",
       "    </tr>\n",
       "    <tr>\n",
       "      <th>1</th>\n",
       "      <td>resources/IndicTTS_telugu/mono/wav_16kHz/train...</td>\n",
       "      <td>బ్రహ్మదత్తుడు కాశీరాజ్యాన్ని పరిపాలించే కాలంలో...</td>\n",
       "      <td>37.200938</td>\n",
       "      <td>resources/te_indic_tts_pitch_shifted/train_tel...</td>\n",
       "    </tr>\n",
       "    <tr>\n",
       "      <th>2</th>\n",
       "      <td>resources/IndicTTS_telugu/mono/wav_16kHz/train...</td>\n",
       "      <td>ఇంతలో కార్తీక పౌర్ణమి వచ్చింది మిత్రవిందకుడితో...</td>\n",
       "      <td>24.998875</td>\n",
       "      <td>resources/te_indic_tts_pitch_shifted/train_tel...</td>\n",
       "    </tr>\n",
       "    <tr>\n",
       "      <th>3</th>\n",
       "      <td>resources/IndicTTS_telugu/mono/wav_16kHz/train...</td>\n",
       "      <td>డబ్బుకోసమని మిత్రవిందకుడు సరేనన్నాడు అతను ఉపదే...</td>\n",
       "      <td>34.751250</td>\n",
       "      <td>resources/te_indic_tts_pitch_shifted/train_tel...</td>\n",
       "    </tr>\n",
       "    <tr>\n",
       "      <th>4</th>\n",
       "      <td>resources/IndicTTS_telugu/mono/wav_16kHz/train...</td>\n",
       "      <td>ఆయనను ఇక్కడికి తీసుకురావటం దేనికమ్మా నా కాయనతో...</td>\n",
       "      <td>8.268875</td>\n",
       "      <td>resources/te_indic_tts_pitch_shifted/train_tel...</td>\n",
       "    </tr>\n",
       "  </tbody>\n",
       "</table>\n",
       "</div>"
      ],
      "text/plain": [
       "                                      audio_filepath  \\\n",
       "0  resources/IndicTTS_telugu/mono/wav_16kHz/train...   \n",
       "1  resources/IndicTTS_telugu/mono/wav_16kHz/train...   \n",
       "2  resources/IndicTTS_telugu/mono/wav_16kHz/train...   \n",
       "3  resources/IndicTTS_telugu/mono/wav_16kHz/train...   \n",
       "4  resources/IndicTTS_telugu/mono/wav_16kHz/train...   \n",
       "\n",
       "                                                text   duration  \\\n",
       "0                                           నరకవాసి.   2.162000   \n",
       "1  బ్రహ్మదత్తుడు కాశీరాజ్యాన్ని పరిపాలించే కాలంలో...  37.200938   \n",
       "2  ఇంతలో కార్తీక పౌర్ణమి వచ్చింది మిత్రవిందకుడితో...  24.998875   \n",
       "3  డబ్బుకోసమని మిత్రవిందకుడు సరేనన్నాడు అతను ఉపదే...  34.751250   \n",
       "4  ఆయనను ఇక్కడికి తీసుకురావటం దేనికమ్మా నా కాయనతో...   8.268875   \n",
       "\n",
       "                                  new_audio_filepath  \n",
       "0  resources/te_indic_tts_pitch_shifted/train_tel...  \n",
       "1  resources/te_indic_tts_pitch_shifted/train_tel...  \n",
       "2  resources/te_indic_tts_pitch_shifted/train_tel...  \n",
       "3  resources/te_indic_tts_pitch_shifted/train_tel...  \n",
       "4  resources/te_indic_tts_pitch_shifted/train_tel...  "
      ]
     },
     "execution_count": 54,
     "metadata": {},
     "output_type": "execute_result"
    }
   ],
   "source": [
    "indic_tts_pitch_shifted = pd.read_csv('resources/te_indic_tts_pitch_shifted/te_indic_tts_pitch_shifted_manifest.csv')\n",
    "indic_tts_pitch_shifted.head()"
   ]
  },
  {
   "cell_type": "code",
   "execution_count": 55,
   "metadata": {},
   "outputs": [
    {
     "data": {
      "text/html": [
       "<div>\n",
       "<style scoped>\n",
       "    .dataframe tbody tr th:only-of-type {\n",
       "        vertical-align: middle;\n",
       "    }\n",
       "\n",
       "    .dataframe tbody tr th {\n",
       "        vertical-align: top;\n",
       "    }\n",
       "\n",
       "    .dataframe thead th {\n",
       "        text-align: right;\n",
       "    }\n",
       "</style>\n",
       "<table border=\"1\" class=\"dataframe\">\n",
       "  <thead>\n",
       "    <tr style=\"text-align: right;\">\n",
       "      <th></th>\n",
       "      <th>text</th>\n",
       "      <th>duration</th>\n",
       "      <th>audio_filepath</th>\n",
       "    </tr>\n",
       "  </thead>\n",
       "  <tbody>\n",
       "    <tr>\n",
       "      <th>0</th>\n",
       "      <td>నరకవాసి.</td>\n",
       "      <td>2.162000</td>\n",
       "      <td>resources/te_indic_tts_pitch_shifted/train_tel...</td>\n",
       "    </tr>\n",
       "    <tr>\n",
       "      <th>1</th>\n",
       "      <td>బ్రహ్మదత్తుడు కాశీరాజ్యాన్ని పరిపాలించే కాలంలో...</td>\n",
       "      <td>37.200938</td>\n",
       "      <td>resources/te_indic_tts_pitch_shifted/train_tel...</td>\n",
       "    </tr>\n",
       "    <tr>\n",
       "      <th>2</th>\n",
       "      <td>ఇంతలో కార్తీక పౌర్ణమి వచ్చింది మిత్రవిందకుడితో...</td>\n",
       "      <td>24.998875</td>\n",
       "      <td>resources/te_indic_tts_pitch_shifted/train_tel...</td>\n",
       "    </tr>\n",
       "    <tr>\n",
       "      <th>3</th>\n",
       "      <td>డబ్బుకోసమని మిత్రవిందకుడు సరేనన్నాడు అతను ఉపదే...</td>\n",
       "      <td>34.751250</td>\n",
       "      <td>resources/te_indic_tts_pitch_shifted/train_tel...</td>\n",
       "    </tr>\n",
       "    <tr>\n",
       "      <th>4</th>\n",
       "      <td>ఆయనను ఇక్కడికి తీసుకురావటం దేనికమ్మా నా కాయనతో...</td>\n",
       "      <td>8.268875</td>\n",
       "      <td>resources/te_indic_tts_pitch_shifted/train_tel...</td>\n",
       "    </tr>\n",
       "  </tbody>\n",
       "</table>\n",
       "</div>"
      ],
      "text/plain": [
       "                                                text   duration  \\\n",
       "0                                           నరకవాసి.   2.162000   \n",
       "1  బ్రహ్మదత్తుడు కాశీరాజ్యాన్ని పరిపాలించే కాలంలో...  37.200938   \n",
       "2  ఇంతలో కార్తీక పౌర్ణమి వచ్చింది మిత్రవిందకుడితో...  24.998875   \n",
       "3  డబ్బుకోసమని మిత్రవిందకుడు సరేనన్నాడు అతను ఉపదే...  34.751250   \n",
       "4  ఆయనను ఇక్కడికి తీసుకురావటం దేనికమ్మా నా కాయనతో...   8.268875   \n",
       "\n",
       "                                      audio_filepath  \n",
       "0  resources/te_indic_tts_pitch_shifted/train_tel...  \n",
       "1  resources/te_indic_tts_pitch_shifted/train_tel...  \n",
       "2  resources/te_indic_tts_pitch_shifted/train_tel...  \n",
       "3  resources/te_indic_tts_pitch_shifted/train_tel...  \n",
       "4  resources/te_indic_tts_pitch_shifted/train_tel...  "
      ]
     },
     "execution_count": 55,
     "metadata": {},
     "output_type": "execute_result"
    }
   ],
   "source": [
    "indic_tts_pitch_shifted.drop(columns=['audio_filepath'], inplace=True)\n",
    "indic_tts_pitch_shifted.rename(columns={'new_audio_filepath': 'audio_filepath'}, inplace=True)\n",
    "indic_tts_pitch_shifted.head()"
   ]
  },
  {
   "cell_type": "code",
   "execution_count": 56,
   "metadata": {},
   "outputs": [
    {
     "data": {
      "text/html": [
       "<div>\n",
       "<style scoped>\n",
       "    .dataframe tbody tr th:only-of-type {\n",
       "        vertical-align: middle;\n",
       "    }\n",
       "\n",
       "    .dataframe tbody tr th {\n",
       "        vertical-align: top;\n",
       "    }\n",
       "\n",
       "    .dataframe thead th {\n",
       "        text-align: right;\n",
       "    }\n",
       "</style>\n",
       "<table border=\"1\" class=\"dataframe\">\n",
       "  <thead>\n",
       "    <tr style=\"text-align: right;\">\n",
       "      <th></th>\n",
       "      <th>text</th>\n",
       "      <th>duration</th>\n",
       "      <th>audio_filepath</th>\n",
       "    </tr>\n",
       "  </thead>\n",
       "  <tbody>\n",
       "    <tr>\n",
       "      <th>0</th>\n",
       "      <td>నరకవాసి.</td>\n",
       "      <td>2.162000</td>\n",
       "      <td>resources/te_indic_tts_background_noise/train_...</td>\n",
       "    </tr>\n",
       "    <tr>\n",
       "      <th>1</th>\n",
       "      <td>బ్రహ్మదత్తుడు కాశీరాజ్యాన్ని పరిపాలించే కాలంలో...</td>\n",
       "      <td>37.200938</td>\n",
       "      <td>resources/te_indic_tts_background_noise/train_...</td>\n",
       "    </tr>\n",
       "    <tr>\n",
       "      <th>2</th>\n",
       "      <td>ఇంతలో కార్తీక పౌర్ణమి వచ్చింది మిత్రవిందకుడితో...</td>\n",
       "      <td>24.998875</td>\n",
       "      <td>resources/te_indic_tts_background_noise/train_...</td>\n",
       "    </tr>\n",
       "    <tr>\n",
       "      <th>3</th>\n",
       "      <td>డబ్బుకోసమని మిత్రవిందకుడు సరేనన్నాడు అతను ఉపదే...</td>\n",
       "      <td>34.751250</td>\n",
       "      <td>resources/te_indic_tts_background_noise/train_...</td>\n",
       "    </tr>\n",
       "    <tr>\n",
       "      <th>4</th>\n",
       "      <td>ఆయనను ఇక్కడికి తీసుకురావటం దేనికమ్మా నా కాయనతో...</td>\n",
       "      <td>8.268875</td>\n",
       "      <td>resources/te_indic_tts_background_noise/train_...</td>\n",
       "    </tr>\n",
       "  </tbody>\n",
       "</table>\n",
       "</div>"
      ],
      "text/plain": [
       "                                                text   duration  \\\n",
       "0                                           నరకవాసి.   2.162000   \n",
       "1  బ్రహ్మదత్తుడు కాశీరాజ్యాన్ని పరిపాలించే కాలంలో...  37.200938   \n",
       "2  ఇంతలో కార్తీక పౌర్ణమి వచ్చింది మిత్రవిందకుడితో...  24.998875   \n",
       "3  డబ్బుకోసమని మిత్రవిందకుడు సరేనన్నాడు అతను ఉపదే...  34.751250   \n",
       "4  ఆయనను ఇక్కడికి తీసుకురావటం దేనికమ్మా నా కాయనతో...   8.268875   \n",
       "\n",
       "                                      audio_filepath  \n",
       "0  resources/te_indic_tts_background_noise/train_...  \n",
       "1  resources/te_indic_tts_background_noise/train_...  \n",
       "2  resources/te_indic_tts_background_noise/train_...  \n",
       "3  resources/te_indic_tts_background_noise/train_...  \n",
       "4  resources/te_indic_tts_background_noise/train_...  "
      ]
     },
     "execution_count": 56,
     "metadata": {},
     "output_type": "execute_result"
    }
   ],
   "source": [
    "te_indic_tts_background_noise = pd.read_csv('resources/te_indic_tts_background_noise/te_indic_tts_background_noise_manifest.csv')\n",
    "te_indic_tts_background_noise.drop(columns=['audio_filepath'], inplace=True)\n",
    "te_indic_tts_background_noise.rename(columns={'new_audio_filepath': 'audio_filepath'}, inplace=True)\n",
    "te_indic_tts_background_noise.head()"
   ]
  },
  {
   "cell_type": "code",
   "execution_count": 57,
   "metadata": {},
   "outputs": [
    {
     "data": {
      "text/html": [
       "<div>\n",
       "<style scoped>\n",
       "    .dataframe tbody tr th:only-of-type {\n",
       "        vertical-align: middle;\n",
       "    }\n",
       "\n",
       "    .dataframe tbody tr th {\n",
       "        vertical-align: top;\n",
       "    }\n",
       "\n",
       "    .dataframe thead th {\n",
       "        text-align: right;\n",
       "    }\n",
       "</style>\n",
       "<table border=\"1\" class=\"dataframe\">\n",
       "  <thead>\n",
       "    <tr style=\"text-align: right;\">\n",
       "      <th></th>\n",
       "      <th>audio_filepath</th>\n",
       "      <th>text</th>\n",
       "      <th>duration</th>\n",
       "    </tr>\n",
       "  </thead>\n",
       "  <tbody>\n",
       "    <tr>\n",
       "      <th>0</th>\n",
       "      <td>resources/telugu_male_mono/mono/wav/train_telu...</td>\n",
       "      <td>ఈ గ్రామంలో ప్రజల ప్రధాన వృత్తి వ్యవసాయం.</td>\n",
       "      <td>4.205333</td>\n",
       "    </tr>\n",
       "    <tr>\n",
       "      <th>1</th>\n",
       "      <td>resources/telugu_male_mono/mono/wav/train_telu...</td>\n",
       "      <td>కుత్బుల్లాపూర్ ఆంధ్ర ప్రదేశ్ రాష్ట్రంలోని రంగా...</td>\n",
       "      <td>6.432000</td>\n",
       "    </tr>\n",
       "    <tr>\n",
       "      <th>2</th>\n",
       "      <td>resources/telugu_male_mono/mono/wav/train_telu...</td>\n",
       "      <td>జ్ఞానపీఠ పురస్కారం గ్రహీత విశ్వనాథ సత్యనారాయణ.</td>\n",
       "      <td>4.805333</td>\n",
       "    </tr>\n",
       "    <tr>\n",
       "      <th>3</th>\n",
       "      <td>resources/telugu_male_mono/mono/wav/train_telu...</td>\n",
       "      <td>ఈ గ్రామము కోస్గి నుంచి మద్దూరు వెళ్ళు మార్గముల...</td>\n",
       "      <td>4.917333</td>\n",
       "    </tr>\n",
       "    <tr>\n",
       "      <th>4</th>\n",
       "      <td>resources/telugu_male_mono/mono/wav/train_telu...</td>\n",
       "      <td>ఇక్కడ కేవలం ఐదవ తరగతి వరకు మాత్రమే పాఠశాల సౌకర...</td>\n",
       "      <td>5.218667</td>\n",
       "    </tr>\n",
       "  </tbody>\n",
       "</table>\n",
       "</div>"
      ],
      "text/plain": [
       "                                      audio_filepath  \\\n",
       "0  resources/telugu_male_mono/mono/wav/train_telu...   \n",
       "1  resources/telugu_male_mono/mono/wav/train_telu...   \n",
       "2  resources/telugu_male_mono/mono/wav/train_telu...   \n",
       "3  resources/telugu_male_mono/mono/wav/train_telu...   \n",
       "4  resources/telugu_male_mono/mono/wav/train_telu...   \n",
       "\n",
       "                                                text  duration  \n",
       "0           ఈ గ్రామంలో ప్రజల ప్రధాన వృత్తి వ్యవసాయం.  4.205333  \n",
       "1  కుత్బుల్లాపూర్ ఆంధ్ర ప్రదేశ్ రాష్ట్రంలోని రంగా...  6.432000  \n",
       "2     జ్ఞానపీఠ పురస్కారం గ్రహీత విశ్వనాథ సత్యనారాయణ.  4.805333  \n",
       "3  ఈ గ్రామము కోస్గి నుంచి మద్దూరు వెళ్ళు మార్గముల...  4.917333  \n",
       "4  ఇక్కడ కేవలం ఐదవ తరగతి వరకు మాత్రమే పాఠశాల సౌకర...  5.218667  "
      ]
     },
     "execution_count": 57,
     "metadata": {},
     "output_type": "execute_result"
    }
   ],
   "source": [
    "te_indic_tts_male = pd.read_csv('resources/telugu_male_mono/indic_tts_male_manifest.csv')\n",
    "te_indic_tts_male.head()"
   ]
  },
  {
   "cell_type": "code",
   "execution_count": 58,
   "metadata": {},
   "outputs": [
    {
     "data": {
      "text/html": [
       "<div>\n",
       "<style scoped>\n",
       "    .dataframe tbody tr th:only-of-type {\n",
       "        vertical-align: middle;\n",
       "    }\n",
       "\n",
       "    .dataframe tbody tr th {\n",
       "        vertical-align: top;\n",
       "    }\n",
       "\n",
       "    .dataframe thead th {\n",
       "        text-align: right;\n",
       "    }\n",
       "</style>\n",
       "<table border=\"1\" class=\"dataframe\">\n",
       "  <thead>\n",
       "    <tr style=\"text-align: right;\">\n",
       "      <th></th>\n",
       "      <th>text</th>\n",
       "      <th>duration</th>\n",
       "      <th>audio_filepath</th>\n",
       "    </tr>\n",
       "  </thead>\n",
       "  <tbody>\n",
       "    <tr>\n",
       "      <th>0</th>\n",
       "      <td>ఈ గ్రామంలో ప్రజల ప్రధాన వృత్తి వ్యవసాయం.</td>\n",
       "      <td>4.205333</td>\n",
       "      <td>resources/te_indic_male_tts_pitch_shifted/trai...</td>\n",
       "    </tr>\n",
       "    <tr>\n",
       "      <th>1</th>\n",
       "      <td>కుత్బుల్లాపూర్ ఆంధ్ర ప్రదేశ్ రాష్ట్రంలోని రంగా...</td>\n",
       "      <td>6.432000</td>\n",
       "      <td>resources/te_indic_male_tts_pitch_shifted/trai...</td>\n",
       "    </tr>\n",
       "    <tr>\n",
       "      <th>2</th>\n",
       "      <td>జ్ఞానపీఠ పురస్కారం గ్రహీత విశ్వనాథ సత్యనారాయణ.</td>\n",
       "      <td>4.805333</td>\n",
       "      <td>resources/te_indic_male_tts_pitch_shifted/trai...</td>\n",
       "    </tr>\n",
       "    <tr>\n",
       "      <th>3</th>\n",
       "      <td>ఈ గ్రామము కోస్గి నుంచి మద్దూరు వెళ్ళు మార్గముల...</td>\n",
       "      <td>4.917333</td>\n",
       "      <td>resources/te_indic_male_tts_pitch_shifted/trai...</td>\n",
       "    </tr>\n",
       "    <tr>\n",
       "      <th>4</th>\n",
       "      <td>ఇక్కడ కేవలం ఐదవ తరగతి వరకు మాత్రమే పాఠశాల సౌకర...</td>\n",
       "      <td>5.218667</td>\n",
       "      <td>resources/te_indic_male_tts_pitch_shifted/trai...</td>\n",
       "    </tr>\n",
       "  </tbody>\n",
       "</table>\n",
       "</div>"
      ],
      "text/plain": [
       "                                                text  duration  \\\n",
       "0           ఈ గ్రామంలో ప్రజల ప్రధాన వృత్తి వ్యవసాయం.  4.205333   \n",
       "1  కుత్బుల్లాపూర్ ఆంధ్ర ప్రదేశ్ రాష్ట్రంలోని రంగా...  6.432000   \n",
       "2     జ్ఞానపీఠ పురస్కారం గ్రహీత విశ్వనాథ సత్యనారాయణ.  4.805333   \n",
       "3  ఈ గ్రామము కోస్గి నుంచి మద్దూరు వెళ్ళు మార్గముల...  4.917333   \n",
       "4  ఇక్కడ కేవలం ఐదవ తరగతి వరకు మాత్రమే పాఠశాల సౌకర...  5.218667   \n",
       "\n",
       "                                      audio_filepath  \n",
       "0  resources/te_indic_male_tts_pitch_shifted/trai...  \n",
       "1  resources/te_indic_male_tts_pitch_shifted/trai...  \n",
       "2  resources/te_indic_male_tts_pitch_shifted/trai...  \n",
       "3  resources/te_indic_male_tts_pitch_shifted/trai...  \n",
       "4  resources/te_indic_male_tts_pitch_shifted/trai...  "
      ]
     },
     "execution_count": 58,
     "metadata": {},
     "output_type": "execute_result"
    }
   ],
   "source": [
    "te_indic_tts_male_pitch_shifted = pd.read_csv('resources/te_indic_male_tts_pitch_shifted/indic_tts_male_pitch_shifted_manifest.csv')\n",
    "te_indic_tts_male_pitch_shifted.drop(columns=['audio_filepath'], inplace=True)\n",
    "te_indic_tts_male_pitch_shifted.rename(columns={'new_audio_filepath': 'audio_filepath'}, inplace=True)\n",
    "te_indic_tts_male_pitch_shifted.head()"
   ]
  },
  {
   "cell_type": "code",
   "execution_count": 59,
   "metadata": {},
   "outputs": [
    {
     "data": {
      "text/html": [
       "<div>\n",
       "<style scoped>\n",
       "    .dataframe tbody tr th:only-of-type {\n",
       "        vertical-align: middle;\n",
       "    }\n",
       "\n",
       "    .dataframe tbody tr th {\n",
       "        vertical-align: top;\n",
       "    }\n",
       "\n",
       "    .dataframe thead th {\n",
       "        text-align: right;\n",
       "    }\n",
       "</style>\n",
       "<table border=\"1\" class=\"dataframe\">\n",
       "  <thead>\n",
       "    <tr style=\"text-align: right;\">\n",
       "      <th></th>\n",
       "      <th>text</th>\n",
       "      <th>duration</th>\n",
       "      <th>audio_filepath</th>\n",
       "    </tr>\n",
       "  </thead>\n",
       "  <tbody>\n",
       "    <tr>\n",
       "      <th>0</th>\n",
       "      <td>ఈ గ్రామంలో ప్రజల ప్రధాన వృత్తి వ్యవసాయం.</td>\n",
       "      <td>4.205333</td>\n",
       "      <td>resources/te_indic_male_tts_background_noise/t...</td>\n",
       "    </tr>\n",
       "    <tr>\n",
       "      <th>1</th>\n",
       "      <td>కుత్బుల్లాపూర్ ఆంధ్ర ప్రదేశ్ రాష్ట్రంలోని రంగా...</td>\n",
       "      <td>6.432000</td>\n",
       "      <td>resources/te_indic_male_tts_background_noise/t...</td>\n",
       "    </tr>\n",
       "    <tr>\n",
       "      <th>2</th>\n",
       "      <td>జ్ఞానపీఠ పురస్కారం గ్రహీత విశ్వనాథ సత్యనారాయణ.</td>\n",
       "      <td>4.805333</td>\n",
       "      <td>resources/te_indic_male_tts_background_noise/t...</td>\n",
       "    </tr>\n",
       "    <tr>\n",
       "      <th>3</th>\n",
       "      <td>ఈ గ్రామము కోస్గి నుంచి మద్దూరు వెళ్ళు మార్గముల...</td>\n",
       "      <td>4.917333</td>\n",
       "      <td>resources/te_indic_male_tts_background_noise/t...</td>\n",
       "    </tr>\n",
       "    <tr>\n",
       "      <th>4</th>\n",
       "      <td>ఇక్కడ కేవలం ఐదవ తరగతి వరకు మాత్రమే పాఠశాల సౌకర...</td>\n",
       "      <td>5.218667</td>\n",
       "      <td>resources/te_indic_male_tts_background_noise/t...</td>\n",
       "    </tr>\n",
       "  </tbody>\n",
       "</table>\n",
       "</div>"
      ],
      "text/plain": [
       "                                                text  duration  \\\n",
       "0           ఈ గ్రామంలో ప్రజల ప్రధాన వృత్తి వ్యవసాయం.  4.205333   \n",
       "1  కుత్బుల్లాపూర్ ఆంధ్ర ప్రదేశ్ రాష్ట్రంలోని రంగా...  6.432000   \n",
       "2     జ్ఞానపీఠ పురస్కారం గ్రహీత విశ్వనాథ సత్యనారాయణ.  4.805333   \n",
       "3  ఈ గ్రామము కోస్గి నుంచి మద్దూరు వెళ్ళు మార్గముల...  4.917333   \n",
       "4  ఇక్కడ కేవలం ఐదవ తరగతి వరకు మాత్రమే పాఠశాల సౌకర...  5.218667   \n",
       "\n",
       "                                      audio_filepath  \n",
       "0  resources/te_indic_male_tts_background_noise/t...  \n",
       "1  resources/te_indic_male_tts_background_noise/t...  \n",
       "2  resources/te_indic_male_tts_background_noise/t...  \n",
       "3  resources/te_indic_male_tts_background_noise/t...  \n",
       "4  resources/te_indic_male_tts_background_noise/t...  "
      ]
     },
     "execution_count": 59,
     "metadata": {},
     "output_type": "execute_result"
    }
   ],
   "source": [
    "te_indic_tts_male_background_noise = pd.read_csv(\"resources/te_indic_male_tts_background_noise/indic_tts_male_background_noise_manifest.csv\")\n",
    "te_indic_tts_male_background_noise.drop(columns=['audio_filepath'], inplace=True)\n",
    "te_indic_tts_male_background_noise.rename(columns={'new_audio_filepath': 'audio_filepath'}, inplace=True)\n",
    "te_indic_tts_male_background_noise.head()"
   ]
  },
  {
   "cell_type": "code",
   "execution_count": 78,
   "metadata": {},
   "outputs": [],
   "source": [
    "import json\n",
    "\n",
    "with open('resources/final_te_manifests/manifest.json', \"w\") as fout:\n",
    "    for j in (te_ai4bharat, \n",
    "              te_background_noise, \n",
    "              te_fleurs, \n",
    "              te_fleurs_pitch_shifted, \n",
    "              te_openslr, \n",
    "              te_pitch_shifted, \n",
    "              te_white_noise, \n",
    "              te_indic_tts_female,\n",
    "              indic_tts_pitch_shifted,\n",
    "              te_indic_tts_background_noise,\n",
    "              te_indic_tts_male,\n",
    "              te_indic_tts_male_pitch_shifted,\n",
    "              te_indic_tts_male_background_noise\n",
    "                ):\n",
    "        for i in range(len(j)):\n",
    "            metadata = {\n",
    "                \"audio_filepath\": j['audio_filepath'][i],\n",
    "                \"duration\": j['duration'][i],\n",
    "                \"text\": j['text'][i]\n",
    "            }\n",
    "            json.dump(metadata, fout)\n",
    "            fout.write('\\n')\n",
    "\n",
    "# import json\n",
    "\n",
    "# with open('resources/final_te_manifests/manifest.json', \"w\") as fout:\n",
    "#     for i in range(len(te_ai4bharat)):\n",
    "#         metadata = {\n",
    "#             \"audio_filepath\": te_ai4bharat['audio_filepath'][i],\n",
    "#             \"duration\": te_ai4bharat['duration'][i],\n",
    "#             \"text\": te_ai4bharat['text'][i]\n",
    "#         }\n",
    "#         json.dump(metadata, fout)\n",
    "#         fout.write('\\n')\n",
    "    \n",
    "#     for i in range(len(te_background_noise)):\n",
    "#         metadata = {\n",
    "#             \"audio_filepath\": te_background_noise['audio_filepath'][i],\n",
    "#             \"duration\": te_background_noise['duration'][i],\n",
    "#             \"text\": te_background_noise['text'][i]\n",
    "#         }\n",
    "#         json.dump(metadata, fout)\n",
    "#         fout.write('\\n')\n",
    "    \n",
    "#     for i in range(len(te_fleurs)):\n",
    "#         metadata = {\n",
    "#             \"audio_filepath\": te_fleurs['audio_filepath'][i],\n",
    "#             \"duration\": te_fleurs['duration'][i],\n",
    "#             \"text\": te_fleurs['text'][i]\n",
    "#         }\n",
    "#         json.dump(metadata, fout)\n",
    "#         fout.write('\\n')\n",
    "    \n",
    "#     for i in range(len(te_fleurs_pitch_shifted)):\n",
    "#         metadata = {\n",
    "#             \"audio_filepath\": te_fleurs_pitch_shifted['audio_filepath'][i],\n",
    "#             \"duration\": te_fleurs_pitch_shifted['duration'][i],\n",
    "#             \"text\": te_fleurs_pitch_shifted['text'][i]\n",
    "#         }\n",
    "#         json.dump(metadata, fout)\n",
    "#         fout.write('\\n')\n",
    "    \n",
    "#     for i in range(len(te_openslr)):\n",
    "#         metadata = {\n",
    "#             \"audio_filepath\": te_openslr['audio_filepath'][i],\n",
    "#             \"duration\": te_openslr['duration'][i],\n",
    "#             \"text\": te_openslr['text'][i]\n",
    "#         }\n",
    "#         json.dump(metadata, fout)\n",
    "#         fout.write('\\n')\n",
    "    \n",
    "#     for i in range(len(te_pitch_shifted)):\n",
    "#         metadata = {\n",
    "#             \"audio_filepath\": te_pitch_shifted['audio_filepath'][i],\n",
    "#             \"duration\": te_pitch_shifted['duration'][i],\n",
    "#             \"text\": te_pitch_shifted['text'][i]\n",
    "#         }\n",
    "#         json.dump(metadata, fout)\n",
    "#         fout.write('\\n')\n",
    "    \n",
    "#     for i in range(len(te_white_noise)):\n",
    "#         metadata = {\n",
    "#             \"audio_filepath\": te_white_noise['audio_filepath'][i],\n",
    "#             \"duration\": te_white_noise['duration'][i],\n",
    "#             \"text\": te_white_noise['text'][i]\n",
    "#         }\n",
    "#         json.dump(metadata, fout)\n",
    "#         fout.write('\\n')\n",
    "    \n",
    "#     fout.close()\n"
   ]
  },
  {
   "cell_type": "code",
   "execution_count": 79,
   "metadata": {},
   "outputs": [
    {
     "data": {
      "text/plain": [
       "423261"
      ]
     },
     "execution_count": 79,
     "metadata": {},
     "output_type": "execute_result"
    }
   ],
   "source": [
    "sum([len(i) for i in (te_ai4bharat, \n",
    "              te_background_noise, \n",
    "              te_fleurs, \n",
    "              te_fleurs_pitch_shifted, \n",
    "              te_openslr, \n",
    "              te_pitch_shifted, \n",
    "              te_white_noise, \n",
    "              te_indic_tts_female,\n",
    "              indic_tts_pitch_shifted,\n",
    "              te_indic_tts_background_noise,\n",
    "              te_indic_tts_male,\n",
    "              te_indic_tts_male_pitch_shifted,\n",
    "              te_indic_tts_male_background_noise\n",
    "                )])"
   ]
  },
  {
   "cell_type": "code",
   "execution_count": 20,
   "metadata": {},
   "outputs": [
    {
     "data": {
      "text/html": [
       "<div>\n",
       "<style scoped>\n",
       "    .dataframe tbody tr th:only-of-type {\n",
       "        vertical-align: middle;\n",
       "    }\n",
       "\n",
       "    .dataframe tbody tr th {\n",
       "        vertical-align: top;\n",
       "    }\n",
       "\n",
       "    .dataframe thead th {\n",
       "        text-align: right;\n",
       "    }\n",
       "</style>\n",
       "<table border=\"1\" class=\"dataframe\">\n",
       "  <thead>\n",
       "    <tr style=\"text-align: right;\">\n",
       "      <th></th>\n",
       "      <th>audio_filepath</th>\n",
       "      <th>sample_rate</th>\n",
       "      <th>text</th>\n",
       "      <th>duration</th>\n",
       "    </tr>\n",
       "  </thead>\n",
       "  <tbody>\n",
       "    <tr>\n",
       "      <th>0</th>\n",
       "      <td>resources/newsonair_v5/telugu/Regional-Vijayaw...</td>\n",
       "      <td>6400</td>\n",
       "      <td>కాగా</td>\n",
       "      <td>0.40</td>\n",
       "    </tr>\n",
       "    <tr>\n",
       "      <th>1</th>\n",
       "      <td>resources/newsonair_v5/telugu/Regional-Vijayaw...</td>\n",
       "      <td>21440</td>\n",
       "      <td>ఆంధ్రప్రదేశ్ లో ప్రైవేటు</td>\n",
       "      <td>1.34</td>\n",
       "    </tr>\n",
       "    <tr>\n",
       "      <th>2</th>\n",
       "      <td>resources/newsonair_v5/telugu/Regional-Vijayaw...</td>\n",
       "      <td>145280</td>\n",
       "      <td>ప్రధాన మంత్రి నరేంద్ర మోదీ తన మనసులోని భావాలను...</td>\n",
       "      <td>9.08</td>\n",
       "    </tr>\n",
       "    <tr>\n",
       "      <th>3</th>\n",
       "      <td>resources/newsonair_v5/telugu/Regional-Vijayaw...</td>\n",
       "      <td>24960</td>\n",
       "      <td>గండి పడిన చెరువులను పరిశీలించి</td>\n",
       "      <td>1.56</td>\n",
       "    </tr>\n",
       "    <tr>\n",
       "      <th>4</th>\n",
       "      <td>resources/newsonair_v5/telugu/Regional-Vijayaw...</td>\n",
       "      <td>6720</td>\n",
       "      <td>కాగా</td>\n",
       "      <td>0.42</td>\n",
       "    </tr>\n",
       "  </tbody>\n",
       "</table>\n",
       "</div>"
      ],
      "text/plain": [
       "                                      audio_filepath sample_rate  \\\n",
       "0  resources/newsonair_v5/telugu/Regional-Vijayaw...        6400   \n",
       "1  resources/newsonair_v5/telugu/Regional-Vijayaw...       21440   \n",
       "2  resources/newsonair_v5/telugu/Regional-Vijayaw...      145280   \n",
       "3  resources/newsonair_v5/telugu/Regional-Vijayaw...       24960   \n",
       "4  resources/newsonair_v5/telugu/Regional-Vijayaw...        6720   \n",
       "\n",
       "                                                text  duration  \n",
       "0                                               కాగా      0.40  \n",
       "1                           ఆంధ్రప్రదేశ్ లో ప్రైవేటు      1.34  \n",
       "2  ప్రధాన మంత్రి నరేంద్ర మోదీ తన మనసులోని భావాలను...      9.08  \n",
       "3                     గండి పడిన చెరువులను పరిశీలించి      1.56  \n",
       "4                                               కాగా      0.42  "
      ]
     },
     "execution_count": 20,
     "metadata": {},
     "output_type": "execute_result"
    }
   ],
   "source": [
    "# concat all the dataframes\n",
    "\n",
    "manifest_df = pd.concat([te_ai4bharat, te_background_noise, te_fleurs, te_fleurs_pitch_shifted, te_openslr, te_pitch_shifted, te_white_noise], ignore_index=True)\n",
    "\n",
    "manifest_df.head()"
   ]
  },
  {
   "cell_type": "code",
   "execution_count": 170,
   "metadata": {},
   "outputs": [
    {
     "name": "stdout",
     "output_type": "stream",
     "text": [
      "423261\n"
     ]
    }
   ],
   "source": [
    "with open('resources/final_te_manifests/manifest.json', 'r') as f:\n",
    "    lines = f.readlines()\n",
    "    print(len(lines))"
   ]
  },
  {
   "cell_type": "code",
   "execution_count": null,
   "metadata": {},
   "outputs": [],
   "source": [
    "import json\n",
    "print(len(lines))\n",
    "\n",
    "for i in lines:\n",
    "    line_object = json.loads(i)\n",
    "    if line_object['duration'] < 0.3:\n",
    "        lines.remove(i)\n",
    "print(len(lines))\n"
   ]
  },
  {
   "cell_type": "code",
   "execution_count": 180,
   "metadata": {},
   "outputs": [
    {
     "name": "stdout",
     "output_type": "stream",
     "text": [
      "421671\n"
     ]
    }
   ],
   "source": [
    "print(len(lines))\n",
    "for i in lines:\n",
    "    line_object = json.loads(i)\n",
    "    if type(line_object['text']) != str:\n",
    "        print(i)\n",
    "        lines.remove(i)"
   ]
  },
  {
   "cell_type": "code",
   "execution_count": null,
   "metadata": {},
   "outputs": [
    {
     "data": {
      "text/plain": [
       "'ప్రస్తుతం కరోనా రికవరీ రేటు తొంభై మూడు'"
      ]
     },
     "execution_count": 11,
     "metadata": {},
     "output_type": "execute_result"
    }
   ],
   "source": [
    "json.loads(lines[8])['text'].lower()"
   ]
  },
  {
   "cell_type": "code",
   "execution_count": 182,
   "metadata": {},
   "outputs": [],
   "source": [
    "for i in lines:\n",
    "    line_object = json.loads(i)\n",
    "    if any([ord(j)>97 and ord(j) < 112 for j in line_object['text'].lower()[:-2]]):\n",
    "        print(line_object['text'].lower()[:-2])\n",
    "        print(line_object['text'])\n",
    "        lines.remove(i)"
   ]
  },
  {
   "cell_type": "code",
   "execution_count": 69,
   "metadata": {},
   "outputs": [
    {
     "data": {
      "text/plain": [
       "421480"
      ]
     },
     "execution_count": 69,
     "metadata": {},
     "output_type": "execute_result"
    }
   ],
   "source": [
    "len(lines)"
   ]
  },
  {
   "cell_type": "code",
   "execution_count": 25,
   "metadata": {},
   "outputs": [],
   "source": [
    "!rm -rf resources/final_te_manifests/train_manifest.json\n",
    "!rm -rf resources/final_te_manifests/test_manifest.json\n",
    "!rm -rf resources/final_te_manifests/dev_manifest.json"
   ]
  },
  {
   "cell_type": "code",
   "execution_count": 46,
   "metadata": {},
   "outputs": [
    {
     "name": "stdout",
     "output_type": "stream",
     "text": [
      "'=3.3.2'    configs\t     lightning_logs.zip   startup_script.sh\t temp\n",
      " NeMo\t    documents\t     notebooks\t\t  te_manifest.json\n",
      " asr_venv   lightning_logs   resources\t\t  te_manifest_val.json\n"
     ]
    }
   ],
   "source": [
    "!ls"
   ]
  },
  {
   "cell_type": "code",
   "execution_count": 3,
   "metadata": {},
   "outputs": [
    {
     "data": {
      "text/plain": [
       "str"
      ]
     },
     "execution_count": 3,
     "metadata": {},
     "output_type": "execute_result"
    }
   ],
   "source": [
    "type(lines[0])"
   ]
  },
  {
   "cell_type": "code",
   "execution_count": 70,
   "metadata": {},
   "outputs": [],
   "source": [
    "for i in lines:\n",
    "    if type(i) != str:\n",
    "        print(i)"
   ]
  },
  {
   "cell_type": "code",
   "execution_count": 71,
   "metadata": {},
   "outputs": [
    {
     "name": "stdout",
     "output_type": "stream",
     "text": [
      "421480\n"
     ]
    }
   ],
   "source": [
    "# preprocessing the lines\n",
    "\n",
    "print(len(lines))\n",
    "for i in lines:\n",
    "    line_object = json.loads(i)\n",
    "    if type(line_object['text']) != str:\n",
    "        print(i)\n",
    "        lines.remove(i)\n",
    "\n"
   ]
  },
  {
   "cell_type": "code",
   "execution_count": 72,
   "metadata": {},
   "outputs": [],
   "source": [
    "texts = []\n",
    "durations = []\n",
    "\n",
    "for i in lines:\n",
    "    line_object = json.loads(i)\n",
    "    texts.append(line_object['text'])\n",
    "    durations.append(line_object['duration'])\n"
   ]
  },
  {
   "cell_type": "code",
   "execution_count": 73,
   "metadata": {},
   "outputs": [
    {
     "data": {
      "text/plain": [
       "421480"
      ]
     },
     "execution_count": 73,
     "metadata": {},
     "output_type": "execute_result"
    }
   ],
   "source": [
    "len(durations)"
   ]
  },
  {
   "cell_type": "code",
   "execution_count": 75,
   "metadata": {},
   "outputs": [
    {
     "name": "stdout",
     "output_type": "stream",
     "text": [
      "Defaulting to user installation because normal site-packages is not writeable\n",
      "Collecting seaborn\n",
      "  Downloading seaborn-0.13.2-py3-none-any.whl (294 kB)\n",
      "\u001b[2K     \u001b[90m━━━━━━━━━━━━━━━━━━━━━━━━━━━━━━━━━━━━━━━\u001b[0m \u001b[32m294.9/294.9 KB\u001b[0m \u001b[31m3.6 MB/s\u001b[0m eta \u001b[36m0:00:00\u001b[0ma \u001b[36m0:00:01\u001b[0m\n",
      "\u001b[?25hRequirement already satisfied: numpy!=1.24.0,>=1.20 in /home/ubuntu/.local/lib/python3.10/site-packages (from seaborn) (1.23.5)\n",
      "Requirement already satisfied: matplotlib!=3.6.1,>=3.4 in /usr/lib/python3/dist-packages (from seaborn) (3.5.1)\n",
      "Requirement already satisfied: pandas>=1.2 in /home/ubuntu/.local/lib/python3.10/site-packages (from seaborn) (2.1.4)\n",
      "Requirement already satisfied: python-dateutil>=2.8.2 in /home/ubuntu/.local/lib/python3.10/site-packages (from pandas>=1.2->seaborn) (2.8.2)\n",
      "Requirement already satisfied: pytz>=2020.1 in /home/ubuntu/.local/lib/python3.10/site-packages (from pandas>=1.2->seaborn) (2023.3)\n",
      "Requirement already satisfied: tzdata>=2022.1 in /home/ubuntu/.local/lib/python3.10/site-packages (from pandas>=1.2->seaborn) (2023.3)\n",
      "Requirement already satisfied: six>=1.5 in /usr/lib/python3/dist-packages (from python-dateutil>=2.8.2->pandas>=1.2->seaborn) (1.16.0)\n",
      "Installing collected packages: seaborn\n",
      "Successfully installed seaborn-0.13.2\n"
     ]
    }
   ],
   "source": [
    "!pip install seaborn"
   ]
  },
  {
   "cell_type": "code",
   "execution_count": 79,
   "metadata": {},
   "outputs": [
    {
     "data": {
      "image/png": "[encoded data removed]",
      "text/plain": [
       "<Figure size 1440x720 with 1 Axes>"
      ]
     },
     "metadata": {
      "needs_background": "light"
     },
     "output_type": "display_data"
    },
    {
     "data": {
      "image/png": "[encoded data removed]",
      "text/plain": [
       "<Figure size 1440x720 with 1 Axes>"
      ]
     },
     "metadata": {
      "needs_background": "light"
     },
     "output_type": "display_data"
    },
    {
     "name": "stderr",
     "output_type": "stream",
     "text": [
      "/tmp/ipykernel_1384/3011790675.py:20: FutureWarning: \n",
      "\n",
      "`shade` is now deprecated in favor of `fill`; setting `fill=True`.\n",
      "This will become an error in seaborn v0.14.0; please update your code.\n",
      "\n",
      "  sns.kdeplot(np.array(durations), shade=True)\n"
     ]
    },
    {
     "data": {
      "image/png": "[encoded data removed]",
      "text/plain": [
       "<Figure size 1440x720 with 1 Axes>"
      ]
     },
     "metadata": {
      "needs_background": "light"
     },
     "output_type": "display_data"
    }
   ],
   "source": [
    "# plot histogram, density plot, boxplot, bell curve of durations\n",
    "\n",
    "import matplotlib.pyplot as plt\n",
    "import numpy as np\n",
    "\n",
    "\n",
    "plt.figure(figsize=(20, 10))\n",
    "plt.hist(durations, bins=100)\n",
    "\n",
    "plt.show()\n",
    "\n",
    "plt.figure(figsize=(20, 10))\n",
    "plt.boxplot(durations)\n",
    "\n",
    "plt.show()\n",
    "\n",
    "import seaborn as sns\n",
    "\n",
    "plt.figure(figsize=(20, 10))\n",
    "sns.kdeplot(np.array(durations), shade=True)\n",
    "\n",
    "plt.show()"
   ]
  },
  {
   "cell_type": "code",
   "execution_count": 80,
   "metadata": {},
   "outputs": [
    {
     "data": {
      "text/plain": [
       "5.017252849535532"
      ]
     },
     "execution_count": 80,
     "metadata": {},
     "output_type": "execute_result"
    }
   ],
   "source": [
    "# standard deviation of durations\n",
    "\n",
    "np.std(durations)"
   ]
  },
  {
   "cell_type": "code",
   "execution_count": 183,
   "metadata": {},
   "outputs": [
    {
     "name": "stdout",
     "output_type": "stream",
     "text": [
      "421668\n",
      "412425\n"
     ]
    }
   ],
   "source": [
    "import json\n",
    "print(len(lines))\n",
    "\n",
    "for i in lines:\n",
    "    line_object = json.loads(i)\n",
    "    if line_object['duration'] < 1 or line_object['duration'] > 30:\n",
    "        lines.remove(i)\n",
    "print(len(lines))"
   ]
  },
  {
   "cell_type": "code",
   "execution_count": 82,
   "metadata": {},
   "outputs": [
    {
     "data": {
      "text/plain": [
       "9062"
      ]
     },
     "execution_count": 82,
     "metadata": {},
     "output_type": "execute_result"
    }
   ],
   "source": [
    "421480-412418"
   ]
  },
  {
   "cell_type": "code",
   "execution_count": 36,
   "metadata": {},
   "outputs": [
    {
     "data": {
      "text/plain": [
       "('avg chars in transcript', 103.37208491212918)"
      ]
     },
     "execution_count": 36,
     "metadata": {},
     "output_type": "execute_result"
    }
   ],
   "source": [
    "\"avg chars in transcript\", sum([len(i) for i in texts])/len(texts)"
   ]
  },
  {
   "cell_type": "code",
   "execution_count": 37,
   "metadata": {},
   "outputs": [
    {
     "data": {
      "text/plain": [
       "('max chars in one transcript', 1473)"
      ]
     },
     "execution_count": 37,
     "metadata": {},
     "output_type": "execute_result"
    }
   ],
   "source": [
    "\"max chars in one transcript\", max([len(i) for i in texts])"
   ]
  },
  {
   "cell_type": "code",
   "execution_count": 38,
   "metadata": {},
   "outputs": [
    {
     "data": {
      "text/plain": [
       "('min chars in one transcript', 1)"
      ]
     },
     "execution_count": 38,
     "metadata": {},
     "output_type": "execute_result"
    }
   ],
   "source": [
    "\"min chars in one transcript\", min([len(i) for i in texts])"
   ]
  },
  {
   "cell_type": "code",
   "execution_count": 39,
   "metadata": {},
   "outputs": [
    {
     "name": "stdout",
     "output_type": "stream",
     "text": [
      "avg duration of audio 6.95139615433188\n",
      "max duration of audio 220.66\n",
      "min duration of audio 0.3\n"
     ]
    }
   ],
   "source": [
    "print(\"avg duration of audio\", sum(durations)/len(durations))\n",
    "print(\"max duration of audio\", max(durations))\n",
    "print(\"min duration of audio\", min(durations))"
   ]
  },
  {
   "cell_type": "code",
   "execution_count": 41,
   "metadata": {},
   "outputs": [
    {
     "data": {
      "text/plain": [
       "813.836635711781"
      ]
     },
     "execution_count": 41,
     "metadata": {},
     "output_type": "execute_result"
    }
   ],
   "source": [
    "sum(durations)/60/60"
   ]
  },
  {
   "cell_type": "code",
   "execution_count": 166,
   "metadata": {},
   "outputs": [],
   "source": [
    "lines.remove(lines[4])"
   ]
  },
  {
   "cell_type": "code",
   "execution_count": 167,
   "metadata": {},
   "outputs": [
    {
     "data": {
      "text/plain": [
       "412417"
      ]
     },
     "execution_count": 167,
     "metadata": {},
     "output_type": "execute_result"
    }
   ],
   "source": [
    "len(lines)"
   ]
  },
  {
   "cell_type": "code",
   "execution_count": 169,
   "metadata": {},
   "outputs": [
    {
     "name": "stdout",
     "output_type": "stream",
     "text": [
      "Defaulting to user installation because normal site-packages is not writeable\n",
      "Collecting pandarallel\n",
      "  Downloading pandarallel-1.6.5.tar.gz (14 kB)\n",
      "  Preparing metadata (setup.py) ... \u001b[?25ldone\n",
      "\u001b[?25hRequirement already satisfied: dill>=0.3.1 in /home/ubuntu/.local/lib/python3.10/site-packages (from pandarallel) (0.3.7)\n",
      "Requirement already satisfied: pandas>=1 in /home/ubuntu/.local/lib/python3.10/site-packages (from pandarallel) (2.1.4)\n",
      "Requirement already satisfied: psutil in /home/ubuntu/.local/lib/python3.10/site-packages (from pandarallel) (5.9.7)\n",
      "Requirement already satisfied: numpy<2,>=1.22.4 in /home/ubuntu/.local/lib/python3.10/site-packages (from pandas>=1->pandarallel) (1.23.5)\n",
      "Requirement already satisfied: pytz>=2020.1 in /home/ubuntu/.local/lib/python3.10/site-packages (from pandas>=1->pandarallel) (2023.3)\n",
      "Requirement already satisfied: tzdata>=2022.1 in /home/ubuntu/.local/lib/python3.10/site-packages (from pandas>=1->pandarallel) (2023.3)\n",
      "Requirement already satisfied: python-dateutil>=2.8.2 in /home/ubuntu/.local/lib/python3.10/site-packages (from pandas>=1->pandarallel) (2.8.2)\n",
      "Requirement already satisfied: six>=1.5 in /usr/lib/python3/dist-packages (from python-dateutil>=2.8.2->pandas>=1->pandarallel) (1.16.0)\n",
      "Building wheels for collected packages: pandarallel\n",
      "  Building wheel for pandarallel (setup.py) ... \u001b[?25ldone\n",
      "\u001b[?25h  Created wheel for pandarallel: filename=pandarallel-1.6.5-py3-none-any.whl size=16678 sha256=21738f9391b9fd7bc26067474f05c1ab9feef85c31d7157582a766215e926e7c\n",
      "  Stored in directory: /home/ubuntu/.cache/pip/wheels/50/4f/1e/34e057bb868842209f1623f195b74fd7eda229308a7352d47f\n",
      "Successfully built pandarallel\n",
      "Installing collected packages: pandarallel\n",
      "Successfully installed pandarallel-1.6.5\n"
     ]
    }
   ],
   "source": [
    "!pip install pandarallel"
   ]
  },
  {
   "cell_type": "code",
   "execution_count": 186,
   "metadata": {},
   "outputs": [],
   "source": [
    "import pandas as pd"
   ]
  },
  {
   "cell_type": "code",
   "execution_count": 187,
   "metadata": {},
   "outputs": [],
   "source": [
    "list_series = pd.Series(lines)"
   ]
  },
  {
   "cell_type": "code",
   "execution_count": 205,
   "metadata": {},
   "outputs": [],
   "source": [
    "def process_telugu_manifest(object):\n",
    "    line_object = json.loads(object)\n",
    "    line_object['text'] = ''.join([j for j in line_object['text'] if (ord(j) > 3072 and ord(j) < 3199) or (ord(j)==32 or ord(j)==8204) or (ord(j) > 48 and ord(j) < 58) ])\n",
    "    new_line_object = json.dumps(line_object)\n",
    "    return new_line_object\n",
    "    "
   ]
  },
  {
   "cell_type": "code",
   "execution_count": 206,
   "metadata": {},
   "outputs": [
    {
     "name": "stdout",
     "output_type": "stream",
     "text": [
      "INFO: Pandarallel will run on 4 workers.\n",
      "INFO: Pandarallel will use Memory file system to transfer data between the main process and workers.\n"
     ]
    },
    {
     "data": {
      "application/vnd.jupyter.widget-view+json": {
       "model_id": "2daef4b3970e4c1cb4aaccd6aeadc1e5",
       "version_major": 2,
       "version_minor": 0
      },
      "text/plain": [
       "VBox(children=(HBox(children=(IntProgress(value=0, description='0.00%', max=103107), Label(value='0 / 103107')…"
      ]
     },
     "metadata": {},
     "output_type": "display_data"
    }
   ],
   "source": [
    "from pandarallel import pandarallel\n",
    "\n",
    "pandarallel.initialize(progress_bar=True)\n",
    "\n",
    "new_lines = list_series.parallel_apply(process_telugu_manifest)"
   ]
  },
  {
   "cell_type": "code",
   "execution_count": 207,
   "metadata": {},
   "outputs": [
    {
     "data": {
      "text/plain": [
       "'2001 సెప్టెంబరు 11 అనంతర కాలంలో భద్రతా తనిఖీ కేంద్రాల వద్ద శోధనలు కూడా చాలా ఎక్కువ లోతుగా తయారయ్యాయి.'"
      ]
     },
     "execution_count": 207,
     "metadata": {},
     "output_type": "execute_result"
    }
   ],
   "source": [
    "json.loads(lines[277201])[\"text\"]"
   ]
  },
  {
   "cell_type": "code",
   "execution_count": 208,
   "metadata": {},
   "outputs": [
    {
     "data": {
      "text/plain": [
       "'21 సెప్టెంబరు 11 అనంతర కాలంలో భద్రతా తనిఖీ కేంద్రాల వద్ద శోధనలు కూడా చాలా ఎక్కువ లోతుగా తయారయ్యాయి'"
      ]
     },
     "execution_count": 208,
     "metadata": {},
     "output_type": "execute_result"
    }
   ],
   "source": [
    "json.loads(new_lines[277201])[\"text\"]"
   ]
  },
  {
   "cell_type": "code",
   "execution_count": 212,
   "metadata": {},
   "outputs": [],
   "source": [
    "new_lines = list(new_lines)"
   ]
  },
  {
   "cell_type": "code",
   "execution_count": 213,
   "metadata": {},
   "outputs": [
    {
     "name": "stdout",
     "output_type": "stream",
     "text": [
      "329940\n",
      "41243\n",
      "41242\n"
     ]
    }
   ],
   "source": [
    "# split te_manifest into train, dev and test sets\n",
    "\n",
    "import random\n",
    "\n",
    "random.shuffle(lines)\n",
    "\n",
    "train_lines = lines[:int(0.80*len(lines))]\n",
    "test_lines = lines[int(0.80*len(lines)):int(0.90*len(lines))]\n",
    "dev_lines = lines[int(0.90*len(lines)):]\n",
    "\n",
    "\n",
    "print(len(train_lines))\n",
    "print(len(dev_lines))\n",
    "print(len(test_lines))\n",
    "\n",
    "with open('resources/final_te_manifests/train_manifest.json', 'w') as f:\n",
    "    for i in train_lines:\n",
    "        dict = json.loads(i)\n",
    "        json.dump(dict, f)\n",
    "        f.write('\\n')\n",
    "\n",
    "with open('resources/final_te_manifests/dev_manifest.json', 'w') as f:\n",
    "    for i in dev_lines:\n",
    "        dict = json.loads(i)\n",
    "        json.dump(dict, f)\n",
    "        f.write('\\n')\n",
    "\n",
    "with open('resources/final_te_manifests/test_manifest.json', 'w') as f:\n",
    "    for i in test_lines:\n",
    "        dict = json.loads(i)\n",
    "        json.dump(dict, f)\n",
    "        f.write('\\n')\n",
    "\n"
   ]
  },
  {
   "cell_type": "code",
   "execution_count": 172,
   "metadata": {},
   "outputs": [],
   "source": [
    "from collections import defaultdict\n",
    "from tqdm.auto import tqdm\n",
    "\n",
    "\n",
    "def get_charset(manifest_data):\n",
    "    charset = defaultdict(int)\n",
    "    for row in tqdm(manifest_data, desc=\"Computing character set\"):\n",
    "        text = row['text']\n",
    "        for character in text:\n",
    "            charset[character] += 1\n",
    "    return charset"
   ]
  },
  {
   "cell_type": "code",
   "execution_count": 173,
   "metadata": {},
   "outputs": [
    {
     "data": {
      "application/vnd.jupyter.widget-view+json": {
       "model_id": "919aa39572224d4ab405961cbce75673",
       "version_major": 2,
       "version_minor": 0
      },
      "text/plain": [
       "Computing character set:   0%|          | 0/337184 [00:00<?, ?it/s]"
      ]
     },
     "metadata": {},
     "output_type": "display_data"
    },
    {
     "data": {
      "application/vnd.jupyter.widget-view+json": {
       "model_id": "85f1a455db574662ae5bfe112bc99729",
       "version_major": 2,
       "version_minor": 0
      },
      "text/plain": [
       "Computing character set:   0%|          | 0/42148 [00:00<?, ?it/s]"
      ]
     },
     "metadata": {},
     "output_type": "display_data"
    },
    {
     "data": {
      "application/vnd.jupyter.widget-view+json": {
       "model_id": "7ca20296459c48a4b3fec2bb9efc7a48",
       "version_major": 2,
       "version_minor": 0
      },
      "text/plain": [
       "Computing character set:   0%|          | 0/42148 [00:00<?, ?it/s]"
      ]
     },
     "metadata": {},
     "output_type": "display_data"
    }
   ],
   "source": [
    "from nemo.collections.asr.parts.utils.manifest_utils import read_manifest, write_manifest\n",
    "\n",
    "train_manifest = read_manifest('resources/final_te_manifests/train_manifest.json')\n",
    "dev_manifest = read_manifest('resources/final_te_manifests/dev_manifest.json')\n",
    "test_manifest = read_manifest('resources/final_te_manifests/test_manifest.json')\n",
    "\n",
    "train_charset = get_charset(train_manifest)\n",
    "dev_charset = get_charset(dev_manifest)\n",
    "test_charset = get_charset(test_manifest)"
   ]
  },
  {
   "cell_type": "code",
   "execution_count": 174,
   "metadata": {},
   "outputs": [
    {
     "name": "stdout",
     "output_type": "stream",
     "text": [
      "Number of tokens in train+dev set : 116\n",
      "Number of tokens in test set : 102\n"
     ]
    }
   ],
   "source": [
    "train_dev_set = set.union(set(train_charset.keys()), set(dev_charset.keys()))\n",
    "test_set = set(test_charset.keys())\n",
    "\n",
    "print(f\"Number of tokens in train+dev set : {len(train_dev_set)}\")\n",
    "print(f\"Number of tokens in test set : {len(test_set)}\")"
   ]
  },
  {
   "cell_type": "code",
   "execution_count": 175,
   "metadata": {},
   "outputs": [
    {
     "name": "stdout",
     "output_type": "stream",
     "text": [
      "Number of OOV tokens in test set : 0\n",
      "\n",
      "set()\n"
     ]
    }
   ],
   "source": [
    "train_test_common = set.intersection(train_dev_set, test_set)\n",
    "test_oov = test_set - train_test_common\n",
    "print(f\"Number of OOV tokens in test set : {len(test_oov)}\")\n",
    "print()\n",
    "print(test_oov)"
   ]
  },
  {
   "cell_type": "code",
   "execution_count": 181,
   "metadata": {},
   "outputs": [
    {
     "name": "stdout",
     "output_type": "stream",
     "text": [
      "/home/ubuntu/.local/lib/python3.10/site-packages/pkg_resources/__init__.py:123: PkgResourcesDeprecationWarning: 1.1build1 is an invalid version and will not be supported in a future release\n",
      "  warnings.warn(\n",
      "/home/ubuntu/.local/lib/python3.10/site-packages/pkg_resources/__init__.py:123: PkgResourcesDeprecationWarning: 0.1.43ubuntu1 is an invalid version and will not be supported in a future release\n",
      "  warnings.warn(\n",
      "INFO:root:Corpus already exists at path : resources/text_corpus/document.txt\n",
      "WARNING:root:Model file already exists, overriding old model file !\n",
      "[NeMo I 2024-01-30 10:17:32 sentencepiece_tokenizer:316] Processing resources/text_corpus/document.txt and store at resources/tokenizer_spe_bpe_v1024\n",
      "sentencepiece_trainer.cc(177) LOG(INFO) Running command: --input=resources/text_corpus/document.txt --model_prefix=resources/tokenizer_spe_bpe_v1024/tokenizer --vocab_size=1024 --shuffle_input_sentence=true --hard_vocab_limit=false --model_type=bpe --character_coverage=1.0 --bos_id=-1 --eos_id=-1 --normalization_rule_name=nmt_nfkc_cf\n",
      "sentencepiece_trainer.cc(77) LOG(INFO) Starts training with : \n",
      "trainer_spec {\n",
      "  input: resources/text_corpus/document.txt\n",
      "  input_format: \n",
      "  model_prefix: resources/tokenizer_spe_bpe_v1024/tokenizer\n",
      "  model_type: BPE\n",
      "  vocab_size: 1024\n",
      "  self_test_sample_size: 0\n",
      "  character_coverage: 1\n",
      "  input_sentence_size: 0\n",
      "  shuffle_input_sentence: 1\n",
      "  seed_sentencepiece_size: 1000000\n",
      "  shrinking_factor: 0.75\n",
      "  max_sentence_length: 4192\n",
      "  num_threads: 16\n",
      "  num_sub_iterations: 2\n",
      "  max_sentencepiece_length: 16\n",
      "  split_by_unicode_script: 1\n",
      "  split_by_number: 1\n",
      "  split_by_whitespace: 1\n",
      "  split_digits: 0\n",
      "  pretokenization_delimiter: \n",
      "  treat_whitespace_as_suffix: 0\n",
      "  allow_whitespace_only_pieces: 0\n",
      "  required_chars: \n",
      "  byte_fallback: 0\n",
      "  vocabulary_output_piece_score: 1\n",
      "  train_extremely_large_corpus: 0\n",
      "  hard_vocab_limit: 0\n",
      "  use_all_vocab: 0\n",
      "  unk_id: 0\n",
      "  bos_id: -1\n",
      "  eos_id: -1\n",
      "  pad_id: -1\n",
      "  unk_piece: <unk>\n",
      "  bos_piece: <s>\n",
      "  eos_piece: </s>\n",
      "  pad_piece: <pad>\n",
      "  unk_surface:  ⁇ \n",
      "  enable_differential_privacy: 0\n",
      "  differential_privacy_noise_level: 0\n",
      "  differential_privacy_clipping_threshold: 0\n",
      "}\n",
      "normalizer_spec {\n",
      "  name: nmt_nfkc_cf\n",
      "  add_dummy_prefix: 1\n",
      "  remove_extra_whitespaces: 1\n",
      "  escape_whitespaces: 1\n",
      "  normalization_rule_tsv: \n",
      "}\n",
      "denormalizer_spec {}\n",
      "trainer_interface.cc(351) LOG(INFO) SentenceIterator is not specified. Using MultiFileSentenceIterator.\n",
      "trainer_interface.cc(183) LOG(INFO) Loading corpus: resources/text_corpus/document.txt\n",
      "trainer_interface.cc(407) LOG(INFO) Loaded all 2302 sentences\n",
      "trainer_interface.cc(423) LOG(INFO) Adding meta_piece: <unk>\n",
      "trainer_interface.cc(428) LOG(INFO) Normalizing sentences...\n",
      "trainer_interface.cc(537) LOG(INFO) all chars count=279725\n",
      "trainer_interface.cc(558) LOG(INFO) Alphabet size=122\n",
      "trainer_interface.cc(559) LOG(INFO) Final character coverage=1\n",
      "trainer_interface.cc(591) LOG(INFO) Done! preprocessed 2302 sentences.\n",
      "trainer_interface.cc(597) LOG(INFO) Tokenizing input sentences with whitespace: 2302\n",
      "trainer_interface.cc(608) LOG(INFO) Done! 10169\n",
      "bpe_model_trainer.cc(159) LOG(INFO) Updating active symbols. max_freq=3446 min_freq=13\n",
      "bpe_model_trainer.cc(268) LOG(INFO) Added: freq=1593 size=20 all=2957 active=1899 piece=లు\n",
      "bpe_model_trainer.cc(268) LOG(INFO) Added: freq=874 size=40 all=3840 active=2782 piece=ల్\n",
      "bpe_model_trainer.cc(268) LOG(INFO) Added: freq=631 size=60 all=4570 active=3512 piece=▁స్\n",
      "bpe_model_trainer.cc(268) LOG(INFO) Added: freq=451 size=80 all=5402 active=4344 piece=డ్\n",
      "bpe_model_trainer.cc(268) LOG(INFO) Added: freq=355 size=100 all=5978 active=4920 piece=్యా\n",
      "bpe_model_trainer.cc(159) LOG(INFO) Updating active symbols. max_freq=355 min_freq=36\n",
      "bpe_model_trainer.cc(268) LOG(INFO) Added: freq=289 size=120 all=6557 active=1523 piece=ేశ\n",
      "bpe_model_trainer.cc(268) LOG(INFO) Added: freq=248 size=140 all=7084 active=2050 piece=్రా\n",
      "bpe_model_trainer.cc(268) LOG(INFO) Added: freq=208 size=160 all=7807 active=2773 piece=▁కు\n",
      "bpe_model_trainer.cc(268) LOG(INFO) Added: freq=187 size=180 all=8281 active=3247 piece=▁కో\n",
      "bpe_model_trainer.cc(268) LOG(INFO) Added: freq=170 size=200 all=8662 active=3628 piece=ాడు\n",
      "bpe_model_trainer.cc(159) LOG(INFO) Updating active symbols. max_freq=170 min_freq=30\n",
      "bpe_model_trainer.cc(268) LOG(INFO) Added: freq=158 size=220 all=9090 active=1402 piece=▁కూడ\n",
      "bpe_model_trainer.cc(268) LOG(INFO) Added: freq=139 size=240 all=9464 active=1776 piece=సం\n",
      "bpe_model_trainer.cc(268) LOG(INFO) Added: freq=125 size=260 all=9780 active=2092 piece=▁మా\n",
      "bpe_model_trainer.cc(268) LOG(INFO) Added: freq=115 size=280 all=10050 active=2362 piece=▁గా\n",
      "bpe_model_trainer.cc(268) LOG(INFO) Added: freq=105 size=300 all=10440 active=2752 piece=తుంది\n",
      "bpe_model_trainer.cc(159) LOG(INFO) Updating active symbols. max_freq=104 min_freq=26\n",
      "bpe_model_trainer.cc(268) LOG(INFO) Added: freq=97 size=320 all=10713 active=1262 piece=▁కలిగి\n",
      "bpe_model_trainer.cc(268) LOG(INFO) Added: freq=91 size=340 all=11050 active=1599 piece=బంధ\n",
      "bpe_model_trainer.cc(268) LOG(INFO) Added: freq=84 size=360 all=11365 active=1914 piece=ద్య\n",
      "bpe_model_trainer.cc(268) LOG(INFO) Added: freq=82 size=380 all=11596 active=2145 piece=▁ఆధ\n",
      "bpe_model_trainer.cc(268) LOG(INFO) Added: freq=78 size=400 all=11783 active=2332 piece=▁కార్\n",
      "bpe_model_trainer.cc(159) LOG(INFO) Updating active symbols. max_freq=78 min_freq=23\n",
      "bpe_model_trainer.cc(268) LOG(INFO) Added: freq=73 size=420 all=12113 active=1314 piece=▁సంవత్సర\n",
      "bpe_model_trainer.cc(268) LOG(INFO) Added: freq=69 size=440 all=12325 active=1526 piece=న్స్\n",
      "bpe_model_trainer.cc(268) LOG(INFO) Added: freq=65 size=460 all=12530 active=1731 piece=హి\n",
      "bpe_model_trainer.cc(268) LOG(INFO) Added: freq=62 size=480 all=12741 active=1942 piece=▁చేశ\n",
      "bpe_model_trainer.cc(268) LOG(INFO) Added: freq=59 size=500 all=12943 active=2144 piece=్యం\n",
      "bpe_model_trainer.cc(159) LOG(INFO) Updating active symbols. max_freq=59 min_freq=20\n",
      "bpe_model_trainer.cc(268) LOG(INFO) Added: freq=56 size=520 all=13098 active=1139 piece=డే\n",
      "bpe_model_trainer.cc(268) LOG(INFO) Added: freq=54 size=540 all=13264 active=1305 piece=ధి\n",
      "bpe_model_trainer.cc(268) LOG(INFO) Added: freq=52 size=560 all=13439 active=1480 piece=ానిక\n",
      "bpe_model_trainer.cc(268) LOG(INFO) Added: freq=50 size=580 all=13597 active=1638 piece=▁తమ\n",
      "bpe_model_trainer.cc(268) LOG(INFO) Added: freq=47 size=600 all=13743 active=1784 piece=గం\n",
      "bpe_model_trainer.cc(159) LOG(INFO) Updating active symbols. max_freq=47 min_freq=19\n",
      "bpe_model_trainer.cc(268) LOG(INFO) Added: freq=45 size=620 all=13947 active=1195 piece=▁అల\n",
      "bpe_model_trainer.cc(268) LOG(INFO) Added: freq=44 size=640 all=14122 active=1370 piece=▁ప్రదేశ\n",
      "bpe_model_trainer.cc(268) LOG(INFO) Added: freq=42 size=660 all=14302 active=1550 piece=▁వల\n",
      "bpe_model_trainer.cc(268) LOG(INFO) Added: freq=41 size=680 all=14463 active=1711 piece=▁ఆర్\n",
      "bpe_model_trainer.cc(268) LOG(INFO) Added: freq=40 size=700 all=14587 active=1835 piece=▁కొరకు\n",
      "bpe_model_trainer.cc(159) LOG(INFO) Updating active symbols. max_freq=40 min_freq=17\n",
      "bpe_model_trainer.cc(268) LOG(INFO) Added: freq=39 size=720 all=14730 active=1144 piece=▁ఆధార\n",
      "bpe_model_trainer.cc(268) LOG(INFO) Added: freq=37 size=740 all=14881 active=1295 piece=ోధ\n",
      "bpe_model_trainer.cc(268) LOG(INFO) Added: freq=36 size=760 all=15027 active=1441 piece=భ్య\n",
      "bpe_model_trainer.cc(268) LOG(INFO) Added: freq=35 size=780 all=15165 active=1579 piece=యాట\n",
      "bpe_model_trainer.cc(268) LOG(INFO) Added: freq=34 size=800 all=15296 active=1710 piece=మ్మ\n",
      "bpe_model_trainer.cc(159) LOG(INFO) Updating active symbols. max_freq=34 min_freq=15\n",
      "bpe_model_trainer.cc(268) LOG(INFO) Added: freq=33 size=820 all=15440 active=1125 piece=ాల్సి\n",
      "bpe_model_trainer.cc(268) LOG(INFO) Added: freq=32 size=840 all=15575 active=1260 piece=ాతావ\n",
      "bpe_model_trainer.cc(268) LOG(INFO) Added: freq=31 size=860 all=15724 active=1409 piece=న్ను\n",
      "bpe_model_trainer.cc(268) LOG(INFO) Added: freq=31 size=880 all=15775 active=1460 piece=▁ప్రకారం\n",
      "bpe_model_trainer.cc(268) LOG(INFO) Added: freq=30 size=900 all=15897 active=1582 piece=▁గుర్త\n",
      "bpe_model_trainer.cc(159) LOG(INFO) Updating active symbols. max_freq=30 min_freq=14\n",
      "trainer_interface.cc(686) LOG(INFO) Saving model: resources/tokenizer_spe_bpe_v1024/tokenizer.model\n",
      "trainer_interface.cc(698) LOG(INFO) Saving vocabs: resources/tokenizer_spe_bpe_v1024/tokenizer.vocab\n",
      "Serialized tokenizer at location : resources/tokenizer_spe_bpe_v1024\n",
      "INFO:root:Done!\n"
     ]
    }
   ],
   "source": [
    "! python3 NeMo/scripts/tokenizers/process_asr_text_tokenizer.py --manifest=resources/final_te_manifests/train_manifest.json,resources/final_te_manifests/dev_manifest.json,resources/final_te_manifests/test_manifest.json \\\n",
    "    --data_root=resources/\\\n",
    "    --vocab_size=1024 \\\n",
    "    --tokenizer=\"spe\" \\\n",
    "    --log\\\n",
    "    --spe_character_coverage=1.0"
   ]
  },
  {
   "cell_type": "markdown",
   "metadata": {},
   "source": [
    "# Configuring the model"
   ]
  },
  {
   "cell_type": "code",
   "execution_count": 1,
   "metadata": {},
   "outputs": [
    {
     "name": "stderr",
     "output_type": "stream",
     "text": [
      "[NeMo W 2024-02-09 18:24:34 nemo_logging:393] /home/ubuntu/miniconda3/envs/asr_venv/lib/python3.11/site-packages/transformers/utils/generic.py:311: UserWarning: torch.utils._pytree._register_pytree_node is deprecated. Please use torch.utils._pytree.register_pytree_node instead.\n",
      "      torch.utils._pytree._register_pytree_node(\n",
      "    \n"
     ]
    },
    {
     "name": "stdout",
     "output_type": "stream",
     "text": [
      "[NeMo I 2024-02-09 18:24:41 nemo_logging:381] Tokenizer SentencePieceTokenizer initialized with 1024 tokens\n"
     ]
    },
    {
     "name": "stderr",
     "output_type": "stream",
     "text": [
      "[NeMo W 2024-02-09 18:24:41 nemo_logging:393] If you intend to do training or fine-tuning, please call the ModelPT.setup_training_data() method and provide a valid configuration file to setup the train data loader.\n",
      "    Train config : \n",
      "    manifest_filepath: null\n",
      "    sample_rate: 16000\n",
      "    batch_size: 1\n",
      "    shuffle: true\n",
      "    num_workers: 8\n",
      "    pin_memory: true\n",
      "    use_start_end_token: false\n",
      "    trim_silence: false\n",
      "    max_duration: 20\n",
      "    min_duration: 0.1\n",
      "    is_tarred: false\n",
      "    tarred_audio_filepaths: null\n",
      "    shuffle_n: 2048\n",
      "    bucketing_strategy: fully_randomized\n",
      "    bucketing_batch_size: null\n",
      "    \n",
      "[NeMo W 2024-02-09 18:24:41 nemo_logging:393] If you intend to do validation, please call the ModelPT.setup_validation_data() or ModelPT.setup_multiple_validation_data() method and provide a valid configuration file to setup the validation data loader(s). \n",
      "    Validation config : \n",
      "    manifest_filepath: null\n",
      "    sample_rate: 16000\n",
      "    batch_size: 32\n",
      "    shuffle: false\n",
      "    num_workers: 8\n",
      "    pin_memory: true\n",
      "    use_start_end_token: false\n",
      "    max_duration: 20\n",
      "    \n",
      "[NeMo W 2024-02-09 18:24:41 nemo_logging:393] Please call the ModelPT.setup_test_data() or ModelPT.setup_multiple_test_data() method and provide a valid configuration file to setup the test data loader(s).\n",
      "    Test config : \n",
      "    manifest_filepath: null\n",
      "    sample_rate: 16000\n",
      "    batch_size: 16\n",
      "    shuffle: false\n",
      "    num_workers: 8\n",
      "    pin_memory: true\n",
      "    use_start_end_token: false\n",
      "    \n"
     ]
    },
    {
     "name": "stdout",
     "output_type": "stream",
     "text": [
      "[NeMo I 2024-02-09 18:24:41 nemo_logging:381] PADDING: 0\n",
      "[NeMo I 2024-02-09 18:24:42 nemo_logging:381] Numba CUDA SpecAugment kernel is being used\n"
     ]
    },
    {
     "name": "stderr",
     "output_type": "stream",
     "text": [
      "[NeMo W 2024-02-09 18:24:42 nemo_logging:393] `method_cfg` is deprecated and will be removed in the future. Please use `measure_cfg` instead.\n",
      "[NeMo W 2024-02-09 18:24:42 nemo_logging:393] Re-writing `measure_cfg` with the value of `method_cfg`.\n",
      "[NeMo W 2024-02-09 18:24:42 nemo_logging:393] `temperature` is deprecated and will be removed in the future. Please use `alpha` instead.\n",
      "[NeMo W 2024-02-09 18:24:42 nemo_logging:393] Re-writing `alpha` with the value of `temperature`.\n",
      "[NeMo W 2024-02-09 18:24:42 nemo_logging:393] `method_cfg` is deprecated and will be removed in the future. Please use `measure_cfg` instead.\n",
      "[NeMo W 2024-02-09 18:24:42 nemo_logging:393] Re-writing `measure_cfg` with the value of `method_cfg`.\n",
      "[NeMo W 2024-02-09 18:24:42 nemo_logging:393] `temperature` is deprecated and will be removed in the future. Please use `alpha` instead.\n",
      "[NeMo W 2024-02-09 18:24:42 nemo_logging:393] Re-writing `alpha` with the value of `temperature`.\n"
     ]
    },
    {
     "name": "stdout",
     "output_type": "stream",
     "text": [
      "[NeMo I 2024-02-09 18:24:43 nemo_logging:381] Model EncDecCTCModelBPE was successfully restored from /home/ubuntu/.cache/huggingface/hub/models--nvidia--stt_en_fastconformer_ctc_large/snapshots/42b3eb6bd6f86465f0691f9ea33ddf8f4c5d1c10/stt_en_fastconformer_ctc_large.nemo.\n"
     ]
    }
   ],
   "source": [
    "import nemo.collections.asr as nemo_asr\n",
    "\n",
    "model = nemo_asr.models.ASRModel.from_pretrained(\"nvidia/stt_en_fastconformer_ctc_large\")"
   ]
  },
  {
   "cell_type": "code",
   "execution_count": 2,
   "metadata": {},
   "outputs": [
    {
     "name": "stdout",
     "output_type": "stream",
     "text": [
      "Help on method change_vocabulary in module nemo.collections.asr.models.ctc_bpe_models:\n",
      "\n",
      "change_vocabulary(new_tokenizer_dir: Union[str, omegaconf.dictconfig.DictConfig], new_tokenizer_type: str, decoding_cfg: Optional[omegaconf.dictconfig.DictConfig] = None) method of nemo.collections.asr.models.ctc_bpe_models.EncDecCTCModelBPE instance\n",
      "    Changes vocabulary of the tokenizer used during CTC decoding process.\n",
      "    Use this method when fine-tuning on from pre-trained model.\n",
      "    This method changes only decoder and leaves encoder and pre-processing modules unchanged. For example, you would\n",
      "    use it if you want to use pretrained encoder when fine-tuning on a data in another language, or when you'd need\n",
      "    model to learn capitalization, punctuation and/or special characters.\n",
      "    \n",
      "    Args:\n",
      "        new_tokenizer_dir: Directory path to tokenizer or a config for a new tokenizer (if the tokenizer type is `agg`)\n",
      "        new_tokenizer_type: Either `agg`, `bpe` or `wpe`. `bpe` is used for SentencePiece tokenizers,\n",
      "            whereas `wpe` is used for `BertTokenizer`.\n",
      "        new_tokenizer_cfg: A config for the new tokenizer. if provided, pre-empts the dir and type\n",
      "    \n",
      "    Returns: None\n",
      "\n"
     ]
    }
   ],
   "source": [
    "help(model.change_vocabulary)"
   ]
  },
  {
   "cell_type": "code",
   "execution_count": 3,
   "metadata": {},
   "outputs": [
    {
     "name": "stderr",
     "output_type": "stream",
     "text": [
      "[NeMo W 2024-02-02 12:48:33 modelPT:251] You tried to register an artifact under config key=tokenizer.model_path but an artifact for it has already been registered.\n",
      "[NeMo W 2024-02-02 12:48:33 modelPT:251] You tried to register an artifact under config key=tokenizer.vocab_path but an artifact for it has already been registered.\n",
      "[NeMo W 2024-02-02 12:48:33 modelPT:251] You tried to register an artifact under config key=tokenizer.spe_tokenizer_vocab but an artifact for it has already been registered.\n"
     ]
    },
    {
     "name": "stdout",
     "output_type": "stream",
     "text": [
      "[NeMo I 2024-02-02 12:48:33 mixins:170] Tokenizer SentencePieceTokenizer initialized with 1024 tokens\n",
      "[NeMo I 2024-02-02 12:48:34 ctc_bpe_models:237] \n",
      "    Replacing old number of classes (1024) with new number of classes - 1024\n"
     ]
    },
    {
     "name": "stderr",
     "output_type": "stream",
     "text": [
      "[NeMo W 2024-02-02 12:48:34 asr_confidence_utils:195] `method_cfg` is deprecated and will be removed in the future. Please use `measure_cfg` instead.\n",
      "[NeMo W 2024-02-02 12:48:34 asr_confidence_utils:200] Re-writing `measure_cfg` with the value of `method_cfg`.\n",
      "[NeMo W 2024-02-02 12:48:34 asr_confidence_utils:95] `temperature` is deprecated and will be removed in the future. Please use `alpha` instead.\n",
      "[NeMo W 2024-02-02 12:48:34 asr_confidence_utils:100] Re-writing `alpha` with the value of `temperature`.\n"
     ]
    },
    {
     "name": "stdout",
     "output_type": "stream",
     "text": [
      "[NeMo I 2024-02-02 12:48:34 ctc_bpe_models:279] Changed tokenizer to ['<unk>', 'ని', '▁ప', '▁మ', '్ర', 'న్', 'ర్', '▁క', 'స్', '▁వ', '▁అ', 'ార', 'ాల', 'ిం', '▁స', '▁చ', 'ది', 'లో', 'క్', 'ను', 'లు', 'రి', 'గా', '్య', 'కు', '▁ఉ', '▁త', '▁ప్ర', 'ట్', 'ించ', 'ండ', '▁ద', 'ారు', 'న్న', 'కి', 'ంట', 'తు', '▁ఇ', 'యు', '▁ఆ', 'ల్', 'ంది', '▁ల', 'యి', 'ాని', '▁ర', '▁చే', 'రు', '▁గ', '▁బ', 'టి', '▁మరి', '▁న', 'ంగా', '▁మరియు', 'ప్', '▁జ', 'ంద', 'డు', 'త్', '▁స్', 'లి', 'ంత', '▁వి', '▁ఎ', 'తి', 'ిన', 'ాయి', 'ార్', 'ానికి', '▁ని', 'ైన', '▁ఒ', 'పు', 'న్ని', 'చ్', 'వి', 'డి', 'ంలో', 'యా', 'డ్', 'ాలు', 'గ్', '▁ఒక', 'ద్', 'చు', 'లా', '▁ను', '▁సం', 'ాత', 'క్క', 'దా', '▁లే', '▁భ', '▁ఈ', '▁లో', 'ాన', 'ింది', 'స్తు', '▁ఉన్న', '్యా', 'డానికి', '▁ట', 'స్త', '▁మీ', 'నే', 'ిక', 'డం', '▁కొ', 'సు', '▁య', '▁సమ', 'దు', 'మైన', 'వు', 'ష్', '▁ఫ', 'లను', '▁చేయ', '▁ఉంట', 'ేశ', '▁హ', 'ప్ప', 'ండి', 'ొక్క', 'ాలా', '▁శ', '▁1', 'ంచ', 'తో', 'క్ష', '▁ఏ', '▁చాలా', 'గి', '్వ', '▁యొక్క', 'సి', 'కో', 'టు', '▁లేదా', '్రా', '▁సా', 'కా', 'ూడ', '▁వే', 'గు', 'ారి', '▁ము', 'ాల్', 'మి', 'వా', 'యో', 'ళ్', 'చ్చ', 'ందు', 'ెం', 'ింగ్', 'పో', 'క్కు', 'బ్', '▁కు', 'ారం', 'యం', '▁కా', 'ారణ', '▁అనే', '▁2', '▁వా', '▁ఇది', '్రి', '▁గు', 'బడ', 'రించ', 'ద్ద', 'ాలను', '▁నుండి', 'మా', 'మ్', 'త్త', '▁చె', '▁కో', 'ప్పు', 'వే', 'సర', '▁ఉండ', '▁వె', 'చ్చు', 'క్కువ', '▁వ్య', '▁పరి', '▁స్థ', 'కీ', 'పి', '▁ఉంటు', '▁మీరు', 'రో', 'ంటే', 'యన్', 'ము', '▁చి', 'ాడు', '▁ఇం', '▁కలి', '00', 'ట్ట', 'ంటి', '▁అత', '▁డ', 'ండ్', 'ట్లు', '▁ప్రా', '▁ఉంటుంది', 'పై', '▁తీ', 'వచ్చు', 'స్తుంది', 'ావ', 'లకు', 'ల్ల', 'ద్ధ', '▁కూడ', 'స్థ', '▁తె', '▁ద్వ', 'ష్ట', '▁ఉప', '▁కూడా', 'రణ', '▁రె', 'స్ట', 'ప్పటి', '▁అవ', 'గించ', 'లే', 'ధ్య', '▁మొ', '▁చేస', 'ప్పుడు', 'ాయ', 'ాన్ని', 'సం', '్రమ', '▁దేశ', '▁ఉంది', 'వాత', '▁నిర్', '▁అని', 'షన్', '▁రో', 'త్ర', 'తే', '▁ఎక్కువ', 'నా', '▁మార్', '▁పి', 'రా', '▁స్ట', 'నీ', '▁\"', '▁(', '▁మా', 'ంప', 'రకు', 'ారా', '▁నే', 'ాగ', 'కోవ', '▁అను', '▁సాధ', '▁పో', '▁అయి', 'డ్డ', 'ూర్', '▁దాని', 'న్నారు', '▁ఇంకా', '▁కే', '▁ఉపయో', 'జు', '▁అధ', '▁గా', '▁రా', 'ాలలో', 'ంధ', 'ాన్', '▁మి', 'చి', 'ర్శ', 'ెట్', '▁పా', '్రీ', '▁సు', 'లలో', '▁వచ్చ', 'ీని', 'చే', 'ెన్', '▁లు', '▁కొన్ని', 'ంగ', 'తుంది', 'టీ', '▁పొ', '▁రెండ', 'గర', 'టర్', 'ాలో', '▁తర', '▁వారి', '▁ద్వారా', 'ండా', 'ాలి', '▁వై', '▁సి', '▁అధిక', 'ంచి', 'వర్', '▁పె', '▁పే', '▁అంత', '▁కలిగి', '▁లా', 'ెంట్', '▁ప్రక', 'ారణంగా', '▁ప్రాంత', 'పడ', 'రీ', '▁ఓ', '▁యు', 'ించిన', '▁ప్రతి', 'జి', 'సా', 'ప్పటికీ', 'కే', '▁రి', 'ించడానికి', '▁దా', '▁మంది', 'బంధ', '▁ప్రద', 'కొ', '▁ఇత', '▁నా', 'యంలో', 'నం', 'పా', '▁బా', 'తం', 'తా', '▁పు', '▁మొద', '▁అవసర', 'ానీ', 'సుకు', 'లీ', 'కాల', 'ఖ్య', 'ద్ర', 'ద్య', 'ర్థ', 'తాయి', '▁సంబంధ', '▁ఉంటాయి', 'ంతో', 'ధాన', '▁తి', '▁వీ', '▁తరు', '▁అనేక', '▁కోసం', '▁ప్రభ', '▁వ్యక్', 'ఫ్', 'ోట', 'ళ్ళ', 'వత్', 'ెస్', '్రే', '▁ఆధ', 'బడ్డ', '▁ఐ', 'స్క', '▁వారు', 'స్తాయి', '▁తరువాత', '▁ఉపయోగించ', 'మీ', '▁స్వ', 'కుండా', 'వత్సర', '▁అతను', '▁తెలి', '▁ఇతర', '▁కానీ', '▁వాటి', 'గిన', '▁తన', '▁సె', '▁కార్', 'ించారు', 'స్తున్న', '▁ఉన్నాయి', 'రే', 'వం', 'సిన', '▁దీని', 'ాల్లో', '▁చిన్న', 'మే', 'లతో', 'కరించ', 'బడింది', '్యూ', '▁పర్', '▁ఖ', '▁పై', '▁భా', 'ించే', '▁సంవత్సర', 'గే', 'యాణ', '▁భూ', 'స్తారు', 'జ్', '▁ధ', 'ంచు', '▁తో', 'రుగు', '▁ప్రయాణ', 'మె', '▁మె', 'ట్లా', 'రిగి', '▁జరి', '▁పని', '▁అనేది', 'ైనా', '▁కి', 'న్స్', '▁సంద', '▁మధ్య', '▁రోజు', '▁వ్యా', 'గొ', '▁సై', 'ాలకు', 'ీప', '▁3', '▁క్', 'చుగా', 'తులు', '▁తరచుగా', 'త్య', 'ర్మ', 'ెల్', '▁చూ', '▁మాత', 'భి', 'హి', 'న్య', '▁కాల', 'తున్న', '▁కంటే', '▁వ్యవ', '▁ష', '▁మూ', 'కులు', '▁నగర', '▁ముందు', '▁పద', '▁ట్రా', '▁చేసిన', '▁నుంచి', '▁ప్రారం', '▁సమయంలో', 'ంబ', 'జీ', '▁యా', '▁చేశ', '▁ప్రజ', '▁ప్రప', '▁తిరిగి', '▁ప్రారంభ', '▁సాధారణంగా', 'ృతి', 'సుకోవ', '▁ఉండే', 'కర్', 'ోర్', '▁డి', '▁సహ', 'తంగా', 'ల్లో', 'రించి', 'ించింది', 'గల', 'ీయ', 'మాన', '్యం', 'ాలని', '▁స్ప', '▁చెప్ప', '▁ప్రపంచ', 'ెడ్', '▁జీ', '▁కను', 'రం', 'వ్', 'బ్ద', 'మాణ', '▁మర', 'ందని', 'క్షి', '్రమే', '▁లను', '▁లోని', '▁వరకు', '▁మాత్రమే', 'డే', 'ళ్ల', 'ాను', '▁ది', 'క్స్', '▁చూడ', 'లాండ్', '▁అయిన', '▁వంటి', '▁అన్ని', '▁అయితే', '▁మొదటి', '▁ప్రధాన', 'ింద', '▁19', '▁నీ', 'ట్టి', '▁అవి', '▁వర్', 'లియన్', 'ధి', 'లం', 'రిక', '▁తే', '▁సూ', '▁వల్ల', 'శా', 'సన', 'ంతు', 'యత్', 'ుత్', 'ులు', '▁యూ', '▁శా', '▁అత్య', 'బడ్డాయి', '▁మాట్లా', 'మో', '▁అద', 'వులు', 'ానిక', '▁అవసరం', '▁ప్రమా', '▁ప్రత్య', '▁చేయడానికి', 'an', 'ంగ్', 'ట్ల', 'య్య', '▁గత', '▁అతి', 'ించడం', '▁గుర్', 'టానికి', '▁తక్కువ', '▁గురించి', 'జన్', 'స్య', '్రం', '▁20', '▁తమ', 'ట్టు', '▁విష', 'ెక్', '్రై', '▁తర్', '▁ఉత్త', '▁పెద్ద', '▁తర్వాత', 'ేక', '▁రే', 'క్కడ', 'తారు', '▁కని', '▁భాష', '▁విధ', '▁అందు', '▁పనిచే', '▁విమాన', '▁ప్రమాద', 'గం', 'గో', 'టం', 'బు', 'వీ', 'బర్', '్రో', '▁పడ', '▁200', '▁కొత్త', 'సీ', '▁దృ', 'ందిన', 'లేదు', 'ాతీయ', '▁ఏర్', '▁ద్వీప', '▁ప్రయత్', '▁ప్రదర్శ', 'టన', '▁అల', '▁నె', '▁వేగ', '▁స్టే', '▁చేయడం', '▁అధికారు', 'కర', 'ూల', 'కాశ', 'దేశ', '▁సీ', 'క్షణ', 'ట్స్', 'న్యూ', 'కున్న', '▁చేసే', '▁తెలు', '▁పొంద', '▁కనుగొ', '▁రెండు', '▁ప్రదేశ', '▁స్థానిక', '▁దూ', '▁బి', '▁హా', 'ర్చు', '▁అంద', '▁సమా', '▁న్యూ', '▁సంస్థ', 'డుతుంది', '▁తీసుకు', '▁సందర్శ', 'పె', 'పోయ', 'యర్', 'ోన్', 'ోల్', '▁చు', '▁జా', '▁వల', 'యాలు', 'వారం', 'ించి', '▁అభి', '▁అలా', '▁గ్ర', 'ంలోని', '▁అనుమ', '▁చట్ట', '▁నీటి', '▁బ్యా', '▁సంస్క', '▁సమస్య', '▁ప్రత్యేక', 'ణా', 'ణు', 'షి', 'జర్', 'ార్థ', '▁ఆర్', '▁పూర్', '▁యుద్ధ', '▁చేశారు', '▁ప్రభుత్', '▁వ్యవస్థ', '▁ఎక్కువగా', 'హం', '▁u', 'మని', 'విధ', '▁మే', '▁శి', 'త్తు', 'బడిన', '▁ఆరో', '▁విజ', '▁శతా', '▁ఇచ్చ', '▁జంతు', '▁కొరకు', '▁దక్షి', '▁శతాబ్ద', '▁చేస్తుంది', 'లభ', 'హు', '▁4', '▁a', 'డర్', 'త్మ', 'ైన్', '▁ఆఫ', '▁బయ', 'కంగా', 'త్తి', 'లోని', 'ాలతో', '▁భాగ', '▁భార', '▁రాజ', '▁ఆధార', '▁పాటు', 'స్తున్నారు', 'రూ', 'ెన', 'ప్ర', '▁తయ', 'ంద్ర', 'క్తి', 'క్రమ', 'స్థి', '▁కంప', '▁సర్', '▁అర్థ', '▁జర్మ', '▁మంచు', '▁సులభ', '▁అంతర్', 'పర', 'వై', 'ోధ', '▁8', '▁b', '▁m', 'బడి', 'వరి', 'ాక్', 'ింత', 'కంటే', '▁సరి', 'తులను', '▁ఎందు', '▁మరింత', '▁ముఖ్య', '▁దక్షిణ', '▁సంవత్సరాల', 'టో', 'తూ', '▁c', 'ంటు', 'భ్య', '్రె', '▁తా', '▁రూ', '▁సో', 'స్ట్', 'ౌండ్', '▁గంట', '▁రాత', '▁సము', '▁అంది', '▁పరిశ', '▁పార్', '▁వెళ్', '▁తెలిప', '▁చెందిన', '▁మిలియన్', 'ేవ', 'ైట', 'పడి', 'యాట', 'వంత', 'వడం', 'ుని', 'ెలి', '▁బు', 'యంగా', 'యిర్', '▁మరో', '▁మాన', '▁పిలు', '▁భూమి', '▁ఉత్తర', '▁విద్య', '▁పర్యాట', '▁వచ్చిన', '▁సముద్ర', '▁పరిస్థి', 'జా', 'బా', 'మ్మ', 'లిం', '▁కల', 'మారు', 'ర్కొ', 'సులు', '▁నిర', '▁క్యా', 'యాన్ని', 'ించాడు', 'ర్య', 'లపై', '▁10', '▁మన', 'ంటర్', 'దాపు', '▁అమె', '▁ఎలా', '▁చరి', 'ాలోని', 'ాల్సి', '▁నివే', '▁వైపు', '▁స్థి', '▁రెండవ', 'సుకోవడం', '▁చరిత్ర', '▁సాధారణ', '▁చేసింది', '▁ప్రయత్ని', 'పొ', 'ఫి', 'యన', 'షణ', '▁s', 'రల్', 'ెర్', '▁తు', '▁బల', 'లుగా', 'ాతావ', 'ించు', '▁201', '▁అవు', '▁వద్ద', '▁సమయం', 'ాతావరణ', '▁పిల్ల', '▁జరిగిన', '▁సుమారు', '▁లేకుండా', '▁వాతావరణ', 'టా', 'బ్బ', 'ర్భ', 'వ్వ', 'ారో', 'డియో', 'తమైన', 'దారు', 'న్ను', 'ప్రా', 'యితే', 'ష్టం', '▁ఆఫ్', '▁ఉత్', '▁దగ్', 'ంటారు', '▁కాదు', '▁చేరు', '▁నగరం', '▁మంచి', '▁తయారు', '▁మొత్త', '▁వచ్చే', '▁దాదాపు', '▁పూర్తి', '▁రాత్రి', '▁వాటిని', '▁కారణంగా', '▁ప్రకారం', '▁వ్యక్తి', 'ించబడింది', '.\"', 'కం', 'తన', 'నల్', 'లిక', 'వేశ', '▁గొ', '▁రై', 'ద్దు', 'ద్ధి', 'పోయి', 'పోర్', 'సుకో', '▁నియ', '▁బహు', 'గింది', 'లింపి', '▁గుర్త', '▁విస్త', '▁', '్', 'ి', 'ా', 'ు', 'ర', 'న', 'ం', 'ల', 'క', 'త', 'ప', 'వ', 'స', 'య', 'ద', 'మ', 'ట', 'చ', 'డ', 'ే', 'ో', 'గ', '.', 'ీ', 'అ', 'ె', ',', 'బ', 'జ', 'ై', 'ఉ', 'ూ', 'ధ', 'ొ', 'ష', 'శ', 'ణ', 'ఇ', 'ఆ', 'భ', 'హ', 'ఎ', 'ఫ', 'థ', 'ఒ', '0', 'ళ', '1', 'ఈ', '\"', 'a', 'ృ', 'ఏ', '2', 'ఖ', 'ౌ', 's', 'e', 'i', '౦', 'r', 'o', '9', 'n', '-', '3', 'u', 't', '(', ')', '4', '5', 'l', '8', 'm', '6', 'c', 'ఓ', 'h', '7', 'ఐ', 'ఘ', 'g', 'd', 'p', 'b', 'f', ':', 'ఛ', 'k', 'y', \"'\", '/', 'w', ';', 'ఊ', 'v', 'ఞ', 'ఠ', '?', 'z', 'j', 'ఢ', '!', '$', '%', 'x', 'ఔ', '–', '”', 'q', '+', '°', 'õ', 'ç', '“', 'ః', 'ఋ', '—', '‘', '’'] vocabulary.\n"
     ]
    }
   ],
   "source": [
    "model.change_vocabulary(new_tokenizer_dir='resources/tokenizer_spe_bpe_v1024', new_tokenizer_type='bpe')"
   ]
  },
  {
   "cell_type": "code",
   "execution_count": 2,
   "metadata": {},
   "outputs": [],
   "source": [
    "import os\n",
    "import glob\n",
    "import subprocess\n",
    "import tarfile\n",
    "import wget\n",
    "import copy\n",
    "from omegaconf import OmegaConf, open_dict"
   ]
  },
  {
   "cell_type": "code",
   "execution_count": 3,
   "metadata": {},
   "outputs": [],
   "source": [
    "import copy\n",
    "cfg = copy.deepcopy(model.cfg)"
   ]
  },
  {
   "cell_type": "code",
   "execution_count": 4,
   "metadata": {},
   "outputs": [
    {
     "data": {
      "text/plain": [
       "1024"
      ]
     },
     "execution_count": 4,
     "metadata": {},
     "output_type": "execute_result"
    }
   ],
   "source": [
    "len(cfg.decoder.vocabulary)"
   ]
  },
  {
   "cell_type": "code",
   "execution_count": 5,
   "metadata": {},
   "outputs": [],
   "source": [
    "model.cfg.optim.lr = 0.0005\n"
   ]
  },
  {
   "cell_type": "code",
   "execution_count": 10,
   "metadata": {},
   "outputs": [],
   "source": [
    "model.cfg.optim.sched.min_lr = 0.00003"
   ]
  },
  {
   "cell_type": "code",
   "execution_count": 11,
   "metadata": {},
   "outputs": [],
   "source": [
    "with open_dict(cfg):\n",
    "    cfg.train_ds.manifest_filepath = 'resources/final_te_manifests/train_manifest.json'\n",
    "    cfg.test_ds.manifest_filepath = 'resources/final_te_manifests/test_manifest.json'\n",
    "    cfg.validation_ds.manifest_filepath = 'resources/final_te_manifests/dev_manifest.json'\n",
    "    cfg.optim.lr = 0.0005\n",
    "    cfg.optim.sched.min_lr = 0.000001\n",
    "    cfg.batch_size=19\n",
    "    cfg.train_ds.batch_size=19\n",
    "    cfg.test_ds.batch_size=19\n",
    "    cfg.validation_ds.batch_size=19\n",
    "    "
   ]
  },
  {
   "cell_type": "code",
   "execution_count": null,
   "metadata": {},
   "outputs": [],
   "source": [
    "model.setup_training_data(cfg.train_ds)\n",
    "model.setup_multiple_validation_data(cfg.validation_ds)\n",
    "model.setup_multiple_test_data(cfg.test_ds)"
   ]
  },
  {
   "cell_type": "code",
   "execution_count": 12,
   "metadata": {},
   "outputs": [],
   "source": [
    "model.cfg = cfg"
   ]
  },
  {
   "cell_type": "code",
   "execution_count": 14,
   "metadata": {},
   "outputs": [
    {
     "data": {
      "text/plain": [
       "{'name': 'adamw', 'lr': 0.0005, 'betas': [0.9, 0.98], 'weight_decay': 0.001, 'sched': {'name': 'CosineAnnealing', 'warmup_steps': 15000, 'warmup_ratio': None, 'min_lr': 1e-06}}"
      ]
     },
     "execution_count": 14,
     "metadata": {},
     "output_type": "execute_result"
    }
   ],
   "source": [
    "model.cfg.optim"
   ]
  },
  {
   "cell_type": "code",
   "execution_count": 144,
   "metadata": {},
   "outputs": [
    {
     "data": {
      "text/plain": [
       "{'name': 'FastConformer-CTC-BPE', 'model': {'sample_rate': 16000, 'log_prediction': True, 'ctc_reduction': 'mean_volume', 'skip_nan_grad': False, 'train_ds': {'manifest_filepath': 'resources/final_te_manifests/train_manifest.json', 'sample_rate': 16000, 'batch_size': 19, 'shuffle': True, 'num_workers': 8, 'pin_memory': True, 'use_start_end_token': False, 'trim_silence': False, 'max_duration': 20, 'min_duration': 0.1, 'is_tarred': False, 'tarred_audio_filepaths': None, 'shuffle_n': 2048, 'bucketing_strategy': 'fully_randomized', 'bucketing_batch_size': None}, 'validation_ds': {'manifest_filepath': 'resources/final_te_manifests/dev_manifest.json', 'sample_rate': 16000, 'batch_size': 19, 'shuffle': False, 'num_workers': 8, 'pin_memory': True, 'use_start_end_token': False, 'max_duration': 20}, 'test_ds': {'manifest_filepath': 'resources/final_te_manifests/test_manifest.json', 'sample_rate': 16000, 'batch_size': 19, 'shuffle': False, 'num_workers': 8, 'pin_memory': True, 'use_start_end_token': False}, 'tokenizer': {'dir': 'resources/tokenizer_spe_bpe_v1024', 'type': 'bpe', 'model_path': '/home/ubuntu/users/bharath/resources/tokenizer_spe_bpe_v1024/tokenizer.model', 'vocab_path': '/home/ubuntu/users/bharath/resources/tokenizer_spe_bpe_v1024/vocab.txt', 'spe_tokenizer_vocab': '/home/ubuntu/users/bharath/resources/tokenizer_spe_bpe_v1024/tokenizer.vocab'}, 'preprocessor': {'_target_': 'nemo.collections.asr.modules.AudioToMelSpectrogramPreprocessor', 'sample_rate': 16000, 'normalize': 'per_feature', 'window_size': 0.025, 'window_stride': 0.01, 'window': 'hann', 'features': 80, 'n_fft': 512, 'log': True, 'frame_splicing': 1, 'dither': 1e-05, 'pad_to': 0, 'pad_value': 0.0}, 'spec_augment': {'_target_': 'nemo.collections.asr.modules.SpectrogramAugmentation', 'freq_masks': 2, 'time_masks': 10, 'freq_width': 27, 'time_width': 0.05}, 'encoder': {'_target_': 'nemo.collections.asr.modules.ConformerEncoder', 'feat_in': 80, 'feat_out': -1, 'n_layers': 18, 'd_model': 512, 'subsampling': 'dw_striding', 'subsampling_factor': 8, 'subsampling_conv_channels': 256, 'causal_downsampling': False, 'ff_expansion_factor': 4, 'self_attention_model': 'rel_pos', 'n_heads': 8, 'att_context_size': [-1, -1], 'att_context_style': 'regular', 'xscaling': True, 'untie_biases': True, 'pos_emb_max_len': 5000, 'conv_kernel_size': 9, 'conv_norm_type': 'batch_norm', 'conv_context_size': None, 'dropout': 0.1, 'dropout_pre_encoder': 0.1, 'dropout_emb': 0.0, 'dropout_att': 0.1}, 'decoder': {'_target_': 'nemo.collections.asr.modules.ConvASRDecoder', 'feat_in': 512, 'num_classes': 1024, 'vocabulary': ['<unk>', 'ని', '▁ప', '▁మ', '్ర', 'న్', 'ర్', '▁క', 'స్', '▁వ', '▁అ', 'ార', 'ాల', 'ిం', '▁స', '▁చ', 'ది', 'లో', 'క్', 'ను', 'లు', 'రి', 'గా', '్య', 'కు', '▁ఉ', '▁త', '▁ప్ర', 'ట్', 'ించ', 'ండ', '▁ద', 'ారు', 'న్న', 'కి', 'ంట', 'తు', '▁ఇ', 'యు', '▁ఆ', 'ల్', 'ంది', '▁ల', 'యి', 'ాని', '▁ర', '▁చే', 'రు', '▁గ', '▁బ', 'టి', '▁మరి', '▁న', 'ంగా', '▁మరియు', 'ప్', '▁జ', 'ంద', 'డు', 'త్', '▁స్', 'లి', 'ంత', '▁వి', '▁ఎ', 'తి', 'ిన', 'ాయి', 'ార్', 'ానికి', '▁ని', 'ైన', '▁ఒ', 'పు', 'న్ని', 'చ్', 'వి', 'డి', 'ంలో', 'యా', 'డ్', 'ాలు', 'గ్', '▁ఒక', 'ద్', 'చు', 'లా', '▁ను', '▁సం', 'ాత', 'క్క', 'దా', '▁లే', '▁భ', '▁ఈ', '▁లో', 'ాన', 'ింది', 'స్తు', '▁ఉన్న', '్యా', 'డానికి', '▁ట', 'స్త', '▁మీ', 'నే', 'ిక', 'డం', '▁కొ', 'సు', '▁య', '▁సమ', 'దు', 'మైన', 'వు', 'ష్', '▁ఫ', 'లను', '▁చేయ', '▁ఉంట', 'ేశ', '▁హ', 'ప్ప', 'ండి', 'ొక్క', 'ాలా', '▁శ', '▁1', 'ంచ', 'తో', 'క్ష', '▁ఏ', '▁చాలా', 'గి', '్వ', '▁యొక్క', 'సి', 'కో', 'టు', '▁లేదా', '్రా', '▁సా', 'కా', 'ూడ', '▁వే', 'గు', 'ారి', '▁ము', 'ాల్', 'మి', 'వా', 'యో', 'ళ్', 'చ్చ', 'ందు', 'ెం', 'ింగ్', 'పో', 'క్కు', 'బ్', '▁కు', 'ారం', 'యం', '▁కా', 'ారణ', '▁అనే', '▁2', '▁వా', '▁ఇది', '్రి', '▁గు', 'బడ', 'రించ', 'ద్ద', 'ాలను', '▁నుండి', 'మా', 'మ్', 'త్త', '▁చె', '▁కో', 'ప్పు', 'వే', 'సర', '▁ఉండ', '▁వె', 'చ్చు', 'క్కువ', '▁వ్య', '▁పరి', '▁స్థ', 'కీ', 'పి', '▁ఉంటు', '▁మీరు', 'రో', 'ంటే', 'యన్', 'ము', '▁చి', 'ాడు', '▁ఇం', '▁కలి', '00', 'ట్ట', 'ంటి', '▁అత', '▁డ', 'ండ్', 'ట్లు', '▁ప్రా', '▁ఉంటుంది', 'పై', '▁తీ', 'వచ్చు', 'స్తుంది', 'ావ', 'లకు', 'ల్ల', 'ద్ధ', '▁కూడ', 'స్థ', '▁తె', '▁ద్వ', 'ష్ట', '▁ఉప', '▁కూడా', 'రణ', '▁రె', 'స్ట', 'ప్పటి', '▁అవ', 'గించ', 'లే', 'ధ్య', '▁మొ', '▁చేస', 'ప్పుడు', 'ాయ', 'ాన్ని', 'సం', '్రమ', '▁దేశ', '▁ఉంది', 'వాత', '▁నిర్', '▁అని', 'షన్', '▁రో', 'త్ర', 'తే', '▁ఎక్కువ', 'నా', '▁మార్', '▁పి', 'రా', '▁స్ట', 'నీ', '▁\"', '▁(', '▁మా', 'ంప', 'రకు', 'ారా', '▁నే', 'ాగ', 'కోవ', '▁అను', '▁సాధ', '▁పో', '▁అయి', 'డ్డ', 'ూర్', '▁దాని', 'న్నారు', '▁ఇంకా', '▁కే', '▁ఉపయో', 'జు', '▁అధ', '▁గా', '▁రా', 'ాలలో', 'ంధ', 'ాన్', '▁మి', 'చి', 'ర్శ', 'ెట్', '▁పా', '్రీ', '▁సు', 'లలో', '▁వచ్చ', 'ీని', 'చే', 'ెన్', '▁లు', '▁కొన్ని', 'ంగ', 'తుంది', 'టీ', '▁పొ', '▁రెండ', 'గర', 'టర్', 'ాలో', '▁తర', '▁వారి', '▁ద్వారా', 'ండా', 'ాలి', '▁వై', '▁సి', '▁అధిక', 'ంచి', 'వర్', '▁పె', '▁పే', '▁అంత', '▁కలిగి', '▁లా', 'ెంట్', '▁ప్రక', 'ారణంగా', '▁ప్రాంత', 'పడ', 'రీ', '▁ఓ', '▁యు', 'ించిన', '▁ప్రతి', 'జి', 'సా', 'ప్పటికీ', 'కే', '▁రి', 'ించడానికి', '▁దా', '▁మంది', 'బంధ', '▁ప్రద', 'కొ', '▁ఇత', '▁నా', 'యంలో', 'నం', 'పా', '▁బా', 'తం', 'తా', '▁పు', '▁మొద', '▁అవసర', 'ానీ', 'సుకు', 'లీ', 'కాల', 'ఖ్య', 'ద్ర', 'ద్య', 'ర్థ', 'తాయి', '▁సంబంధ', '▁ఉంటాయి', 'ంతో', 'ధాన', '▁తి', '▁వీ', '▁తరు', '▁అనేక', '▁కోసం', '▁ప్రభ', '▁వ్యక్', 'ఫ్', 'ోట', 'ళ్ళ', 'వత్', 'ెస్', '్రే', '▁ఆధ', 'బడ్డ', '▁ఐ', 'స్క', '▁వారు', 'స్తాయి', '▁తరువాత', '▁ఉపయోగించ', 'మీ', '▁స్వ', 'కుండా', 'వత్సర', '▁అతను', '▁తెలి', '▁ఇతర', '▁కానీ', '▁వాటి', 'గిన', '▁తన', '▁సె', '▁కార్', 'ించారు', 'స్తున్న', '▁ఉన్నాయి', 'రే', 'వం', 'సిన', '▁దీని', 'ాల్లో', '▁చిన్న', 'మే', 'లతో', 'కరించ', 'బడింది', '్యూ', '▁పర్', '▁ఖ', '▁పై', '▁భా', 'ించే', '▁సంవత్సర', 'గే', 'యాణ', '▁భూ', 'స్తారు', 'జ్', '▁ధ', 'ంచు', '▁తో', 'రుగు', '▁ప్రయాణ', 'మె', '▁మె', 'ట్లా', 'రిగి', '▁జరి', '▁పని', '▁అనేది', 'ైనా', '▁కి', 'న్స్', '▁సంద', '▁మధ్య', '▁రోజు', '▁వ్యా', 'గొ', '▁సై', 'ాలకు', 'ీప', '▁3', '▁క్', 'చుగా', 'తులు', '▁తరచుగా', 'త్య', 'ర్మ', 'ెల్', '▁చూ', '▁మాత', 'భి', 'హి', 'న్య', '▁కాల', 'తున్న', '▁కంటే', '▁వ్యవ', '▁ష', '▁మూ', 'కులు', '▁నగర', '▁ముందు', '▁పద', '▁ట్రా', '▁చేసిన', '▁నుంచి', '▁ప్రారం', '▁సమయంలో', 'ంబ', 'జీ', '▁యా', '▁చేశ', '▁ప్రజ', '▁ప్రప', '▁తిరిగి', '▁ప్రారంభ', '▁సాధారణంగా', 'ృతి', 'సుకోవ', '▁ఉండే', 'కర్', 'ోర్', '▁డి', '▁సహ', 'తంగా', 'ల్లో', 'రించి', 'ించింది', 'గల', 'ీయ', 'మాన', '్యం', 'ాలని', '▁స్ప', '▁చెప్ప', '▁ప్రపంచ', 'ెడ్', '▁జీ', '▁కను', 'రం', 'వ్', 'బ్ద', 'మాణ', '▁మర', 'ందని', 'క్షి', '్రమే', '▁లను', '▁లోని', '▁వరకు', '▁మాత్రమే', 'డే', 'ళ్ల', 'ాను', '▁ది', 'క్స్', '▁చూడ', 'లాండ్', '▁అయిన', '▁వంటి', '▁అన్ని', '▁అయితే', '▁మొదటి', '▁ప్రధాన', 'ింద', '▁19', '▁నీ', 'ట్టి', '▁అవి', '▁వర్', 'లియన్', 'ధి', 'లం', 'రిక', '▁తే', '▁సూ', '▁వల్ల', 'శా', 'సన', 'ంతు', 'యత్', 'ుత్', 'ులు', '▁యూ', '▁శా', '▁అత్య', 'బడ్డాయి', '▁మాట్లా', 'మో', '▁అద', 'వులు', 'ానిక', '▁అవసరం', '▁ప్రమా', '▁ప్రత్య', '▁చేయడానికి', 'an', 'ంగ్', 'ట్ల', 'య్య', '▁గత', '▁అతి', 'ించడం', '▁గుర్', 'టానికి', '▁తక్కువ', '▁గురించి', 'జన్', 'స్య', '్రం', '▁20', '▁తమ', 'ట్టు', '▁విష', 'ెక్', '్రై', '▁తర్', '▁ఉత్త', '▁పెద్ద', '▁తర్వాత', 'ేక', '▁రే', 'క్కడ', 'తారు', '▁కని', '▁భాష', '▁విధ', '▁అందు', '▁పనిచే', '▁విమాన', '▁ప్రమాద', 'గం', 'గో', 'టం', 'బు', 'వీ', 'బర్', '్రో', '▁పడ', '▁200', '▁కొత్త', 'సీ', '▁దృ', 'ందిన', 'లేదు', 'ాతీయ', '▁ఏర్', '▁ద్వీప', '▁ప్రయత్', '▁ప్రదర్శ', 'టన', '▁అల', '▁నె', '▁వేగ', '▁స్టే', '▁చేయడం', '▁అధికారు', 'కర', 'ూల', 'కాశ', 'దేశ', '▁సీ', 'క్షణ', 'ట్స్', 'న్యూ', 'కున్న', '▁చేసే', '▁తెలు', '▁పొంద', '▁కనుగొ', '▁రెండు', '▁ప్రదేశ', '▁స్థానిక', '▁దూ', '▁బి', '▁హా', 'ర్చు', '▁అంద', '▁సమా', '▁న్యూ', '▁సంస్థ', 'డుతుంది', '▁తీసుకు', '▁సందర్శ', 'పె', 'పోయ', 'యర్', 'ోన్', 'ోల్', '▁చు', '▁జా', '▁వల', 'యాలు', 'వారం', 'ించి', '▁అభి', '▁అలా', '▁గ్ర', 'ంలోని', '▁అనుమ', '▁చట్ట', '▁నీటి', '▁బ్యా', '▁సంస్క', '▁సమస్య', '▁ప్రత్యేక', 'ణా', 'ణు', 'షి', 'జర్', 'ార్థ', '▁ఆర్', '▁పూర్', '▁యుద్ధ', '▁చేశారు', '▁ప్రభుత్', '▁వ్యవస్థ', '▁ఎక్కువగా', 'హం', '▁u', 'మని', 'విధ', '▁మే', '▁శి', 'త్తు', 'బడిన', '▁ఆరో', '▁విజ', '▁శతా', '▁ఇచ్చ', '▁జంతు', '▁కొరకు', '▁దక్షి', '▁శతాబ్ద', '▁చేస్తుంది', 'లభ', 'హు', '▁4', '▁a', 'డర్', 'త్మ', 'ైన్', '▁ఆఫ', '▁బయ', 'కంగా', 'త్తి', 'లోని', 'ాలతో', '▁భాగ', '▁భార', '▁రాజ', '▁ఆధార', '▁పాటు', 'స్తున్నారు', 'రూ', 'ెన', 'ప్ర', '▁తయ', 'ంద్ర', 'క్తి', 'క్రమ', 'స్థి', '▁కంప', '▁సర్', '▁అర్థ', '▁జర్మ', '▁మంచు', '▁సులభ', '▁అంతర్', 'పర', 'వై', 'ోధ', '▁8', '▁b', '▁m', 'బడి', 'వరి', 'ాక్', 'ింత', 'కంటే', '▁సరి', 'తులను', '▁ఎందు', '▁మరింత', '▁ముఖ్య', '▁దక్షిణ', '▁సంవత్సరాల', 'టో', 'తూ', '▁c', 'ంటు', 'భ్య', '్రె', '▁తా', '▁రూ', '▁సో', 'స్ట్', 'ౌండ్', '▁గంట', '▁రాత', '▁సము', '▁అంది', '▁పరిశ', '▁పార్', '▁వెళ్', '▁తెలిప', '▁చెందిన', '▁మిలియన్', 'ేవ', 'ైట', 'పడి', 'యాట', 'వంత', 'వడం', 'ుని', 'ెలి', '▁బు', 'యంగా', 'యిర్', '▁మరో', '▁మాన', '▁పిలు', '▁భూమి', '▁ఉత్తర', '▁విద్య', '▁పర్యాట', '▁వచ్చిన', '▁సముద్ర', '▁పరిస్థి', 'జా', 'బా', 'మ్మ', 'లిం', '▁కల', 'మారు', 'ర్కొ', 'సులు', '▁నిర', '▁క్యా', 'యాన్ని', 'ించాడు', 'ర్య', 'లపై', '▁10', '▁మన', 'ంటర్', 'దాపు', '▁అమె', '▁ఎలా', '▁చరి', 'ాలోని', 'ాల్సి', '▁నివే', '▁వైపు', '▁స్థి', '▁రెండవ', 'సుకోవడం', '▁చరిత్ర', '▁సాధారణ', '▁చేసింది', '▁ప్రయత్ని', 'పొ', 'ఫి', 'యన', 'షణ', '▁s', 'రల్', 'ెర్', '▁తు', '▁బల', 'లుగా', 'ాతావ', 'ించు', '▁201', '▁అవు', '▁వద్ద', '▁సమయం', 'ాతావరణ', '▁పిల్ల', '▁జరిగిన', '▁సుమారు', '▁లేకుండా', '▁వాతావరణ', 'టా', 'బ్బ', 'ర్భ', 'వ్వ', 'ారో', 'డియో', 'తమైన', 'దారు', 'న్ను', 'ప్రా', 'యితే', 'ష్టం', '▁ఆఫ్', '▁ఉత్', '▁దగ్', 'ంటారు', '▁కాదు', '▁చేరు', '▁నగరం', '▁మంచి', '▁తయారు', '▁మొత్త', '▁వచ్చే', '▁దాదాపు', '▁పూర్తి', '▁రాత్రి', '▁వాటిని', '▁కారణంగా', '▁ప్రకారం', '▁వ్యక్తి', 'ించబడింది', '.\"', 'కం', 'తన', 'నల్', 'లిక', 'వేశ', '▁గొ', '▁రై', 'ద్దు', 'ద్ధి', 'పోయి', 'పోర్', 'సుకో', '▁నియ', '▁బహు', 'గింది', 'లింపి', '▁గుర్త', '▁విస్త', '▁', '్', 'ి', 'ా', 'ు', 'ర', 'న', 'ం', 'ల', 'క', 'త', 'ప', 'వ', 'స', 'య', 'ద', 'మ', 'ట', 'చ', 'డ', 'ే', 'ో', 'గ', '.', 'ీ', 'అ', 'ె', ',', 'బ', 'జ', 'ై', 'ఉ', 'ూ', 'ధ', 'ొ', 'ష', 'శ', 'ణ', 'ఇ', 'ఆ', 'భ', 'హ', 'ఎ', 'ఫ', 'థ', 'ఒ', '0', 'ళ', '1', 'ఈ', '\"', 'a', 'ృ', 'ఏ', '2', 'ఖ', 'ౌ', 's', 'e', 'i', '౦', 'r', 'o', '9', 'n', '-', '3', 'u', 't', '(', ')', '4', '5', 'l', '8', 'm', '6', 'c', 'ఓ', 'h', '7', 'ఐ', 'ఘ', 'g', 'd', 'p', 'b', 'f', ':', 'ఛ', 'k', 'y', \"'\", '/', 'w', ';', 'ఊ', 'v', 'ఞ', 'ఠ', '?', 'z', 'j', 'ఢ', '!', '$', '%', 'x', 'ఔ', '–', '”', 'q', '+', '°', 'õ', 'ç', '“', 'ః', 'ఋ', '—', '‘', '’']}, 'optim': {'name': 'adamw', 'lr': 0.9, 'betas': [0.9, 0.98], 'weight_decay': 0.001, 'sched': {'name': 'CosineAnnealing', 'warmup_steps': 15000, 'warmup_ratio': None, 'min_lr': 0.0001}}, 'target': 'nemo.collections.asr.models.ctc_bpe_models.EncDecCTCModelBPE', 'nemo_version': '1.13.0rc0', 'decoding': {'strategy': 'greedy', 'preserve_alignments': None, 'compute_timestamps': None, 'word_seperator': ' ', 'ctc_timestamp_type': 'all', 'batch_dim_index': 0, 'greedy': {'preserve_alignments': False, 'compute_timestamps': False, 'preserve_frame_confidence': False, 'confidence_measure_cfg': {'name': 'entropy', 'entropy_type': 'tsallis', 'alpha': 0.33, 'entropy_norm': 'exp', 'temperature': 'DEPRECATED'}, 'confidence_method_cfg': None}, 'beam': {'beam_size': 4, 'search_type': 'default', 'preserve_alignments': False, 'compute_timestamps': False, 'return_best_hypothesis': True, 'beam_alpha': 1.0, 'beam_beta': 0.0, 'kenlm_path': None, 'flashlight_cfg': {'lexicon_path': None, 'boost_path': None, 'beam_size_token': 16, 'beam_threshold': 20.0, 'unk_weight': -inf, 'sil_weight': 0.0}, 'pyctcdecode_cfg': {'beam_prune_logp': -10.0, 'token_min_logp': -5.0, 'prune_history': False, 'hotwords': None, 'hotword_weight': 10.0}}, 'confidence_cfg': {'preserve_frame_confidence': False, 'preserve_token_confidence': False, 'preserve_word_confidence': False, 'exclude_blank': True, 'aggregation': 'min', 'measure_cfg': {'name': 'entropy', 'entropy_type': 'tsallis', 'alpha': 0.33, 'entropy_norm': 'exp', 'temperature': 'DEPRECATED'}, 'method_cfg': {'name': 'entropy', 'entropy_type': 'tsallis', 'temperature': 0.33, 'entropy_norm': 'exp'}}, 'temperature': 1.0}, 'batch_size': 19}, 'trainer': {'devices': -1, 'num_nodes': 1, 'max_epochs': 1000, 'max_steps': -1, 'val_check_interval': 1.0, 'accelerator': 'auto', 'strategy': 'ddp', 'accumulate_grad_batches': 1, 'gradient_clip_val': 0.0, 'precision': 32, 'log_every_n_steps': 10, 'enable_progress_bar': True, 'num_sanity_val_steps': 0, 'check_val_every_n_epoch': 1, 'sync_batchnorm': True, 'enable_checkpointing': False, 'logger': False, 'benchmark': False}, 'exp_manager': {'exp_dir': None, 'name': '${name}', 'create_tensorboard_logger': True, 'create_checkpoint_callback': True, 'checkpoint_callback_params': {'monitor': 'val_wer', 'mode': 'min', 'save_top_k': 5, 'always_save_nemo': True}, 'resume_from_checkpoint': None, 'resume_if_exists': False, 'resume_ignore_no_checkpoint': False, 'create_wandb_logger': False, 'wandb_logger_kwargs': {'name': None, 'project': None}}}"
      ]
     },
     "execution_count": 144,
     "metadata": {},
     "output_type": "execute_result"
    }
   ],
   "source": [
    "# open a yaml file via omegaconf\n",
    "\n",
    "fast_conformer_config = OmegaConf.load('models/fast-conformer_ctc_bpe.yaml')\n",
    "\n",
    "fast_conformer_config.model = cfg\n",
    "fast_conformer_config"
   ]
  },
  {
   "cell_type": "code",
   "execution_count": 145,
   "metadata": {},
   "outputs": [],
   "source": [
    "OmegaConf.save(fast_conformer_config, 'models/fast-conformer_ctc_bpe.yaml')"
   ]
  },
  {
   "cell_type": "code",
   "execution_count": 10,
   "metadata": {},
   "outputs": [
    {
     "name": "stderr",
     "output_type": "stream",
     "text": [
      "[NeMo W 2024-01-30 16:22:35 nemo_logging:349] /home/ubuntu/.local/lib/python3.10/site-packages/pkg_resources/__init__.py:123: PkgResourcesDeprecationWarning: 1.1build1 is an invalid version and will not be supported in a future release\n",
      "      warnings.warn(\n",
      "    \n",
      "[NeMo W 2024-01-30 16:22:35 nemo_logging:349] /home/ubuntu/.local/lib/python3.10/site-packages/pkg_resources/__init__.py:123: PkgResourcesDeprecationWarning: 0.1.43ubuntu1 is an invalid version and will not be supported in a future release\n",
      "      warnings.warn(\n",
      "    \n",
      "GPU available: True (cuda), used: True\n",
      "TPU available: False, using: 0 TPU cores\n",
      "IPU available: False, using: 0 IPUs\n",
      "HPU available: False, using: 0 HPUs\n"
     ]
    }
   ],
   "source": [
    "import torch\n",
    "import pytorch_lightning as ptl\n",
    "\n",
    "# if torch.cuda.is_available():\n",
    "#   accelerator = 'gpu'\n",
    "# else:\n",
    "#   accelerator = 'cpu'\n",
    "\n",
    "EPOCHS = 8 \n",
    "\n",
    "trainer = ptl.Trainer(devices=1,\n",
    "                      accelerator='gpu',\n",
    "                      max_epochs=EPOCHS,\n",
    "                      enable_checkpointing=True,\n",
    "                      logger=True,\n",
    "                      log_every_n_steps=100,\n",
    "                      check_val_every_n_epoch=1,\n",
    "                    #   strategy = 'ddp_notebook' \n",
    "                      )\n",
    "\n",
    "\n",
    "# Setup model with the trainer\n",
    "model.set_trainer(trainer)\n",
    "\n",
    "# Finally, update the model's internal config\n",
    "model.cfg = model._cfg"
   ]
  },
  {
   "cell_type": "code",
   "execution_count": 12,
   "metadata": {},
   "outputs": [
    {
     "data": {
      "text/plain": [
       "True"
      ]
     },
     "execution_count": 12,
     "metadata": {},
     "output_type": "execute_result"
    }
   ],
   "source": [
    "import torch\n",
    "torch.set_float32_matmul_precision('medium')\n",
    "torch.cuda.is_available()"
   ]
  },
  {
   "cell_type": "code",
   "execution_count": 34,
   "metadata": {},
   "outputs": [
    {
     "name": "stdout",
     "output_type": "stream",
     "text": [
      "{'sample_rate': 16000, 'log_prediction': True, 'ctc_reduction': 'mean_volume', 'skip_nan_grad': False, 'train_ds': {'manifest_filepath': 'resources/final_te_manifests/train_manifest.json', 'sample_rate': 16000, 'batch_size': 19, 'shuffle': True, 'num_workers': 8, 'pin_memory': True, 'use_start_end_token': False, 'trim_silence': False, 'max_duration': 20, 'min_duration': 0.1, 'is_tarred': False, 'tarred_audio_filepaths': None, 'shuffle_n': 2048, 'bucketing_strategy': 'fully_randomized', 'bucketing_batch_size': None}, 'validation_ds': {'manifest_filepath': 'resources/final_te_manifests/dev_manifest.json', 'sample_rate': 16000, 'batch_size': 19, 'shuffle': False, 'num_workers': 8, 'pin_memory': True, 'use_start_end_token': False, 'max_duration': 20}, 'test_ds': {'manifest_filepath': 'resources/final_te_manifests/test_manifest.json', 'sample_rate': 16000, 'batch_size': 19, 'shuffle': False, 'num_workers': 8, 'pin_memory': True, 'use_start_end_token': False}, 'tokenizer': {'dir': 'resources/tokenizer_spe_bpe_v1024', 'type': 'bpe', 'model_path': '/home/ubuntu/users/bharath/resources/tokenizer_spe_bpe_v1024/tokenizer.model', 'vocab_path': '/home/ubuntu/users/bharath/resources/tokenizer_spe_bpe_v1024/vocab.txt', 'spe_tokenizer_vocab': '/home/ubuntu/users/bharath/resources/tokenizer_spe_bpe_v1024/tokenizer.vocab'}, 'preprocessor': {'_target_': 'nemo.collections.asr.modules.AudioToMelSpectrogramPreprocessor', 'sample_rate': 16000, 'normalize': 'per_feature', 'window_size': 0.025, 'window_stride': 0.01, 'window': 'hann', 'features': 80, 'n_fft': 512, 'log': True, 'frame_splicing': 1, 'dither': 1e-05, 'pad_to': 0, 'pad_value': 0.0}, 'spec_augment': {'_target_': 'nemo.collections.asr.modules.SpectrogramAugmentation', 'freq_masks': 2, 'time_masks': 10, 'freq_width': 27, 'time_width': 0.05}, 'encoder': {'_target_': 'nemo.collections.asr.modules.ConformerEncoder', 'feat_in': 80, 'feat_out': -1, 'n_layers': 18, 'd_model': 512, 'subsampling': 'dw_striding', 'subsampling_factor': 8, 'subsampling_conv_channels': 256, 'causal_downsampling': False, 'ff_expansion_factor': 4, 'self_attention_model': 'rel_pos', 'n_heads': 8, 'att_context_size': [-1, -1], 'att_context_style': 'regular', 'xscaling': True, 'untie_biases': True, 'pos_emb_max_len': 5000, 'conv_kernel_size': 9, 'conv_norm_type': 'batch_norm', 'conv_context_size': None, 'dropout': 0.1, 'dropout_pre_encoder': 0.1, 'dropout_emb': 0.0, 'dropout_att': 0.1}, 'decoder': {'_target_': 'nemo.collections.asr.modules.ConvASRDecoder', 'feat_in': 512, 'num_classes': 1024, 'vocabulary': ['<unk>', 'ని', '▁ప', '▁మ', '్ర', 'న్', 'ర్', '▁క', 'స్', '▁వ', '▁అ', 'ార', 'ాల', 'ిం', '▁స', '▁చ', 'ది', 'లో', 'క్', 'ను', 'లు', 'రి', 'గా', '్య', 'కు', '▁ఉ', '▁త', '▁ప్ర', 'ట్', 'ించ', 'ండ', '▁ద', 'ారు', 'న్న', 'కి', 'ంట', 'తు', '▁ఇ', 'యు', '▁ఆ', 'ల్', 'ంది', '▁ల', 'యి', 'ాని', '▁ర', '▁చే', 'రు', '▁గ', '▁బ', 'టి', '▁మరి', '▁న', 'ంగా', '▁మరియు', 'ప్', '▁జ', 'ంద', 'డు', 'త్', '▁స్', 'లి', 'ంత', '▁వి', '▁ఎ', 'తి', 'ిన', 'ాయి', 'ార్', 'ానికి', '▁ని', 'ైన', '▁ఒ', 'పు', 'న్ని', 'చ్', 'వి', 'డి', 'ంలో', 'యా', 'డ్', 'ాలు', 'గ్', '▁ఒక', 'ద్', 'చు', 'లా', '▁ను', '▁సం', 'ాత', 'క్క', 'దా', '▁లే', '▁భ', '▁ఈ', '▁లో', 'ాన', 'ింది', 'స్తు', '▁ఉన్న', '్యా', 'డానికి', '▁ట', 'స్త', '▁మీ', 'నే', 'ిక', 'డం', '▁కొ', 'సు', '▁య', '▁సమ', 'దు', 'మైన', 'వు', 'ష్', '▁ఫ', 'లను', '▁చేయ', '▁ఉంట', 'ేశ', '▁హ', 'ప్ప', 'ండి', 'ొక్క', 'ాలా', '▁శ', '▁1', 'ంచ', 'తో', 'క్ష', '▁ఏ', '▁చాలా', 'గి', '్వ', '▁యొక్క', 'సి', 'కో', 'టు', '▁లేదా', '్రా', '▁సా', 'కా', 'ూడ', '▁వే', 'గు', 'ారి', '▁ము', 'ాల్', 'మి', 'వా', 'యో', 'ళ్', 'చ్చ', 'ందు', 'ెం', 'ింగ్', 'పో', 'క్కు', 'బ్', '▁కు', 'ారం', 'యం', '▁కా', 'ారణ', '▁అనే', '▁2', '▁వా', '▁ఇది', '్రి', '▁గు', 'బడ', 'రించ', 'ద్ద', 'ాలను', '▁నుండి', 'మా', 'మ్', 'త్త', '▁చె', '▁కో', 'ప్పు', 'వే', 'సర', '▁ఉండ', '▁వె', 'చ్చు', 'క్కువ', '▁వ్య', '▁పరి', '▁స్థ', 'కీ', 'పి', '▁ఉంటు', '▁మీరు', 'రో', 'ంటే', 'యన్', 'ము', '▁చి', 'ాడు', '▁ఇం', '▁కలి', '00', 'ట్ట', 'ంటి', '▁అత', '▁డ', 'ండ్', 'ట్లు', '▁ప్రా', '▁ఉంటుంది', 'పై', '▁తీ', 'వచ్చు', 'స్తుంది', 'ావ', 'లకు', 'ల్ల', 'ద్ధ', '▁కూడ', 'స్థ', '▁తె', '▁ద్వ', 'ష్ట', '▁ఉప', '▁కూడా', 'రణ', '▁రె', 'స్ట', 'ప్పటి', '▁అవ', 'గించ', 'లే', 'ధ్య', '▁మొ', '▁చేస', 'ప్పుడు', 'ాయ', 'ాన్ని', 'సం', '్రమ', '▁దేశ', '▁ఉంది', 'వాత', '▁నిర్', '▁అని', 'షన్', '▁రో', 'త్ర', 'తే', '▁ఎక్కువ', 'నా', '▁మార్', '▁పి', 'రా', '▁స్ట', 'నీ', '▁\"', '▁(', '▁మా', 'ంప', 'రకు', 'ారా', '▁నే', 'ాగ', 'కోవ', '▁అను', '▁సాధ', '▁పో', '▁అయి', 'డ్డ', 'ూర్', '▁దాని', 'న్నారు', '▁ఇంకా', '▁కే', '▁ఉపయో', 'జు', '▁అధ', '▁గా', '▁రా', 'ాలలో', 'ంధ', 'ాన్', '▁మి', 'చి', 'ర్శ', 'ెట్', '▁పా', '్రీ', '▁సు', 'లలో', '▁వచ్చ', 'ీని', 'చే', 'ెన్', '▁లు', '▁కొన్ని', 'ంగ', 'తుంది', 'టీ', '▁పొ', '▁రెండ', 'గర', 'టర్', 'ాలో', '▁తర', '▁వారి', '▁ద్వారా', 'ండా', 'ాలి', '▁వై', '▁సి', '▁అధిక', 'ంచి', 'వర్', '▁పె', '▁పే', '▁అంత', '▁కలిగి', '▁లా', 'ెంట్', '▁ప్రక', 'ారణంగా', '▁ప్రాంత', 'పడ', 'రీ', '▁ఓ', '▁యు', 'ించిన', '▁ప్రతి', 'జి', 'సా', 'ప్పటికీ', 'కే', '▁రి', 'ించడానికి', '▁దా', '▁మంది', 'బంధ', '▁ప్రద', 'కొ', '▁ఇత', '▁నా', 'యంలో', 'నం', 'పా', '▁బా', 'తం', 'తా', '▁పు', '▁మొద', '▁అవసర', 'ానీ', 'సుకు', 'లీ', 'కాల', 'ఖ్య', 'ద్ర', 'ద్య', 'ర్థ', 'తాయి', '▁సంబంధ', '▁ఉంటాయి', 'ంతో', 'ధాన', '▁తి', '▁వీ', '▁తరు', '▁అనేక', '▁కోసం', '▁ప్రభ', '▁వ్యక్', 'ఫ్', 'ోట', 'ళ్ళ', 'వత్', 'ెస్', '్రే', '▁ఆధ', 'బడ్డ', '▁ఐ', 'స్క', '▁వారు', 'స్తాయి', '▁తరువాత', '▁ఉపయోగించ', 'మీ', '▁స్వ', 'కుండా', 'వత్సర', '▁అతను', '▁తెలి', '▁ఇతర', '▁కానీ', '▁వాటి', 'గిన', '▁తన', '▁సె', '▁కార్', 'ించారు', 'స్తున్న', '▁ఉన్నాయి', 'రే', 'వం', 'సిన', '▁దీని', 'ాల్లో', '▁చిన్న', 'మే', 'లతో', 'కరించ', 'బడింది', '్యూ', '▁పర్', '▁ఖ', '▁పై', '▁భా', 'ించే', '▁సంవత్సర', 'గే', 'యాణ', '▁భూ', 'స్తారు', 'జ్', '▁ధ', 'ంచు', '▁తో', 'రుగు', '▁ప్రయాణ', 'మె', '▁మె', 'ట్లా', 'రిగి', '▁జరి', '▁పని', '▁అనేది', 'ైనా', '▁కి', 'న్స్', '▁సంద', '▁మధ్య', '▁రోజు', '▁వ్యా', 'గొ', '▁సై', 'ాలకు', 'ీప', '▁3', '▁క్', 'చుగా', 'తులు', '▁తరచుగా', 'త్య', 'ర్మ', 'ెల్', '▁చూ', '▁మాత', 'భి', 'హి', 'న్య', '▁కాల', 'తున్న', '▁కంటే', '▁వ్యవ', '▁ష', '▁మూ', 'కులు', '▁నగర', '▁ముందు', '▁పద', '▁ట్రా', '▁చేసిన', '▁నుంచి', '▁ప్రారం', '▁సమయంలో', 'ంబ', 'జీ', '▁యా', '▁చేశ', '▁ప్రజ', '▁ప్రప', '▁తిరిగి', '▁ప్రారంభ', '▁సాధారణంగా', 'ృతి', 'సుకోవ', '▁ఉండే', 'కర్', 'ోర్', '▁డి', '▁సహ', 'తంగా', 'ల్లో', 'రించి', 'ించింది', 'గల', 'ీయ', 'మాన', '్యం', 'ాలని', '▁స్ప', '▁చెప్ప', '▁ప్రపంచ', 'ెడ్', '▁జీ', '▁కను', 'రం', 'వ్', 'బ్ద', 'మాణ', '▁మర', 'ందని', 'క్షి', '్రమే', '▁లను', '▁లోని', '▁వరకు', '▁మాత్రమే', 'డే', 'ళ్ల', 'ాను', '▁ది', 'క్స్', '▁చూడ', 'లాండ్', '▁అయిన', '▁వంటి', '▁అన్ని', '▁అయితే', '▁మొదటి', '▁ప్రధాన', 'ింద', '▁19', '▁నీ', 'ట్టి', '▁అవి', '▁వర్', 'లియన్', 'ధి', 'లం', 'రిక', '▁తే', '▁సూ', '▁వల్ల', 'శా', 'సన', 'ంతు', 'యత్', 'ుత్', 'ులు', '▁యూ', '▁శా', '▁అత్య', 'బడ్డాయి', '▁మాట్లా', 'మో', '▁అద', 'వులు', 'ానిక', '▁అవసరం', '▁ప్రమా', '▁ప్రత్య', '▁చేయడానికి', 'an', 'ంగ్', 'ట్ల', 'య్య', '▁గత', '▁అతి', 'ించడం', '▁గుర్', 'టానికి', '▁తక్కువ', '▁గురించి', 'జన్', 'స్య', '్రం', '▁20', '▁తమ', 'ట్టు', '▁విష', 'ెక్', '్రై', '▁తర్', '▁ఉత్త', '▁పెద్ద', '▁తర్వాత', 'ేక', '▁రే', 'క్కడ', 'తారు', '▁కని', '▁భాష', '▁విధ', '▁అందు', '▁పనిచే', '▁విమాన', '▁ప్రమాద', 'గం', 'గో', 'టం', 'బు', 'వీ', 'బర్', '్రో', '▁పడ', '▁200', '▁కొత్త', 'సీ', '▁దృ', 'ందిన', 'లేదు', 'ాతీయ', '▁ఏర్', '▁ద్వీప', '▁ప్రయత్', '▁ప్రదర్శ', 'టన', '▁అల', '▁నె', '▁వేగ', '▁స్టే', '▁చేయడం', '▁అధికారు', 'కర', 'ూల', 'కాశ', 'దేశ', '▁సీ', 'క్షణ', 'ట్స్', 'న్యూ', 'కున్న', '▁చేసే', '▁తెలు', '▁పొంద', '▁కనుగొ', '▁రెండు', '▁ప్రదేశ', '▁స్థానిక', '▁దూ', '▁బి', '▁హా', 'ర్చు', '▁అంద', '▁సమా', '▁న్యూ', '▁సంస్థ', 'డుతుంది', '▁తీసుకు', '▁సందర్శ', 'పె', 'పోయ', 'యర్', 'ోన్', 'ోల్', '▁చు', '▁జా', '▁వల', 'యాలు', 'వారం', 'ించి', '▁అభి', '▁అలా', '▁గ్ర', 'ంలోని', '▁అనుమ', '▁చట్ట', '▁నీటి', '▁బ్యా', '▁సంస్క', '▁సమస్య', '▁ప్రత్యేక', 'ణా', 'ణు', 'షి', 'జర్', 'ార్థ', '▁ఆర్', '▁పూర్', '▁యుద్ధ', '▁చేశారు', '▁ప్రభుత్', '▁వ్యవస్థ', '▁ఎక్కువగా', 'హం', '▁u', 'మని', 'విధ', '▁మే', '▁శి', 'త్తు', 'బడిన', '▁ఆరో', '▁విజ', '▁శతా', '▁ఇచ్చ', '▁జంతు', '▁కొరకు', '▁దక్షి', '▁శతాబ్ద', '▁చేస్తుంది', 'లభ', 'హు', '▁4', '▁a', 'డర్', 'త్మ', 'ైన్', '▁ఆఫ', '▁బయ', 'కంగా', 'త్తి', 'లోని', 'ాలతో', '▁భాగ', '▁భార', '▁రాజ', '▁ఆధార', '▁పాటు', 'స్తున్నారు', 'రూ', 'ెన', 'ప్ర', '▁తయ', 'ంద్ర', 'క్తి', 'క్రమ', 'స్థి', '▁కంప', '▁సర్', '▁అర్థ', '▁జర్మ', '▁మంచు', '▁సులభ', '▁అంతర్', 'పర', 'వై', 'ోధ', '▁8', '▁b', '▁m', 'బడి', 'వరి', 'ాక్', 'ింత', 'కంటే', '▁సరి', 'తులను', '▁ఎందు', '▁మరింత', '▁ముఖ్య', '▁దక్షిణ', '▁సంవత్సరాల', 'టో', 'తూ', '▁c', 'ంటు', 'భ్య', '్రె', '▁తా', '▁రూ', '▁సో', 'స్ట్', 'ౌండ్', '▁గంట', '▁రాత', '▁సము', '▁అంది', '▁పరిశ', '▁పార్', '▁వెళ్', '▁తెలిప', '▁చెందిన', '▁మిలియన్', 'ేవ', 'ైట', 'పడి', 'యాట', 'వంత', 'వడం', 'ుని', 'ెలి', '▁బు', 'యంగా', 'యిర్', '▁మరో', '▁మాన', '▁పిలు', '▁భూమి', '▁ఉత్తర', '▁విద్య', '▁పర్యాట', '▁వచ్చిన', '▁సముద్ర', '▁పరిస్థి', 'జా', 'బా', 'మ్మ', 'లిం', '▁కల', 'మారు', 'ర్కొ', 'సులు', '▁నిర', '▁క్యా', 'యాన్ని', 'ించాడు', 'ర్య', 'లపై', '▁10', '▁మన', 'ంటర్', 'దాపు', '▁అమె', '▁ఎలా', '▁చరి', 'ాలోని', 'ాల్సి', '▁నివే', '▁వైపు', '▁స్థి', '▁రెండవ', 'సుకోవడం', '▁చరిత్ర', '▁సాధారణ', '▁చేసింది', '▁ప్రయత్ని', 'పొ', 'ఫి', 'యన', 'షణ', '▁s', 'రల్', 'ెర్', '▁తు', '▁బల', 'లుగా', 'ాతావ', 'ించు', '▁201', '▁అవు', '▁వద్ద', '▁సమయం', 'ాతావరణ', '▁పిల్ల', '▁జరిగిన', '▁సుమారు', '▁లేకుండా', '▁వాతావరణ', 'టా', 'బ్బ', 'ర్భ', 'వ్వ', 'ారో', 'డియో', 'తమైన', 'దారు', 'న్ను', 'ప్రా', 'యితే', 'ష్టం', '▁ఆఫ్', '▁ఉత్', '▁దగ్', 'ంటారు', '▁కాదు', '▁చేరు', '▁నగరం', '▁మంచి', '▁తయారు', '▁మొత్త', '▁వచ్చే', '▁దాదాపు', '▁పూర్తి', '▁రాత్రి', '▁వాటిని', '▁కారణంగా', '▁ప్రకారం', '▁వ్యక్తి', 'ించబడింది', '.\"', 'కం', 'తన', 'నల్', 'లిక', 'వేశ', '▁గొ', '▁రై', 'ద్దు', 'ద్ధి', 'పోయి', 'పోర్', 'సుకో', '▁నియ', '▁బహు', 'గింది', 'లింపి', '▁గుర్త', '▁విస్త', '▁', '్', 'ి', 'ా', 'ు', 'ర', 'న', 'ం', 'ల', 'క', 'త', 'ప', 'వ', 'స', 'య', 'ద', 'మ', 'ట', 'చ', 'డ', 'ే', 'ో', 'గ', '.', 'ీ', 'అ', 'ె', ',', 'బ', 'జ', 'ై', 'ఉ', 'ూ', 'ధ', 'ొ', 'ష', 'శ', 'ణ', 'ఇ', 'ఆ', 'భ', 'హ', 'ఎ', 'ఫ', 'థ', 'ఒ', '0', 'ళ', '1', 'ఈ', '\"', 'a', 'ృ', 'ఏ', '2', 'ఖ', 'ౌ', 's', 'e', 'i', '౦', 'r', 'o', '9', 'n', '-', '3', 'u', 't', '(', ')', '4', '5', 'l', '8', 'm', '6', 'c', 'ఓ', 'h', '7', 'ఐ', 'ఘ', 'g', 'd', 'p', 'b', 'f', ':', 'ఛ', 'k', 'y', \"'\", '/', 'w', ';', 'ఊ', 'v', 'ఞ', 'ఠ', '?', 'z', 'j', 'ఢ', '!', '$', '%', 'x', 'ఔ', '–', '”', 'q', '+', '°', 'õ', 'ç', '“', 'ః', 'ఋ', '—', '‘', '’']}, 'optim': {'name': 'adamw', 'lr': 0.9, 'betas': [0.9, 0.98], 'weight_decay': 0.001, 'sched': {'name': 'CosineAnnealing', 'warmup_steps': 15000, 'warmup_ratio': None, 'min_lr': 0.0001}}, 'target': 'nemo.collections.asr.models.ctc_bpe_models.EncDecCTCModelBPE', 'nemo_version': '1.13.0rc0', 'decoding': {'strategy': 'greedy', 'preserve_alignments': None, 'compute_timestamps': None, 'word_seperator': ' ', 'ctc_timestamp_type': 'all', 'batch_dim_index': 0, 'greedy': {'preserve_alignments': False, 'compute_timestamps': False, 'preserve_frame_confidence': False, 'confidence_measure_cfg': {'name': 'entropy', 'entropy_type': 'tsallis', 'alpha': 0.33, 'entropy_norm': 'exp', 'temperature': 'DEPRECATED'}, 'confidence_method_cfg': None}, 'beam': {'beam_size': 4, 'search_type': 'default', 'preserve_alignments': False, 'compute_timestamps': False, 'return_best_hypothesis': True, 'beam_alpha': 1.0, 'beam_beta': 0.0, 'kenlm_path': None, 'flashlight_cfg': {'lexicon_path': None, 'boost_path': None, 'beam_size_token': 16, 'beam_threshold': 20.0, 'unk_weight': -inf, 'sil_weight': 0.0}, 'pyctcdecode_cfg': {'beam_prune_logp': -10.0, 'token_min_logp': -5.0, 'prune_history': False, 'hotwords': None, 'hotword_weight': 10.0}}, 'confidence_cfg': {'preserve_frame_confidence': False, 'preserve_token_confidence': False, 'preserve_word_confidence': False, 'exclude_blank': True, 'aggregation': 'min', 'measure_cfg': {'name': 'entropy', 'entropy_type': 'tsallis', 'alpha': 0.33, 'entropy_norm': 'exp', 'temperature': 'DEPRECATED'}, 'method_cfg': {'name': 'entropy', 'entropy_type': 'tsallis', 'temperature': 0.33, 'entropy_norm': 'exp'}}, 'temperature': 1.0}, 'batch_size': 19}\n"
     ]
    }
   ],
   "source": [
    "import json\n",
    "print(model._cfg)"
   ]
  },
  {
   "cell_type": "code",
   "execution_count": 30,
   "metadata": {},
   "outputs": [
    {
     "data": {
      "text/html": [
       "\n",
       "                <audio  controls=\"controls\" >\n",
       "                    <source src=\"data:audio/x-wav;base64,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\" type=\"audio/x-wav\" />\n",
       "                    Your browser does not support the audio element.\n",
       "                </audio>\n",
       "              "
      ],
      "text/plain": [
       "<IPython.lib.display.Audio object>"
      ]
     },
     "execution_count": 30,
     "metadata": {},
     "output_type": "execute_result"
    }
   ],
   "source": [
    "import librosa\n",
    "import IPython.display as ipd\n",
    "\n",
    "ipd.Audio(te_ai4bharat[\"file_name\"][6])"
   ]
  },
  {
   "cell_type": "code",
   "execution_count": null,
   "metadata": {},
   "outputs": [],
   "source": [
    "model.transcribe()"
   ]
  },
  {
   "cell_type": "code",
   "execution_count": null,
   "metadata": {},
   "outputs": [],
   "source": [
    "model.transcribe(['resources/newsonair_v5/telugu/Regional-Vijayawada-Telugu-1320-20201128145719/sent_53.wav'])"
   ]
  }
 ],
 "metadata": {
  "kernelspec": {
   "display_name": "Python 3 (ipykernel)",
   "language": "python",
   "name": "python3"
  }
 },
 "nbformat": 4,
 "nbformat_minor": 2
}
